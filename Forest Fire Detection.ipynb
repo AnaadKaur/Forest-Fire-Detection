{
  "cells": [
    {
      "cell_type": "markdown",
      "metadata": {
        "id": "view-in-github",
        "colab_type": "text"
      },
      "source": [
        "<a href=\"https://colab.research.google.com/github/AnaadKaur/Forest-Fire-Detection/blob/main/Forest%20Fire%20Detection.ipynb\" target=\"_parent\"><img src=\"https://colab.research.google.com/assets/colab-badge.svg\" alt=\"Open In Colab\"/></a>"
      ]
    },
    {
      "cell_type": "markdown",
      "metadata": {
        "id": "snJSe0lwmGrE"
      },
      "source": [
        "# Environment setup"
      ]
    },
    {
      "cell_type": "markdown",
      "metadata": {
        "id": "NccqfRtpZuwR"
      },
      "source": [
        "## Run the two cells below for output wrap-around"
      ]
    },
    {
      "cell_type": "code",
      "execution_count": null,
      "metadata": {
        "id": "hjp4eP4gTD3Q"
      },
      "outputs": [],
      "source": [
        "from IPython.display import HTML, display\n",
        "\n",
        "def set_css():\n",
        "  display(HTML('''\n",
        "  <style>\n",
        "    pre {\n",
        "        white-space: pre-wrap;\n",
        "    }\n",
        "  </style>\n",
        "  '''))\n",
        "get_ipython().events.register('pre_run_cell', set_css)"
      ]
    },
    {
      "cell_type": "code",
      "execution_count": null,
      "metadata": {
        "colab": {
          "base_uri": "https://localhost:8080/"
        },
        "id": "rA6a0kJ_vVlx",
        "outputId": "f1a052c2-ed27-4a1d-c0c2-131c4f75c0a7"
      },
      "outputs": [
        {
          "output_type": "display_data",
          "data": {
            "text/plain": [
              "<IPython.core.display.HTML object>"
            ],
            "text/html": [
              "\n",
              "  <style>\n",
              "    pre {\n",
              "        white-space: pre-wrap;\n",
              "    }\n",
              "  </style>\n",
              "  "
            ]
          },
          "metadata": {}
        },
        {
          "output_type": "execute_result",
          "data": {
            "text/plain": [
              "{'CodeCell': {'cm_config': {'lineWrapping': True}}}"
            ]
          },
          "metadata": {},
          "execution_count": 2
        }
      ],
      "source": [
        "from notebook.services.config import ConfigManager\n",
        "c = ConfigManager()\n",
        "c.update('notebook', {\"CodeCell\": {\"cm_config\": {\"lineWrapping\": True}}})"
      ]
    },
    {
      "cell_type": "markdown",
      "metadata": {
        "id": "Y-irbNKunEq_"
      },
      "source": [
        "## Importing libraries"
      ]
    },
    {
      "cell_type": "code",
      "execution_count": null,
      "metadata": {
        "id": "_4-yDqgnzPJv",
        "colab": {
          "base_uri": "https://localhost:8080/"
        },
        "outputId": "38cdb998-b7bf-4b79-bf1f-cfb287e54605"
      },
      "outputs": [
        {
          "output_type": "display_data",
          "data": {
            "text/plain": [
              "<IPython.core.display.HTML object>"
            ],
            "text/html": [
              "\n",
              "  <style>\n",
              "    pre {\n",
              "        white-space: pre-wrap;\n",
              "    }\n",
              "  </style>\n",
              "  "
            ]
          },
          "metadata": {}
        }
      ],
      "source": [
        "import numpy as np\n",
        "import pandas as pd\n",
        "import math\n",
        "import altair as alt\n",
        "from datetime import datetime, timedelta\n",
        "from dateutil.relativedelta import relativedelta\n",
        "from pprint import pprint\n",
        "import geemap\n",
        "import matplotlib.pyplot as plt"
      ]
    },
    {
      "cell_type": "markdown",
      "metadata": {
        "id": "8x1LzkIKnBiV"
      },
      "source": [
        "## Authentication and Initialization"
      ]
    },
    {
      "cell_type": "code",
      "execution_count": null,
      "metadata": {
        "colab": {
          "base_uri": "https://localhost:8080/"
        },
        "id": "QeNqqWarwa19",
        "outputId": "9dfd5f28-693e-4d93-d9d3-e3370bbbc9dd"
      },
      "outputs": [
        {
          "output_type": "display_data",
          "data": {
            "text/plain": [
              "<IPython.core.display.HTML object>"
            ],
            "text/html": [
              "\n",
              "  <style>\n",
              "    pre {\n",
              "        white-space: pre-wrap;\n",
              "    }\n",
              "  </style>\n",
              "  "
            ]
          },
          "metadata": {}
        },
        {
          "output_type": "display_data",
          "data": {
            "text/plain": [
              "<IPython.core.display.HTML object>"
            ],
            "text/html": [
              "\n",
              "            <style>\n",
              "                .geemap-dark {\n",
              "                    --jp-widgets-color: white;\n",
              "                    --jp-widgets-label-color: white;\n",
              "                    --jp-ui-font-color1: white;\n",
              "                    --jp-layout-color2: #454545;\n",
              "                    background-color: #383838;\n",
              "                }\n",
              "\n",
              "                .geemap-dark .jupyter-button {\n",
              "                    --jp-layout-color3: #383838;\n",
              "                }\n",
              "\n",
              "                .geemap-colab {\n",
              "                    background-color: var(--colab-primary-surface-color, white);\n",
              "                }\n",
              "\n",
              "                .geemap-colab .jupyter-button {\n",
              "                    --jp-layout-color3: var(--colab-primary-surface-color, white);\n",
              "                }\n",
              "            </style>\n",
              "            "
            ]
          },
          "metadata": {}
        }
      ],
      "source": [
        "import ee\n",
        "ee.Authenticate()"
      ]
    },
    {
      "cell_type": "code",
      "execution_count": null,
      "metadata": {
        "id": "aPPwMuxiJbvy",
        "colab": {
          "base_uri": "https://localhost:8080/"
        },
        "outputId": "9f91c50b-a20c-4b6d-df4c-1b838e208f5a"
      },
      "outputs": [
        {
          "output_type": "display_data",
          "data": {
            "text/plain": [
              "<IPython.core.display.HTML object>"
            ],
            "text/html": [
              "\n",
              "  <style>\n",
              "    pre {\n",
              "        white-space: pre-wrap;\n",
              "    }\n",
              "  </style>\n",
              "  "
            ]
          },
          "metadata": {}
        },
        {
          "output_type": "display_data",
          "data": {
            "text/plain": [
              "<IPython.core.display.HTML object>"
            ],
            "text/html": [
              "\n",
              "            <style>\n",
              "                .geemap-dark {\n",
              "                    --jp-widgets-color: white;\n",
              "                    --jp-widgets-label-color: white;\n",
              "                    --jp-ui-font-color1: white;\n",
              "                    --jp-layout-color2: #454545;\n",
              "                    background-color: #383838;\n",
              "                }\n",
              "\n",
              "                .geemap-dark .jupyter-button {\n",
              "                    --jp-layout-color3: #383838;\n",
              "                }\n",
              "\n",
              "                .geemap-colab {\n",
              "                    background-color: var(--colab-primary-surface-color, white);\n",
              "                }\n",
              "\n",
              "                .geemap-colab .jupyter-button {\n",
              "                    --jp-layout-color3: var(--colab-primary-surface-color, white);\n",
              "                }\n",
              "            </style>\n",
              "            "
            ]
          },
          "metadata": {}
        }
      ],
      "source": [
        "ee.Initialize(project='ee-anaad')"
      ]
    },
    {
      "cell_type": "markdown",
      "metadata": {
        "id": "GfD59O66nmod"
      },
      "source": [
        "## Asset handling"
      ]
    },
    {
      "cell_type": "code",
      "execution_count": null,
      "metadata": {
        "id": "IhTbAMmEn67a",
        "colab": {
          "base_uri": "https://localhost:8080/",
          "height": 17
        },
        "outputId": "bc3d0c29-002c-4370-8b65-1c25feac052f"
      },
      "outputs": [
        {
          "output_type": "display_data",
          "data": {
            "text/plain": [
              "<IPython.core.display.HTML object>"
            ],
            "text/html": [
              "\n",
              "  <style>\n",
              "    pre {\n",
              "        white-space: pre-wrap;\n",
              "    }\n",
              "  </style>\n",
              "  "
            ]
          },
          "metadata": {}
        },
        {
          "output_type": "display_data",
          "data": {
            "text/plain": [
              "<IPython.core.display.HTML object>"
            ],
            "text/html": [
              "\n",
              "            <style>\n",
              "                .geemap-dark {\n",
              "                    --jp-widgets-color: white;\n",
              "                    --jp-widgets-label-color: white;\n",
              "                    --jp-ui-font-color1: white;\n",
              "                    --jp-layout-color2: #454545;\n",
              "                    background-color: #383838;\n",
              "                }\n",
              "\n",
              "                .geemap-dark .jupyter-button {\n",
              "                    --jp-layout-color3: #383838;\n",
              "                }\n",
              "\n",
              "                .geemap-colab {\n",
              "                    background-color: var(--colab-primary-surface-color, white);\n",
              "                }\n",
              "\n",
              "                .geemap-colab .jupyter-button {\n",
              "                    --jp-layout-color3: var(--colab-primary-surface-color, white);\n",
              "                }\n",
              "            </style>\n",
              "            "
            ]
          },
          "metadata": {}
        }
      ],
      "source": [
        "#===============================================================================\n",
        "# Move all assets from src_folder to dest_folder\n",
        "#===============================================================================\n",
        "\n",
        "def move_assets(src_folder, dest_folder):\n",
        "    assets = ee.data.listAssets({'parent': src_folder})\n",
        "    for asset in assets['assets']:\n",
        "        reg = asset['id'].split('/')[-1]\n",
        "        new_asset = dest_folder + '/' + asset['id'].split('/')[-1]\n",
        "        ee.data.copyAsset(asset['id'], new_asset, True)\n",
        "    # uncomment if you want to delete source asset\n",
        "        # ee.data.deleteAsset(asset['id'])\n",
        "\n",
        "\n",
        "#===============================================================================\n",
        "# Delete all assets from src_folder\n",
        "#===============================================================================\n",
        "\n",
        "def delete_assets(src_folder):\n",
        "    assets = ee.data.listAssets({'parent': src_folder})\n",
        "    for asset in assets['assets']:\n",
        "        ee.data.deleteAsset(asset['id'])"
      ]
    },
    {
      "cell_type": "code",
      "execution_count": null,
      "metadata": {
        "id": "RzaWDB6VBaLY",
        "colab": {
          "base_uri": "https://localhost:8080/",
          "height": 17
        },
        "outputId": "f752d652-03cf-4ea3-cd67-04eaaceffe23"
      },
      "outputs": [
        {
          "output_type": "display_data",
          "data": {
            "text/plain": [
              "<IPython.core.display.HTML object>"
            ],
            "text/html": [
              "\n",
              "  <style>\n",
              "    pre {\n",
              "        white-space: pre-wrap;\n",
              "    }\n",
              "  </style>\n",
              "  "
            ]
          },
          "metadata": {}
        },
        {
          "output_type": "display_data",
          "data": {
            "text/plain": [
              "<IPython.core.display.HTML object>"
            ],
            "text/html": [
              "\n",
              "            <style>\n",
              "                .geemap-dark {\n",
              "                    --jp-widgets-color: white;\n",
              "                    --jp-widgets-label-color: white;\n",
              "                    --jp-ui-font-color1: white;\n",
              "                    --jp-layout-color2: #454545;\n",
              "                    background-color: #383838;\n",
              "                }\n",
              "\n",
              "                .geemap-dark .jupyter-button {\n",
              "                    --jp-layout-color3: #383838;\n",
              "                }\n",
              "\n",
              "                .geemap-colab {\n",
              "                    background-color: var(--colab-primary-surface-color, white);\n",
              "                }\n",
              "\n",
              "                .geemap-colab .jupyter-button {\n",
              "                    --jp-layout-color3: var(--colab-primary-surface-color, white);\n",
              "                }\n",
              "            </style>\n",
              "            "
            ]
          },
          "metadata": {}
        }
      ],
      "source": [
        "#===============================================================================\n",
        "# Export a collection to drive or as asset\n",
        "#===============================================================================\n",
        "\n",
        "def export_to_drive(collection, output_filename):\n",
        "    task = ee.batch.Export.table.toDrive(\n",
        "      collection = collection,\n",
        "      description = output_filename,\n",
        "      fileFormat = 'csv',\n",
        "    #   selectors = ['ID', 'date', 'area', 'geometry'],\n",
        "      folder='anaad',\n",
        "    )\n",
        "    task.start()\n",
        "\n",
        "def export_to_asset(collection, output_assetid, output_filename):\n",
        "    export_task = ee.batch.Export.table.toAsset(\n",
        "        collection = collection,\n",
        "        description = output_filename,\n",
        "        assetId = output_assetid,\n",
        "    )\n",
        "    export_task.start()"
      ]
    },
    {
      "cell_type": "markdown",
      "metadata": {
        "id": "LX5CyleF98ss"
      },
      "source": [
        "# Load district, block and microwatershed boundaries"
      ]
    },
    {
      "cell_type": "code",
      "source": [
        "district_boundaries = ee.FeatureCollection('projects/ee-anaad/assets/India_district_boundaries')\n",
        "aez_boundaries = ee.FeatureCollection('projects/ee-anaad/assets/India_AEZ_boundaries')\n",
        "block_boundaries = ee.FeatureCollection('projects/ee-anaad/assets/AEZ_mapped_block_boundaries')"
      ],
      "metadata": {
        "colab": {
          "base_uri": "https://localhost:8080/",
          "height": 17
        },
        "id": "uCrHNuDL95V0",
        "outputId": "082a855e-e36f-4221-c33c-35aba601a7eb"
      },
      "execution_count": null,
      "outputs": [
        {
          "output_type": "display_data",
          "data": {
            "text/plain": [
              "<IPython.core.display.HTML object>"
            ],
            "text/html": [
              "\n",
              "  <style>\n",
              "    pre {\n",
              "        white-space: pre-wrap;\n",
              "    }\n",
              "  </style>\n",
              "  "
            ]
          },
          "metadata": {}
        },
        {
          "output_type": "display_data",
          "data": {
            "text/plain": [
              "<IPython.core.display.HTML object>"
            ],
            "text/html": [
              "\n",
              "            <style>\n",
              "                .geemap-dark {\n",
              "                    --jp-widgets-color: white;\n",
              "                    --jp-widgets-label-color: white;\n",
              "                    --jp-ui-font-color1: white;\n",
              "                    --jp-layout-color2: #454545;\n",
              "                    background-color: #383838;\n",
              "                }\n",
              "\n",
              "                .geemap-dark .jupyter-button {\n",
              "                    --jp-layout-color3: #383838;\n",
              "                }\n",
              "\n",
              "                .geemap-colab {\n",
              "                    background-color: var(--colab-primary-surface-color, white);\n",
              "                }\n",
              "\n",
              "                .geemap-colab .jupyter-button {\n",
              "                    --jp-layout-color3: var(--colab-primary-surface-color, white);\n",
              "                }\n",
              "            </style>\n",
              "            "
            ]
          },
          "metadata": {}
        }
      ]
    },
    {
      "cell_type": "code",
      "execution_count": null,
      "metadata": {
        "id": "kPklmN9F7RD9",
        "colab": {
          "base_uri": "https://localhost:8080/",
          "height": 17
        },
        "outputId": "9014e9b7-2f35-4602-e041-f9f3b4d6ef45"
      },
      "outputs": [
        {
          "output_type": "display_data",
          "data": {
            "text/plain": [
              "<IPython.core.display.HTML object>"
            ],
            "text/html": [
              "\n",
              "  <style>\n",
              "    pre {\n",
              "        white-space: pre-wrap;\n",
              "    }\n",
              "  </style>\n",
              "  "
            ]
          },
          "metadata": {}
        },
        {
          "output_type": "display_data",
          "data": {
            "text/plain": [
              "<IPython.core.display.HTML object>"
            ],
            "text/html": [
              "\n",
              "            <style>\n",
              "                .geemap-dark {\n",
              "                    --jp-widgets-color: white;\n",
              "                    --jp-widgets-label-color: white;\n",
              "                    --jp-ui-font-color1: white;\n",
              "                    --jp-layout-color2: #454545;\n",
              "                    background-color: #383838;\n",
              "                }\n",
              "\n",
              "                .geemap-dark .jupyter-button {\n",
              "                    --jp-layout-color3: #383838;\n",
              "                }\n",
              "\n",
              "                .geemap-colab {\n",
              "                    background-color: var(--colab-primary-surface-color, white);\n",
              "                }\n",
              "\n",
              "                .geemap-colab .jupyter-button {\n",
              "                    --jp-layout-color3: var(--colab-primary-surface-color, white);\n",
              "                }\n",
              "            </style>\n",
              "            "
            ]
          },
          "metadata": {}
        }
      ],
      "source": [
        "blocks_odisha = ee.FeatureCollection('projects/ee-anaad/assets/District_blocks/Odisha')\n",
        "blocks_jharkhand = ee.FeatureCollection('projects/ee-anaad/assets/District_blocks/Jharkhand')\n",
        "blocks_rajasthan = ee.FeatureCollection('projects/ee-anaad/assets/District_blocks/Rajasthan')\n",
        "blocks_bihar = ee.FeatureCollection('projects/ee-anaad/assets/District_blocks/Bihar')"
      ]
    },
    {
      "cell_type": "code",
      "execution_count": null,
      "metadata": {
        "id": "QqDqNy0n-7Y6",
        "colab": {
          "base_uri": "https://localhost:8080/",
          "height": 17
        },
        "outputId": "cfc5b1c1-a2c5-441c-b1da-569dd8181d7e"
      },
      "outputs": [
        {
          "output_type": "display_data",
          "data": {
            "text/plain": [
              "<IPython.core.display.HTML object>"
            ],
            "text/html": [
              "\n",
              "  <style>\n",
              "    pre {\n",
              "        white-space: pre-wrap;\n",
              "    }\n",
              "  </style>\n",
              "  "
            ]
          },
          "metadata": {}
        },
        {
          "output_type": "display_data",
          "data": {
            "text/plain": [
              "<IPython.core.display.HTML object>"
            ],
            "text/html": [
              "\n",
              "            <style>\n",
              "                .geemap-dark {\n",
              "                    --jp-widgets-color: white;\n",
              "                    --jp-widgets-label-color: white;\n",
              "                    --jp-ui-font-color1: white;\n",
              "                    --jp-layout-color2: #454545;\n",
              "                    background-color: #383838;\n",
              "                }\n",
              "\n",
              "                .geemap-dark .jupyter-button {\n",
              "                    --jp-layout-color3: #383838;\n",
              "                }\n",
              "\n",
              "                .geemap-colab {\n",
              "                    background-color: var(--colab-primary-surface-color, white);\n",
              "                }\n",
              "\n",
              "                .geemap-colab .jupyter-button {\n",
              "                    --jp-layout-color3: var(--colab-primary-surface-color, white);\n",
              "                }\n",
              "            </style>\n",
              "            "
            ]
          },
          "metadata": {}
        }
      ],
      "source": [
        "mws_angul = ee.FeatureCollection('projects/ee-anaad/assets/Microwatershed_boundaries/angul')\n",
        "mws_masalia = ee.FeatureCollection('projects/ee-anaad/assets/Microwatershed_boundaries/masalia')\n",
        "mws_pindwara = ee.FeatureCollection('projects/ee-anaad/assets/Microwatershed_boundaries/pindwara')\n",
        "mws_mandalgarh = ee.FeatureCollection('projects/ee-anaad/assets/Microwatershed_boundaries/mandalgarh')\n",
        "mws_mohanpur = ee.FeatureCollection('projects/ee-anaad/assets/Microwatershed_boundaries/mohanpur')"
      ]
    },
    {
      "cell_type": "code",
      "execution_count": null,
      "metadata": {
        "id": "cIuadI0Av4BX",
        "colab": {
          "base_uri": "https://localhost:8080/",
          "height": 17
        },
        "outputId": "c83f695b-c118-427a-e20f-ae3f77335f82"
      },
      "outputs": [
        {
          "output_type": "display_data",
          "data": {
            "text/plain": [
              "<IPython.core.display.HTML object>"
            ],
            "text/html": [
              "\n",
              "  <style>\n",
              "    pre {\n",
              "        white-space: pre-wrap;\n",
              "    }\n",
              "  </style>\n",
              "  "
            ]
          },
          "metadata": {}
        },
        {
          "output_type": "display_data",
          "data": {
            "text/plain": [
              "<IPython.core.display.HTML object>"
            ],
            "text/html": [
              "\n",
              "            <style>\n",
              "                .geemap-dark {\n",
              "                    --jp-widgets-color: white;\n",
              "                    --jp-widgets-label-color: white;\n",
              "                    --jp-ui-font-color1: white;\n",
              "                    --jp-layout-color2: #454545;\n",
              "                    background-color: #383838;\n",
              "                }\n",
              "\n",
              "                .geemap-dark .jupyter-button {\n",
              "                    --jp-layout-color3: #383838;\n",
              "                }\n",
              "\n",
              "                .geemap-colab {\n",
              "                    background-color: var(--colab-primary-surface-color, white);\n",
              "                }\n",
              "\n",
              "                .geemap-colab .jupyter-button {\n",
              "                    --jp-layout-color3: var(--colab-primary-surface-color, white);\n",
              "                }\n",
              "            </style>\n",
              "            "
            ]
          },
          "metadata": {}
        }
      ],
      "source": [
        "aoi_angul = ee.FeatureCollection('projects/ee-anaad/assets/Block_boundaries/angul')\n",
        "aoi_masalia = ee.FeatureCollection('projects/ee-anaad/assets/Block_boundaries/masalia')\n",
        "aoi_pindwara = ee.FeatureCollection('projects/ee-anaad/assets/Block_boundaries/pindwara')\n",
        "aoi_mandalgarh = ee.FeatureCollection('projects/ee-anaad/assets/Block_boundaries/mandalgarh')\n",
        "aoi_mohanpur = ee.FeatureCollection('projects/ee-anaad/assets/Block_boundaries/mohanpur')"
      ]
    },
    {
      "cell_type": "code",
      "execution_count": null,
      "metadata": {
        "id": "zm0j0qg6vyhi",
        "colab": {
          "base_uri": "https://localhost:8080/",
          "height": 17
        },
        "outputId": "580e8afa-981a-4755-f528-aebe420c1ea4"
      },
      "outputs": [
        {
          "output_type": "display_data",
          "data": {
            "text/plain": [
              "<IPython.core.display.HTML object>"
            ],
            "text/html": [
              "\n",
              "  <style>\n",
              "    pre {\n",
              "        white-space: pre-wrap;\n",
              "    }\n",
              "  </style>\n",
              "  "
            ]
          },
          "metadata": {}
        },
        {
          "output_type": "display_data",
          "data": {
            "text/plain": [
              "<IPython.core.display.HTML object>"
            ],
            "text/html": [
              "\n",
              "            <style>\n",
              "                .geemap-dark {\n",
              "                    --jp-widgets-color: white;\n",
              "                    --jp-widgets-label-color: white;\n",
              "                    --jp-ui-font-color1: white;\n",
              "                    --jp-layout-color2: #454545;\n",
              "                    background-color: #383838;\n",
              "                }\n",
              "\n",
              "                .geemap-dark .jupyter-button {\n",
              "                    --jp-layout-color3: #383838;\n",
              "                }\n",
              "\n",
              "                .geemap-colab {\n",
              "                    background-color: var(--colab-primary-surface-color, white);\n",
              "                }\n",
              "\n",
              "                .geemap-colab .jupyter-button {\n",
              "                    --jp-layout-color3: var(--colab-primary-surface-color, white);\n",
              "                }\n",
              "            </style>\n",
              "            "
            ]
          },
          "metadata": {}
        }
      ],
      "source": [
        "roi_angul = None\n",
        "roi_dumka = district_boundaries.filter(ee.Filter.eq('Name', 'Dumka'))\n",
        "roi_sirohi = district_boundaries.filter(ee.Filter.eq('Name', 'Sirohi'))\n",
        "roi_bhilwara = district_boundaries.filter(ee.Filter.eq('Name', 'Bhilwara'))\n",
        "roi_gaya = district_boundaries.filter(ee.Filter.eq('Name', 'Gaya'))"
      ]
    },
    {
      "cell_type": "code",
      "execution_count": null,
      "metadata": {
        "id": "nQnjjnhvZ2Kz",
        "colab": {
          "base_uri": "https://localhost:8080/",
          "height": 17
        },
        "outputId": "ba23f22a-606d-46f1-8f87-ce5fe9fbf9b4"
      },
      "outputs": [
        {
          "output_type": "display_data",
          "data": {
            "text/plain": [
              "<IPython.core.display.HTML object>"
            ],
            "text/html": [
              "\n",
              "  <style>\n",
              "    pre {\n",
              "        white-space: pre-wrap;\n",
              "    }\n",
              "  </style>\n",
              "  "
            ]
          },
          "metadata": {}
        },
        {
          "output_type": "display_data",
          "data": {
            "text/plain": [
              "<IPython.core.display.HTML object>"
            ],
            "text/html": [
              "\n",
              "            <style>\n",
              "                .geemap-dark {\n",
              "                    --jp-widgets-color: white;\n",
              "                    --jp-widgets-label-color: white;\n",
              "                    --jp-ui-font-color1: white;\n",
              "                    --jp-layout-color2: #454545;\n",
              "                    background-color: #383838;\n",
              "                }\n",
              "\n",
              "                .geemap-dark .jupyter-button {\n",
              "                    --jp-layout-color3: #383838;\n",
              "                }\n",
              "\n",
              "                .geemap-colab {\n",
              "                    background-color: var(--colab-primary-surface-color, white);\n",
              "                }\n",
              "\n",
              "                .geemap-colab .jupyter-button {\n",
              "                    --jp-layout-color3: var(--colab-primary-surface-color, white);\n",
              "                }\n",
              "            </style>\n",
              "            "
            ]
          },
          "metadata": {}
        }
      ],
      "source": [
        "block_names = {\n",
        "     \"angul\",\n",
        "    \"masalia\",\n",
        "    \"pindwara\",\n",
        "    \"mandalgarh\",\n",
        "    \"mohanpur\"\n",
        "}\n",
        "district_from_block = {\n",
        "    \"angul\": \"angul\",\n",
        "    \"masalia\": \"dumka\",\n",
        "    \"pindwara\": \"sirohi\",\n",
        "    \"mandalgarh\": \"bhilwara\",\n",
        "    \"mohanpur\": \"gaya\"\n",
        "}"
      ]
    },
    {
      "cell_type": "code",
      "execution_count": null,
      "metadata": {
        "id": "qj38GEsgC-R9",
        "colab": {
          "base_uri": "https://localhost:8080/",
          "height": 17
        },
        "outputId": "85588572-e14c-455a-ae9f-eb340f4a78ae"
      },
      "outputs": [
        {
          "output_type": "display_data",
          "data": {
            "text/plain": [
              "<IPython.core.display.HTML object>"
            ],
            "text/html": [
              "\n",
              "  <style>\n",
              "    pre {\n",
              "        white-space: pre-wrap;\n",
              "    }\n",
              "  </style>\n",
              "  "
            ]
          },
          "metadata": {}
        },
        {
          "output_type": "display_data",
          "data": {
            "text/plain": [
              "<IPython.core.display.HTML object>"
            ],
            "text/html": [
              "\n",
              "            <style>\n",
              "                .geemap-dark {\n",
              "                    --jp-widgets-color: white;\n",
              "                    --jp-widgets-label-color: white;\n",
              "                    --jp-ui-font-color1: white;\n",
              "                    --jp-layout-color2: #454545;\n",
              "                    background-color: #383838;\n",
              "                }\n",
              "\n",
              "                .geemap-dark .jupyter-button {\n",
              "                    --jp-layout-color3: #383838;\n",
              "                }\n",
              "\n",
              "                .geemap-colab {\n",
              "                    background-color: var(--colab-primary-surface-color, white);\n",
              "                }\n",
              "\n",
              "                .geemap-colab .jupyter-button {\n",
              "                    --jp-layout-color3: var(--colab-primary-surface-color, white);\n",
              "                }\n",
              "            </style>\n",
              "            "
            ]
          },
          "metadata": {}
        }
      ],
      "source": [
        "#===============================================================================\n",
        "# Set *aoi*, *roi*, and *mws* from *block_name*\n",
        "#===============================================================================\n",
        "\n",
        "def set_block(block_name):\n",
        "    if block_name=='angul':\n",
        "        aoi = aoi_angul\n",
        "        roi = roi_angul\n",
        "        mws = mws_angul\n",
        "\n",
        "    if block_name=='masalia':\n",
        "        aoi = aoi_masalia\n",
        "        roi = roi_dumka\n",
        "        mws = mws_masalia\n",
        "\n",
        "    if block_name=='pindwara':\n",
        "        aoi = aoi_pindwara\n",
        "        roi = roi_sirohi\n",
        "        mws = mws_pindwara\n",
        "\n",
        "    if block_name=='mandalgarh':\n",
        "        aoi = aoi_mandalgarh\n",
        "        roi = roi_bhilwara\n",
        "        mws = mws_mandalgarh\n",
        "\n",
        "    if block_name=='mohanpur':\n",
        "        aoi = aoi_mohanpur\n",
        "        roi = roi_gaya\n",
        "        mws = mws_mohanpur\n",
        "\n",
        "    return aoi, roi, mws"
      ]
    },
    {
      "cell_type": "markdown",
      "metadata": {
        "id": "XraKLxssx8eQ"
      },
      "source": [
        "# Helper functions"
      ]
    },
    {
      "cell_type": "code",
      "execution_count": null,
      "metadata": {
        "id": "DxRBK6be-GAo",
        "colab": {
          "base_uri": "https://localhost:8080/",
          "height": 17
        },
        "outputId": "030cf6ae-e57b-47b2-d071-4c91f25db931"
      },
      "outputs": [
        {
          "output_type": "display_data",
          "data": {
            "text/plain": [
              "<IPython.core.display.HTML object>"
            ],
            "text/html": [
              "\n",
              "  <style>\n",
              "    pre {\n",
              "        white-space: pre-wrap;\n",
              "    }\n",
              "  </style>\n",
              "  "
            ]
          },
          "metadata": {}
        },
        {
          "output_type": "display_data",
          "data": {
            "text/plain": [
              "<IPython.core.display.HTML object>"
            ],
            "text/html": [
              "\n",
              "            <style>\n",
              "                .geemap-dark {\n",
              "                    --jp-widgets-color: white;\n",
              "                    --jp-widgets-label-color: white;\n",
              "                    --jp-ui-font-color1: white;\n",
              "                    --jp-layout-color2: #454545;\n",
              "                    background-color: #383838;\n",
              "                }\n",
              "\n",
              "                .geemap-dark .jupyter-button {\n",
              "                    --jp-layout-color3: #383838;\n",
              "                }\n",
              "\n",
              "                .geemap-colab {\n",
              "                    background-color: var(--colab-primary-surface-color, white);\n",
              "                }\n",
              "\n",
              "                .geemap-colab .jupyter-button {\n",
              "                    --jp-layout-color3: var(--colab-primary-surface-color, white);\n",
              "                }\n",
              "            </style>\n",
              "            "
            ]
          },
          "metadata": {}
        }
      ],
      "source": [
        "#===============================================================================\n",
        "# Set ID of fire_regions using uids of intersecting microwatersheds\n",
        "#===============================================================================\n",
        "\n",
        "def set_properties(fire_regions, mws):\n",
        "    idList = ee.List.sequence(0,fire_regions.size().subtract(1))\n",
        "    fire_regions_list = fire_regions.toList(fire_regions.size())\n",
        "\n",
        "    def set_prop_helper(newSysIndex):\n",
        "        feature = ee.Feature(fire_regions_list.get(newSysIndex))\n",
        "        intersecting_mws = mws.filterBounds(feature.geometry())\n",
        "        uidList = intersecting_mws.aggregate_array('uid').add(ee.Number(newSysIndex).toInt())\n",
        "        uid = uidList.join('_')\n",
        "        return feature.set('system:index', uid, 'ID', uid)#, 'geometry', feature.geometry())\n",
        "\n",
        "    return ee.FeatureCollection(idList.map(set_prop_helper))\n",
        "\n",
        "#===============================================================================\n",
        "# Function to compute statistics for fire_regions\n",
        "#===============================================================================\n",
        "\n",
        "def compute_stats(fire_regions):\n",
        "    num_fires = fire_regions.size().getInfo()\n",
        "    min_area = fire_regions.aggregate_min('area').getInfo()\n",
        "    max_area = fire_regions.aggregate_max('area').getInfo()\n",
        "    mean_area = fire_regions.aggregate_mean('area').getInfo()\n",
        "    total_area = fire_regions.aggregate_sum('area').getInfo()\n",
        "    return num_fires, min_area, max_area, mean_area, total_area"
      ]
    },
    {
      "cell_type": "code",
      "execution_count": null,
      "metadata": {
        "id": "k9BB0QrGykXT",
        "colab": {
          "base_uri": "https://localhost:8080/",
          "height": 17
        },
        "outputId": "60dbb90d-ba89-4b80-a173-96b8b03e4a90"
      },
      "outputs": [
        {
          "output_type": "display_data",
          "data": {
            "text/plain": [
              "<IPython.core.display.HTML object>"
            ],
            "text/html": [
              "\n",
              "  <style>\n",
              "    pre {\n",
              "        white-space: pre-wrap;\n",
              "    }\n",
              "  </style>\n",
              "  "
            ]
          },
          "metadata": {}
        },
        {
          "output_type": "display_data",
          "data": {
            "text/plain": [
              "<IPython.core.display.HTML object>"
            ],
            "text/html": [
              "\n",
              "            <style>\n",
              "                .geemap-dark {\n",
              "                    --jp-widgets-color: white;\n",
              "                    --jp-widgets-label-color: white;\n",
              "                    --jp-ui-font-color1: white;\n",
              "                    --jp-layout-color2: #454545;\n",
              "                    background-color: #383838;\n",
              "                }\n",
              "\n",
              "                .geemap-dark .jupyter-button {\n",
              "                    --jp-layout-color3: #383838;\n",
              "                }\n",
              "\n",
              "                .geemap-colab {\n",
              "                    background-color: var(--colab-primary-surface-color, white);\n",
              "                }\n",
              "\n",
              "                .geemap-colab .jupyter-button {\n",
              "                    --jp-layout-color3: var(--colab-primary-surface-color, white);\n",
              "                }\n",
              "            </style>\n",
              "            "
            ]
          },
          "metadata": {}
        }
      ],
      "source": [
        "#===============================================================================\n",
        "# Function to get composite image with MODIS and VIIRS bands from landsat-8 image\n",
        "#===============================================================================\n",
        "\n",
        "def getNativeImage(image_lsat):\n",
        "    path = image_lsat.get('system:index').getInfo()\n",
        "    # projection = image_lsat.select('B7').projection().getInfo()\n",
        "\n",
        "    image_mod09ga_id = \"MODIS/061/MOD09GA/\"+path[-8:-4]+'_'+path[-4:-2]+'_'+path[-2:]\n",
        "    try:\n",
        "        ee.data.getAsset(image_mod09ga_id)\n",
        "    except ee.EEException:\n",
        "        print(\"MODIS/061/MOD09GA/\"+path[-8:-4]+'_'+path[-4:-2]+'_'+path[-2:], 'does not exist.')\n",
        "        return None\n",
        "\n",
        "    image_vnp09ga_id = \"NOAA/VIIRS/001/VNP09GA/\"+path[-8:-4]+'_'+path[-4:-2]+'_'+path[-2:]\n",
        "    try:\n",
        "        ee.data.getAsset(image_vnp09ga_id)\n",
        "    except ee.EEException:\n",
        "        print(\"NOAA/VIIRS/001/VNP09GA/\"+path[-8:-4]+'_'+path[-4:-2]+'_'+path[-2:], 'does not exist.')\n",
        "        return None\n",
        "\n",
        "    image_mod09ga = ee.Image(image_mod09ga_id).select(['sur_refl_b01','sur_refl_b02','sur_refl_b03','sur_refl_b04','sur_refl_b05','sur_refl_b06','sur_refl_b07'])#.reproject(crs = projection['crs'], crsTransform = projection['transform'])\n",
        "    image_mod09ga = image_mod09ga.clip(image_lsat.select('B7').geometry())#.updateMask(image_lsat.select('B7').mask())\n",
        "    image_vnp09ga = ee.Image(image_vnp09ga_id).select(['I1','I2','I3','M1','M2','M3','M4','M5','M7','M8','M10','M11'])#.reproject(crs = projection['crs'], crsTransform = projection['transform'])\n",
        "    image_vnp09ga = image_vnp09ga.clip(image_lsat.select('B7').geometry())#.updateMask(image_lsat.select('B7').mask())\n",
        "    # image_mod11a1 = ee.Image(\"MODIS/061/MOD11A1/\"+path[-8:-4]+'_'+path[-4:-2]+'_'+path[-2:])\n",
        "    # image_mod11a1 = image_mod11a1.select(['LST_Day_1km', 'LST_Night_1km', 'Emis_31', 'Emis_32']).reproject(crs = projection['crs'], crsTransform = projection['transform'])\n",
        "    # image_mod11a1 = image_mod11a1.updateMask(manual_annotation_patch.mask()).clip(manual_annotation_patch.geometry())\n",
        "\n",
        "    image = image_lsat.addBands(image_mod09ga).addBands(image_vnp09ga)\n",
        "    return image\n",
        "\n",
        "\n",
        "def getReprojectedImage(image_lsat):\n",
        "    path = image_lsat.get('system:index').getInfo()\n",
        "    projection = image_lsat.select('B7').projection().getInfo()\n",
        "\n",
        "    image_mod09ga_id = \"MODIS/061/MOD09GA/\"+path[-8:-4]+'_'+path[-4:-2]+'_'+path[-2:]\n",
        "    try:\n",
        "        ee.data.getAsset(image_mod09ga_id)\n",
        "    except ee.EEException:\n",
        "        print(\"MODIS/061/MOD09GA/\"+path[-8:-4]+'_'+path[-4:-2]+'_'+path[-2:], 'does not exist.')\n",
        "        return None\n",
        "\n",
        "    image_vnp09ga_id = \"NOAA/VIIRS/001/VNP09GA/\"+path[-8:-4]+'_'+path[-4:-2]+'_'+path[-2:]\n",
        "    try:\n",
        "        ee.data.getAsset(image_vnp09ga_id)\n",
        "    except ee.EEException:\n",
        "        print(\"NOAA/VIIRS/001/VNP09GA/\"+path[-8:-4]+'_'+path[-4:-2]+'_'+path[-2:], 'does not exist.')\n",
        "        return None\n",
        "\n",
        "    image_mod09ga = ee.Image(image_mod09ga_id).select(['sur_refl_b01','sur_refl_b02','sur_refl_b03','sur_refl_b04','sur_refl_b05','sur_refl_b06','sur_refl_b07']).reproject(crs = projection['crs'], crsTransform = projection['transform'])\n",
        "    image_mod09ga = image_mod09ga.clip(image_lsat.select('B7').geometry())#.updateMask(image_lsat.select('B7').mask())\n",
        "    image_vnp09ga = ee.Image(image_vnp09ga_id).select(['I1','I2','I3','M1','M2','M3','M4','M5','M7','M8','M10','M11']).reproject(crs = projection['crs'], crsTransform = projection['transform'])\n",
        "    image_vnp09ga = image_vnp09ga.clip(image_lsat.select('B7').geometry())#.updateMask(image_lsat.select('B7').mask())\n",
        "    # image_mod11a1 = ee.Image(\"MODIS/061/MOD11A1/\"+path[-8:-4]+'_'+path[-4:-2]+'_'+path[-2:])\n",
        "    # image_mod11a1 = image_mod11a1.select(['LST_Day_1km', 'LST_Night_1km', 'Emis_31', 'Emis_32']).reproject(crs = projection['crs'], crsTransform = projection['transform'])\n",
        "    # image_mod11a1 = image_mod11a1.updateMask(manual_annotation_patch.mask()).clip(manual_annotation_patch.geometry())\n",
        "\n",
        "    image = image_lsat.addBands(image_mod09ga).addBands(image_vnp09ga)\n",
        "    return image"
      ]
    },
    {
      "cell_type": "code",
      "source": [
        "#===============================================================================\n",
        "# Function to map blocks to the AEZ they lie in, can be easily adapted for ACZ boundaries\n",
        "#===============================================================================\n",
        "\n",
        "def mapBlocksToAEZs(block):\n",
        "    block = ee.Feature(block)\n",
        "    intersections = aez_boundaries.map(lambda aez: aez.set('area', block.intersection(aez).area()))\n",
        "    max_area = intersections.aggregate_max('area')\n",
        "    max_aez_id = intersections.filter(ee.Filter.eq('area', max_area)).first().get('ae_regcode')\n",
        "    return block.set('aez_id', max_aez_id)\n",
        "\n",
        "# Uncomment the following lines to map and export blocks\n",
        "# mapped_blocks = block_boundaries.map(mapBlocksToAEZs)\n",
        "# export_to_asset(mapped_blocks, 'projects/ee-anaad/assets/AEZ_mapped_block_boundaries', 'AEZ_mapped_block_boundaries')"
      ],
      "metadata": {
        "colab": {
          "base_uri": "https://localhost:8080/",
          "height": 17
        },
        "id": "5PJHHcNadBEs",
        "outputId": "2d4f5751-daf3-47c8-d18e-d6a78b33d7f5"
      },
      "execution_count": null,
      "outputs": [
        {
          "output_type": "display_data",
          "data": {
            "text/plain": [
              "<IPython.core.display.HTML object>"
            ],
            "text/html": [
              "\n",
              "  <style>\n",
              "    pre {\n",
              "        white-space: pre-wrap;\n",
              "    }\n",
              "  </style>\n",
              "  "
            ]
          },
          "metadata": {}
        },
        {
          "output_type": "display_data",
          "data": {
            "text/plain": [
              "<IPython.core.display.HTML object>"
            ],
            "text/html": [
              "\n",
              "            <style>\n",
              "                .geemap-dark {\n",
              "                    --jp-widgets-color: white;\n",
              "                    --jp-widgets-label-color: white;\n",
              "                    --jp-ui-font-color1: white;\n",
              "                    --jp-layout-color2: #454545;\n",
              "                    background-color: #383838;\n",
              "                }\n",
              "\n",
              "                .geemap-dark .jupyter-button {\n",
              "                    --jp-layout-color3: #383838;\n",
              "                }\n",
              "\n",
              "                .geemap-colab {\n",
              "                    background-color: var(--colab-primary-surface-color, white);\n",
              "                }\n",
              "\n",
              "                .geemap-colab .jupyter-button {\n",
              "                    --jp-layout-color3: var(--colab-primary-surface-color, white);\n",
              "                }\n",
              "            </style>\n",
              "            "
            ]
          },
          "metadata": {}
        }
      ]
    },
    {
      "cell_type": "markdown",
      "metadata": {
        "id": "bQDO4PEGoDM6"
      },
      "source": [
        "# Sets of conditions to classify pixels as fire or non-fire"
      ]
    },
    {
      "cell_type": "markdown",
      "metadata": {
        "id": "CWu1PwAAEpa-"
      },
      "source": [
        "### [Schroeder](https://www.sciencedirect.com/science/article/pii/S0034425715301206)"
      ]
    },
    {
      "cell_type": "code",
      "execution_count": null,
      "metadata": {
        "colab": {
          "base_uri": "https://localhost:8080/"
        },
        "id": "mQuXhWPNzMK2",
        "outputId": "2c41f446-65db-4310-8074-2bae40b12e95"
      },
      "outputs": [
        {
          "output_type": "display_data",
          "data": {
            "text/plain": [
              "<IPython.core.display.HTML object>"
            ],
            "text/html": [
              "\n",
              "  <style>\n",
              "    pre {\n",
              "        white-space: pre-wrap;\n",
              "    }\n",
              "  </style>\n",
              "  "
            ]
          },
          "metadata": {}
        },
        {
          "output_type": "display_data",
          "data": {
            "text/plain": [
              "<IPython.core.display.HTML object>"
            ],
            "text/html": [
              "\n",
              "            <style>\n",
              "                .geemap-dark {\n",
              "                    --jp-widgets-color: white;\n",
              "                    --jp-widgets-label-color: white;\n",
              "                    --jp-ui-font-color1: white;\n",
              "                    --jp-layout-color2: #454545;\n",
              "                    background-color: #383838;\n",
              "                }\n",
              "\n",
              "                .geemap-dark .jupyter-button {\n",
              "                    --jp-layout-color3: #383838;\n",
              "                }\n",
              "\n",
              "                .geemap-colab {\n",
              "                    background-color: var(--colab-primary-surface-color, white);\n",
              "                }\n",
              "\n",
              "                .geemap-colab .jupyter-button {\n",
              "                    --jp-layout-color3: var(--colab-primary-surface-color, white);\n",
              "                }\n",
              "            </style>\n",
              "            "
            ]
          },
          "metadata": {}
        }
      ],
      "source": [
        "#===============================================================================\n",
        "# EQUATIONS (Schroeder)\n",
        "#===============================================================================\n",
        "# The following functions implement the equations in the paper:https://www.sciencedirect.com/science/article/pii/S0034425715301206.\n",
        "\n",
        "def Seq1(image, r75, diff75):\n",
        "    '''identifies potentially unambiguous active fire pixels\n",
        "    builds on the ETM + active fire algorithm while accommodating small differences in OLI spectral channels'''\n",
        "    return r75.gt(2.5).And(diff75.gt(0.3)).And(image.select('B7').gt(0.5))\n",
        "\n",
        "#-------------------------------------------------------------------------------\n",
        "\n",
        "def Seq2(image):\n",
        "    '''highly energetic and extensive fires can lead to folding of the DN on channel 7\n",
        "    thereby characterizing another condition of potentially unambiguous active fire pixels'''\n",
        "    return image.select('B6').gt(0.8).And(image.select('B1').lt(0.2)).And(image.select('B5').gt(0.4).Or(image.select('B7').lt(0.1)))\n",
        "\n",
        "#-------------------------------------------------------------------------------\n",
        "\n",
        "def Seq3(r75, diff75):\n",
        "    '''complementing the identification of unambiguous fire pixels, the thresholds in test (1) are relaxed\n",
        "    and other candidate fire pixels are selected for further analyses'''\n",
        "    return r75.gt(1.8).And(diff75.gt(0.17))\n",
        "\n",
        "#-------------------------------------------------------------------------------\n",
        "\n",
        "def Seq4and5(b7, r75, unamb_fires, water):\n",
        "    '''all pixels satisfying test (3) must then meet the following set of fixed threshold and contextual tests\n",
        "    in order to be classified as potential fire-affected pixels'''\n",
        "\n",
        "    # means and standard deviations are computed ignoring pixels showing channel 7 reflectance <= zero, unambiguous fires, as well as water pixels.\n",
        "    ignored_pixels = b7.lte(0).Or(unamb_fires.Or(water))\n",
        "    kept_pixels = ignored_pixels.Not()\n",
        "    r75 = r75.updateMask(kept_pixels)\n",
        "    b7 = b7.updateMask(kept_pixels)\n",
        "\n",
        "    reducers = ee.Reducer.mean().unweighted().combine(reducer2=ee.Reducer.stdDev().unweighted(),sharedInputs=True)\n",
        "    stats_r75 = r75.reduceNeighborhood(reducers, ee.Kernel.square(30, 'pixels', False))\n",
        "    stats_b7 = b7.reduceNeighborhood(reducers, ee.Kernel.square(30, 'pixels', False))\n",
        "\n",
        "    potential_r75 = r75.gt(stats_r75.select('R75_mean').add(stats_r75.expression(\"(3*b('R75_stdDev') > 0.8) ? 3*b('R75_stdDev') : 0.8\")))\n",
        "    potential_b7 = b7.gt(stats_b7.select('B7_mean').add(stats_b7.expression(\"(3*b('B7_stdDev') > 0.08) ? 3*b('B7_stdDev') : 0.08\")))\n",
        "    return (potential_r75.And(potential_b7)).unmask(unamb_fires)\n",
        "\n",
        "#-------------------------------------------------------------------------------\n",
        "\n",
        "def Seq6(image):\n",
        "    '''additional test for potential fires'''\n",
        "    return (image.select('B7').divide(image.select('B6'))).gt(1.6)\n",
        "\n",
        "#-------------------------------------------------------------------------------\n",
        "\n",
        "def Seq7to9(image):\n",
        "    '''water pixels are classified based on spectral profiling using reflectance data from all seven input channels\n",
        "    two distinct tests are applied in order to map oceans and inland water bodies'''\n",
        "    return image.select('B4').gt(image.select('B5'))\\\n",
        "    .And(image.select('B5').gt(image.select('B6')))\\\n",
        "    .And(image.select('B6').gt(image.select('B7')))\\\n",
        "    .And((image.select('B1').subtract(image.select('B7'))).lt(0.2))\\\n",
        "    .And(image.select('B3').gt(image.select('B2'))\n",
        "        .Or(image.select('B1').gt(image.select('B2'))\n",
        "            .And(image.select('B2').gt(image.select('B3')))\n",
        "            .And(image.select('B3').gt(image.select('B4')))\n",
        "        )\n",
        "    )\n",
        "\n",
        "#-------------------------------------------------------------------------------\n",
        "\n",
        "def getFireMaskSchroeder(image):\n",
        "\n",
        "    r75 = image.select('B7').divide(image.select('B5')) # Compute only once (used by multiple equations).\n",
        "    r75 = r75.select(['B7'], ['R75'])\n",
        "    diff75 = image.select('B7').subtract(image.select('B5')) # Compute only once (used by multiple equations).\n",
        "    diff75 = diff75.rename(['D75'])\n",
        "\n",
        "    # Unambiguous fires (satisfy eq 1 or 2).\n",
        "    unamb_fires = Seq1(image, r75, diff75).Or(Seq2(image))\n",
        "\n",
        "    # Potential fires (satisfy eq 3).\n",
        "    potential_fires = Seq3(r75, diff75)\n",
        "\n",
        "    # Test eq 6 before eq 4 and 5 in an attempt to avoid the time-consuming contextual test when possible.\n",
        "    potential_fires = potential_fires.And(Seq6(image))\n",
        "\n",
        "    # Water pixels (used by the contextual test and excluded from the result.\n",
        "    water = Seq7to9(image)\n",
        "\n",
        "    # Contextual test for potential fires (eq 4 and 5).\n",
        "    potential_fires = potential_fires.And(Seq4and5(image.select('B7'), r75, unamb_fires, water))\n",
        "\n",
        "    return (water.Not().And(unamb_fires.Or(potential_fires))).rename(['F'])"
      ]
    },
    {
      "cell_type": "markdown",
      "metadata": {
        "id": "Hqs3w7ptUG0I"
      },
      "source": [
        "## [Murphy](https://www.sciencedirect.com/science/article/abs/pii/S0034425716300554)"
      ]
    },
    {
      "cell_type": "code",
      "execution_count": null,
      "metadata": {
        "colab": {
          "base_uri": "https://localhost:8080/"
        },
        "id": "MrNcVqFFRBNI",
        "outputId": "59f90b1c-ba9b-40b4-d335-5722c49347c1"
      },
      "outputs": [
        {
          "output_type": "display_data",
          "data": {
            "text/plain": [
              "<IPython.core.display.HTML object>"
            ],
            "text/html": [
              "\n",
              "  <style>\n",
              "    pre {\n",
              "        white-space: pre-wrap;\n",
              "    }\n",
              "  </style>\n",
              "  "
            ]
          },
          "metadata": {}
        },
        {
          "output_type": "display_data",
          "data": {
            "text/plain": [
              "<IPython.core.display.HTML object>"
            ],
            "text/html": [
              "\n",
              "            <style>\n",
              "                .geemap-dark {\n",
              "                    --jp-widgets-color: white;\n",
              "                    --jp-widgets-label-color: white;\n",
              "                    --jp-ui-font-color1: white;\n",
              "                    --jp-layout-color2: #454545;\n",
              "                    background-color: #383838;\n",
              "                }\n",
              "\n",
              "                .geemap-dark .jupyter-button {\n",
              "                    --jp-layout-color3: #383838;\n",
              "                }\n",
              "\n",
              "                .geemap-colab {\n",
              "                    background-color: var(--colab-primary-surface-color, white);\n",
              "                }\n",
              "\n",
              "                .geemap-colab .jupyter-button {\n",
              "                    --jp-layout-color3: var(--colab-primary-surface-color, white);\n",
              "                }\n",
              "            </style>\n",
              "            "
            ]
          },
          "metadata": {}
        }
      ],
      "source": [
        "#===============================================================================\n",
        "# EQUATIONS (MURPHY)\n",
        "#===============================================================================\n",
        "# The following functions implement the equations in the paper:https://www.sciencedirect.com/science/article/abs/pii/S0034425716300554.\n",
        "\n",
        "def Meq2(image):\n",
        "    '''a pixel has an α of one if reflectance in band 7 is at least 40% greater than reflectance in both bands 5 and 6\n",
        "    (i.e. because the 2.2 μm waveband is expected to be relatively sensitive to hot targets),\n",
        "    and if reflectance in band 7 is not too low\n",
        "    (this condition is imposed to avoid creating false alarms over low reflectivity surfaces such as water bodies).'''\n",
        "    # Eq 2 (unambiguous fires)\n",
        "    return (image.select('B7').divide(image.select('B6'))).gte(1.4)\\\n",
        "        .And((image.select('B7').divide(image.select('B5'))).gte(1.4))\\\n",
        "        .And(image.select('B7').gte(0.15))\n",
        "#-------------------------------------------------------------------------------\n",
        "\n",
        "def Meq3(image, unamb_fires, QA):\n",
        "    '''a pixel will have a β of one if reflectance in band 6 is at least twice as high as in band 5,\n",
        "    and if reflectance in band 6 is at least 0.5.\n",
        "    the latter fixed threshold is to ensure that the pixel is sufficiently radiant;\n",
        "    algorithm performance is not sensitive to this threshold.\n",
        "    alternatively, a pixel could also be assigned a β of one if either bands 6 or 7 are saturated.'''\n",
        "\n",
        "    # saturation\n",
        "    def get_sat(fromBand, toBand):\n",
        "        bitmask = ee.Number(1).leftShift(toBand-fromBand+1).subtract(1)\n",
        "        return QA.rightShift(fromBand-1).bitwiseAnd(bitmask)\n",
        "\n",
        "    # vals = [2724,2756,2804,2980,3012,3748,3780,6820,6852,6900,7076,7108,7844,7876,\n",
        "    #         2728,2760,2808,2984,3016,3752,3784,6824,6856,6904,7080,7112,7848,7880,\n",
        "    #         2732,2764,2812,2988,3020,3756,3788,6828,6860,6908,7084,7116,7852,7884]\n",
        "\n",
        "    # sat = ee.Image(0).setDefaultProjection(image.select('B7').projection())\n",
        "    # for val in vals:\n",
        "    #     sat = sat.Or(QA.eq(val))\n",
        "\n",
        "    # Eq 3 (potential fires)\n",
        "    neighborhood = unamb_fires.reduceNeighborhood(ee.Reducer.sum(), ee.Kernel.square(1, 'pixels', False))\n",
        "    return neighborhood.gt(0)\\\n",
        "        .And(\n",
        "            ((image.select('B6').divide(image.select('B5'))).gte(2.0)\n",
        "            .And(image.select('B6').gte(0.5)))\n",
        "            .Or(get_sat(6,7))\n",
        "            # .Or(sat)\n",
        "        )\n",
        "\n",
        "#-------------------------------------------------------------------------------\n",
        "\n",
        "def getFireMaskMurphy(image):\n",
        "    '''This is the central function. Receives the (corrected) reflectance bands\n",
        "and a binary mask indicating saturated pixels, and returns a binary fire mask.'''\n",
        "    QA = image.select('QA_RADSAT')\n",
        "    image = image.select(['B5', 'B6', 'B7'])#.divide(math.sin(math.radians(image.get('SUN_ELEVATION').getInfo())))\n",
        "    unamb_fires = Meq2(image)\n",
        "    potential_fires = Meq3(image, unamb_fires, QA)\n",
        "    return (unamb_fires.Or(potential_fires)).rename(['F'])"
      ]
    },
    {
      "cell_type": "markdown",
      "metadata": {
        "id": "IbNzvwawFYwy"
      },
      "source": [
        "## [Kumar-Roy](https://www.tandfonline.com/doi/full/10.1080/17538947.2017.1391341)"
      ]
    },
    {
      "cell_type": "code",
      "execution_count": null,
      "metadata": {
        "colab": {
          "base_uri": "https://localhost:8080/"
        },
        "id": "kk2Z-xHEBZt4",
        "outputId": "1387e804-f685-449e-d033-f6e552be68dd"
      },
      "outputs": [
        {
          "output_type": "display_data",
          "data": {
            "text/plain": [
              "<IPython.core.display.HTML object>"
            ],
            "text/html": [
              "\n",
              "  <style>\n",
              "    pre {\n",
              "        white-space: pre-wrap;\n",
              "    }\n",
              "  </style>\n",
              "  "
            ]
          },
          "metadata": {}
        },
        {
          "output_type": "display_data",
          "data": {
            "text/plain": [
              "<IPython.core.display.HTML object>"
            ],
            "text/html": [
              "\n",
              "            <style>\n",
              "                .geemap-dark {\n",
              "                    --jp-widgets-color: white;\n",
              "                    --jp-widgets-label-color: white;\n",
              "                    --jp-ui-font-color1: white;\n",
              "                    --jp-layout-color2: #454545;\n",
              "                    background-color: #383838;\n",
              "                }\n",
              "\n",
              "                .geemap-dark .jupyter-button {\n",
              "                    --jp-layout-color3: #383838;\n",
              "                }\n",
              "\n",
              "                .geemap-colab {\n",
              "                    background-color: var(--colab-primary-surface-color, white);\n",
              "                }\n",
              "\n",
              "                .geemap-colab .jupyter-button {\n",
              "                    --jp-layout-color3: var(--colab-primary-surface-color, white);\n",
              "                }\n",
              "            </style>\n",
              "            "
            ]
          },
          "metadata": {}
        }
      ],
      "source": [
        "#===============================================================================\n",
        "# EQUATIONS (Kumar-Roy)\n",
        "#===============================================================================\n",
        "# The following functions implement the equations in the paper:https://www.tandfonline.com/doi/full/10.1080/17538947.2017.1391341.\n",
        "\n",
        "def KReq12(image):\n",
        "    '''Eq 12 (unambiguous fires).'''\n",
        "    return image.expression(\"(b('B4') <= 0.53*b('B7')-0.214) ? 1 : 0\")\n",
        "\n",
        "#-------------------------------------------------------------------------------\n",
        "\n",
        "def KReq13(image, unamb_fires):\n",
        "    '''Eq 13 (unambiguous fires near pixels detected by KReq12).'''\n",
        "\n",
        "    # striclty speaking, we should take out from the neighborhood the pixels that were set in eq12,\n",
        "    # but as both eq12 and eq13 indicate unambiguous fires, the end result should be the same\n",
        "    neighborhood = unamb_fires.reduceNeighborhood(ee.Reducer.sum(), ee.Kernel.square(1, 'pixels', False))\n",
        "    return neighborhood.gt(0).And(image.expression(\"(b('B4') <= 0.35*b('B6')-0.044) ? 1 : 0\"))\n",
        "\n",
        "#-------------------------------------------------------------------------------\n",
        "\n",
        "def KReq14(image):\n",
        "    '''Eq 14 (potential fires).'''\n",
        "    return image.expression(\"(b('B4') <= 0.53*b('B7')-0.125) ? 1 : 0\")\n",
        "\n",
        "#-------------------------------------------------------------------------------\n",
        "\n",
        "def KReq15(image):\n",
        "    '''Eq 15 (potential fires).'''\n",
        "    return image.expression(\"(b('B6') <= 1.08*b('B7')-0.048) ? 1 : 0\")\n",
        "\n",
        "#-------------------------------------------------------------------------------\n",
        "\n",
        "def KReq16(image):\n",
        "    '''Eq 16 (water test).'''\n",
        "    return image.select('B2').gt(image.select('B3'))\\\n",
        "            .And(image.select('B3').gt(image.select('B4')))\\\n",
        "            .And(image.select('B4').gt(image.select('B5')))\n",
        "\n",
        "#-------------------------------------------------------------------------------\n",
        "\n",
        "def KReq8and9(image, valid, unamb_fires, potential_fires, water):\n",
        "    '''Eq 8 and 9 (contextual test for potential fires).'''\n",
        "\n",
        "    ret = ee.Image(0).setDefaultProjection(image.select('B7').projection())\n",
        "    fires = unamb_fires.Or(potential_fires)\n",
        "\n",
        "    # Means and standard deviations are computed ignoring unambiguous and potential fires, as well as water and shadow pixels.\n",
        "    # The paper is not clear on whether we should consider eq16 for the water pixels, or eq11 (from Schroeder, et al.).\n",
        "    # Eq 16 is used to define the neighborhood size, so we will use it for everything here.\n",
        "    ignored_pixels = valid.Not().Or(unamb_fires.Or(water))\n",
        "    kept_pixels = ignored_pixels.Not()\n",
        "    r75 = (image.select('B7').divide(image.select('B5'))).rename(['R75'])\n",
        "    r75 = r75.updateMask(kept_pixels)\n",
        "    b7 = image.select('B7')\n",
        "    b7 = b7.updateMask(kept_pixels)\n",
        "    reducers = ee.Reducer.mean().unweighted().combine(reducer2=ee.Reducer.stdDev().unweighted(),sharedInputs=True)\n",
        "\n",
        "    for w in range(5, 61+2, 2):\n",
        "        considered = fires.reduceNeighborhood(ee.Reducer.sum(), ee.Kernel.square((w-1)/2, 'pixels', False)).lt(0.75*w*w)\n",
        "        considered = ignored_pixels.Not().And(potential_fires).And(considered)\n",
        "\n",
        "        stats_r75 = r75.reduceNeighborhood(reducers, ee.Kernel.square((w-1)/2, 'pixels', False))\n",
        "        stats_b7 = b7.reduceNeighborhood(reducers, ee.Kernel.square((w-1)/2, 'pixels', False))\n",
        "        potential_r75 = r75.gt(stats_r75.select('R75_mean').add(stats_r75.expression(\"(3*b('R75_stdDev') > 0.8) ? 3*b('R75_stdDev') : 0.8\")))\n",
        "        potential_b7 = b7.gt(stats_b7.select('B7_mean').add(stats_b7.expression(\"(3*b('B7_stdDev') > 0.08) ? 3*b('B7_stdDev') : 0.08\")))\n",
        "\n",
        "        ret = ret.Or(considered.And(potential_r75.And(potential_b7)))\n",
        "        ignored_pixels = ignored_pixels.Or(considered)\n",
        "\n",
        "    return potential_fires.And(ret.unmask(unamb_fires))\n",
        "\n",
        "#-------------------------------------------------------------------------------\n",
        "\n",
        "def getFireMaskKumarRoy(image):\n",
        "    '''This is the central function. Receives the (corrected) reflectance bands\n",
        "and returns a binary fire mask.'''\n",
        "\n",
        "    image = image.divide(math.sin(math.radians(image.get('SUN_ELEVATION').getInfo())))\n",
        "\n",
        "    # Exclude from every step positions with band 7 <= 0.\n",
        "    valid = image.select('B7').gt(0)\n",
        "    valid = valid.reduceNeighborhood(ee.Reducer.min(), ee.Kernel.square(1, 'pixels', False))\n",
        "\n",
        "    # Unambiguous fires (satisfy eq 12 or 13).\n",
        "    unamb_fires = valid.And(KReq12(image))\n",
        "    unamb_fires = unamb_fires.Or(KReq13(image, unamb_fires))\n",
        "    unamb_fires = valid.And(unamb_fires)\n",
        "\n",
        "    # Potential fires (satisfy eq 14 or 15).\n",
        "    potential_fires = KReq14(image).Or(KReq15(image))\n",
        "    potential_fires = valid.And(potential_fires)\n",
        "\n",
        "    # Water pixels (used by the contextual test and excluded from the result.\n",
        "    water = KReq16(image)\n",
        "\n",
        "    # Contextual test for potential fires (eq 8 and 9).\n",
        "    potential_fires = KReq8and9(image, valid, unamb_fires, potential_fires, water)\n",
        "\n",
        "    return (water.Not().And(unamb_fires.Or(potential_fires))).rename(['F'])"
      ]
    },
    {
      "cell_type": "markdown",
      "metadata": {
        "id": "pSN4K9xRFYmp"
      },
      "source": [
        "## Testing segmentation masks generated by above sets of conditions"
      ]
    },
    {
      "cell_type": "code",
      "execution_count": null,
      "metadata": {
        "id": "jNbAN098rb2W",
        "colab": {
          "base_uri": "https://localhost:8080/",
          "referenced_widgets": [
            "9665123d514047b99425219b4f0e894b",
            "958182063e0a4b95be680c9ebfa15025",
            "ed0c8d99cde1493782074daaed5e8603",
            "d3d7bdc962fe47d094130697f7810ada",
            "92d5a4de882d4d32acd748d14e9bc942",
            "ba0fad496bc746a49af35b8d4193e49d",
            "457ab6e9b4874c03b09619d3b2274597",
            "2a76bf960e8f424cad3d8135f008254a",
            "78f4fa7c14794045b1a4950f74f2eab1",
            "bcfe63372ae142629726cc526c9300b4",
            "4cce954b2dd0483595fe58ee0a0b0bd7",
            "7789ae1e3023489f866c63289bd9738f",
            "5b9366a8535947d9aea5b18109a624e0",
            "883591da27e648e3a4457c850e7aa44a",
            "70135d3236fb4565be6389f9407c35f5",
            "d6654f619cfa415ab866ff38ee76be5a",
            "8e448d3e5a394258b5623319ba8657d3",
            "2b24bba63966438aa389d4b6aef31921",
            "3e435da5d3794212a50d039a5e34044f",
            "b47bfe107d1b485eb52a51699f0d864a",
            "d88718387b7948159437d1adc2c0e3a4",
            "04114b04f22c485fa20de7b14b512e74",
            "68ad13dd97f74a0a84085f92d326b939",
            "338c58a34b214fe0a75116999615b22d",
            "484d9e6ba5194ed587e6d42a3ebe173c",
            "a8afbaf62e0f405aa1180d70ce4c9d12",
            "b71995bd50e84f0c926924f64e625753",
            "2cef92ee739b4ad6b2c9e11af61dc29c",
            "af00757247e546cb8b3a39762b23317b"
          ]
        },
        "outputId": "dc622241-f625-497e-85f8-94875518948b"
      },
      "outputs": [
        {
          "output_type": "display_data",
          "data": {
            "text/plain": [
              "<IPython.core.display.HTML object>"
            ],
            "text/html": [
              "\n",
              "  <style>\n",
              "    pre {\n",
              "        white-space: pre-wrap;\n",
              "    }\n",
              "  </style>\n",
              "  "
            ]
          },
          "metadata": {}
        },
        {
          "output_type": "display_data",
          "data": {
            "text/plain": [
              "<IPython.core.display.HTML object>"
            ],
            "text/html": [
              "\n",
              "            <style>\n",
              "                .geemap-dark {\n",
              "                    --jp-widgets-color: white;\n",
              "                    --jp-widgets-label-color: white;\n",
              "                    --jp-ui-font-color1: white;\n",
              "                    --jp-layout-color2: #454545;\n",
              "                    background-color: #383838;\n",
              "                }\n",
              "\n",
              "                .geemap-dark .jupyter-button {\n",
              "                    --jp-layout-color3: #383838;\n",
              "                }\n",
              "\n",
              "                .geemap-colab {\n",
              "                    background-color: var(--colab-primary-surface-color, white);\n",
              "                }\n",
              "\n",
              "                .geemap-colab .jupyter-button {\n",
              "                    --jp-layout-color3: var(--colab-primary-surface-color, white);\n",
              "                }\n",
              "            </style>\n",
              "            "
            ]
          },
          "metadata": {}
        },
        {
          "output_type": "display_data",
          "data": {
            "text/plain": [
              "Map(center=[0, 0], controls=(WidgetControl(options=['position', 'transparent_bg'], widget=SearchDataGUI(childr…"
            ],
            "application/vnd.jupyter.widget-view+json": {
              "version_major": 2,
              "version_minor": 0,
              "model_id": "9665123d514047b99425219b4f0e894b"
            }
          },
          "metadata": {
            "application/vnd.jupyter.widget-view+json": {
              "colab": {
                "custom_widget_manager": {
                  "url": "https://ssl.gstatic.com/colaboratory-static/widgets/colab-cdn-widget-manager/2b70e893a8ba7c0f/manager.min.js"
                }
              }
            }
          }
        }
      ],
      "source": [
        "district_boundaries = ee.FeatureCollection('projects/ee-indiasat/assets/india_district_boundaries')\n",
        "aoi = district_boundaries.filter(ee.Filter.eq('Name', 'Nainital'))\n",
        "# aoi = district_boundaries.filter(ee.Filter.Or(ee.Filter.eq('Name', 'Kandhamal'), ee.Filter.eq('Name', 'Kalahandi')))\n",
        "\n",
        "# start_date = '2016-04-01'\n",
        "# end_date = '2016-05-31'\n",
        "\n",
        "# imageCollection = ee.ImageCollection('LANDSAT/LC08/C02/T1')\\\n",
        "#     .filterDate(start_date , end_date)\\\n",
        "#     .filterBounds(aoi)\\\n",
        "#     .filter(ee.Filter.eq('WRS_PATH', 145))\\\n",
        "#     .filter(ee.Filter.eq('WRS_ROW', 40))\n",
        "# # pprint(imageCollection.getInfo())\n",
        "\n",
        "# n = imageCollection.size().getInfo()\n",
        "# imageList = imageCollection.toList(n)\n",
        "# imageIds = imageList.map(lambda image:ee.String(ee.Image(image).get('system:id')))\n",
        "# display(imageIds)\n",
        "# # for i in range(n):\n",
        "# #     image = ee.Image(imageList.get(i));\n",
        "# #     print(ee.String(image.get('system:id')).getInfo())\n",
        "\n",
        "image = ee.Image('LANDSAT/LC08/C02/T1_TOA/LC08_145040_20200525').clip(aoi)\n",
        "fire_mask = getFireMaskMurphy(image)\n",
        "fire = fire_mask.updateMask(fire_mask)\n",
        "fire_vectors = fire.addBands(fire).reduceToVectors(\n",
        "#   geometry = fire.geometry(),\n",
        "#   crs = fire.projection(),\n",
        "    scale = 30,\n",
        "    # geometryInNativeProjection = True,\n",
        "#   geometryType = 'polygon',\n",
        "    reducer = ee.Reducer.mean(),\n",
        "    maxPixels = 1e10\n",
        ")\n",
        "fire_display = ee.Image(0).updateMask(0).paint(fire_vectors, '000000', 3)\n",
        "\n",
        "\n",
        "Map = geemap.Map()\n",
        "Map.addLayerControl()\n",
        "Map.centerObject(aoi)\n",
        "\n",
        "Map.addLayer(aoi, None, 'district')\n",
        "Map.addLayer(fire_mask, {'min': 0, 'max': 1, 'palette': ['000000', 'FFFFFF']}, 'fire_mask')\n",
        "Map.addLayer(fire, {'palette': ['000000', 'FFFFFF']}, 'fire')\n",
        "Map.addLayer(fire_display, {'palette': '000000'}, 'fire_display')\n",
        "\n",
        "Map"
      ]
    },
    {
      "cell_type": "code",
      "execution_count": null,
      "metadata": {
        "colab": {
          "base_uri": "https://localhost:8080/"
        },
        "id": "JAEFGQI2EAb1",
        "outputId": "e3ef83ea-e581-4210-e994-95c63d2dcba6"
      },
      "outputs": [
        {
          "output_type": "display_data",
          "data": {
            "text/plain": [
              "<IPython.core.display.HTML object>"
            ],
            "text/html": [
              "\n",
              "  <style>\n",
              "    pre {\n",
              "        white-space: pre-wrap;\n",
              "    }\n",
              "  </style>\n",
              "  "
            ]
          },
          "metadata": {}
        },
        {
          "output_type": "display_data",
          "data": {
            "text/plain": [
              "<IPython.core.display.HTML object>"
            ],
            "text/html": [
              "\n",
              "            <style>\n",
              "                .geemap-dark {\n",
              "                    --jp-widgets-color: white;\n",
              "                    --jp-widgets-label-color: white;\n",
              "                    --jp-ui-font-color1: white;\n",
              "                    --jp-layout-color2: #454545;\n",
              "                    background-color: #383838;\n",
              "                }\n",
              "\n",
              "                .geemap-dark .jupyter-button {\n",
              "                    --jp-layout-color3: #383838;\n",
              "                }\n",
              "\n",
              "                .geemap-colab {\n",
              "                    background-color: var(--colab-primary-surface-color, white);\n",
              "                }\n",
              "\n",
              "                .geemap-colab .jupyter-button {\n",
              "                    --jp-layout-color3: var(--colab-primary-surface-color, white);\n",
              "                }\n",
              "            </style>\n",
              "            "
            ]
          },
          "metadata": {}
        },
        {
          "output_type": "stream",
          "name": "stdout",
          "text": [
            "Number of fire pixels = 108\n",
            "Number of fire regions = 40\n"
          ]
        }
      ],
      "source": [
        "# Counting fire pixels in segmentation mask\n",
        "\n",
        "fire_pixels = fire.reduceRegion(reducer = ee.Reducer.sum(), scale = 30, maxPixels = 1e8)\n",
        "print('Number of fire pixels =', ee.Number(fire_pixels.get('F')).getInfo())\n",
        "print('Number of fire regions =', fire_vectors.size().getInfo())"
      ]
    },
    {
      "cell_type": "code",
      "execution_count": null,
      "metadata": {
        "id": "twyXtgnteziK"
      },
      "outputs": [],
      "source": [
        "# Finding fire-regions' centroids' coordinates\n",
        "\n",
        "def decimal_to_dms(decimal_coord, end):\n",
        "    degrees = int(decimal_coord)\n",
        "    decimal_minutes = (decimal_coord - degrees) * 60\n",
        "    minutes = int(decimal_minutes)\n",
        "    seconds = (decimal_minutes - minutes) * 60\n",
        "    print(f\"{degrees}° {minutes}' {seconds:.2f}\\\"\", end=end)\n",
        "\n",
        "def truncate(number, digits) -> float:\n",
        "    # Improve accuracy with floating point operations, to avoid truncate(16.4, 2) = 16.39 or truncate(-1.13, 2) = -1.12\n",
        "    nbDecimals = len(str(number).split('.')[1])\n",
        "    if nbDecimals <= digits:\n",
        "        return number\n",
        "    stepper = 10.0 ** digits\n",
        "    return math.trunc(stepper * number) / stepper\n",
        "\n",
        "\n",
        "fire_regions = fire_vectors#.filter(\"mean == 1\")\n",
        "fire_coordinates = fire_regions.select([]).map(lambda feature : feature.centroid(1))\n",
        "num_fires = fire_coordinates.size().getInfo()\n",
        "fire_coordinates_list = fire_coordinates.toList(num_fires)\n",
        "for i in range(num_fires):\n",
        "    feature = ee.Feature(fire_coordinates_list.get(i))\n",
        "    coordinates = feature.geometry().coordinates()\n",
        "    firstCoordinate = coordinates.get(0).getInfo()\n",
        "    lastCoordinate = coordinates.get(-1).getInfo()\n",
        "    decimal_to_dms(firstCoordinate, ', ')\n",
        "    decimal_to_dms(lastCoordinate, \"\\n\")"
      ]
    },
    {
      "cell_type": "code",
      "execution_count": null,
      "metadata": {
        "colab": {
          "base_uri": "https://localhost:8080/"
        },
        "id": "s3w8-0iZGuXg",
        "outputId": "7e24690b-a5af-45b6-b086-587f2dddf792"
      },
      "outputs": [
        {
          "output_type": "display_data",
          "data": {
            "text/plain": [
              "<IPython.core.display.HTML object>"
            ],
            "text/html": [
              "\n",
              "  <style>\n",
              "    pre {\n",
              "        white-space: pre-wrap;\n",
              "    }\n",
              "  </style>\n",
              "  "
            ]
          },
          "metadata": {}
        },
        {
          "output_type": "display_data",
          "data": {
            "text/plain": [
              "<IPython.core.display.HTML object>"
            ],
            "text/html": [
              "\n",
              "            <style>\n",
              "                .geemap-dark {\n",
              "                    --jp-widgets-color: white;\n",
              "                    --jp-widgets-label-color: white;\n",
              "                    --jp-ui-font-color1: white;\n",
              "                    --jp-layout-color2: #454545;\n",
              "                    background-color: #383838;\n",
              "                }\n",
              "\n",
              "                .geemap-dark .jupyter-button {\n",
              "                    --jp-layout-color3: #383838;\n",
              "                }\n",
              "\n",
              "                .geemap-colab {\n",
              "                    background-color: var(--colab-primary-surface-color, white);\n",
              "                }\n",
              "\n",
              "                .geemap-colab .jupyter-button {\n",
              "                    --jp-layout-color3: var(--colab-primary-surface-color, white);\n",
              "                }\n",
              "            </style>\n",
              "            "
            ]
          },
          "metadata": {}
        }
      ],
      "source": [
        "# Exporting fire regions' centroids' coordinates\n",
        "\n",
        "fire_coordinates = fire_vectors.select([]).map(lambda feature : feature.set({'centroid': feature.centroid(1)}))\n",
        "task = ee.batch.Export.table.toDrive(\n",
        "      collection = fire_coordinates,\n",
        "      description = 'fire_coordinates',\n",
        "      fileFormat = 'csv',\n",
        "      folder='anaad',\n",
        "    )\n",
        "task.start()"
      ]
    },
    {
      "cell_type": "markdown",
      "metadata": {
        "id": "F1KTZBZ0rO9L"
      },
      "source": [
        "#Random Forest Classifier (built using Landsat-8, MODIS, VIIRS data)"
      ]
    },
    {
      "cell_type": "markdown",
      "source": [
        "## Sentinel-2"
      ],
      "metadata": {
        "id": "-zSZU5qiuIXv"
      }
    },
    {
      "cell_type": "code",
      "source": [
        "patches_paths = [\n",
        "    'projects/ee-anaad/assets/Dataset/GroundTruth/LC08_L1GT_226074_20200921_20200921_01_RT_v1_p00811',\n",
        "    'projects/ee-anaad/assets/Dataset/GroundTruth/LC08_L1GT_226074_20200921_20200921_01_RT_v1_p00812',\n",
        "    'projects/ee-anaad/assets/Dataset/GroundTruth/LC08_L1TP_025033_20200921_20200921_01_RT_v1_p00024',\n",
        "    'projects/ee-anaad/assets/Dataset/GroundTruth/LC08_L1TP_025033_20200921_20200921_01_RT_v1_p00052',\n",
        "    'projects/ee-anaad/assets/Dataset/GroundTruth/LC08_L1TP_025033_20200921_20200921_01_RT_v1_p00053',\n",
        "    'projects/ee-anaad/assets/Dataset/GroundTruth/LC08_L1TP_025033_20200921_20200921_01_RT_v1_p00108',\n",
        "    'projects/ee-anaad/assets/Dataset/GroundTruth/LC08_L1TP_025033_20200921_20200921_01_RT_v1_p00113',\n",
        "    'projects/ee-anaad/assets/Dataset/GroundTruth/LC08_L1TP_025033_20200921_20200921_01_RT_v1_p00167',\n",
        "    'projects/ee-anaad/assets/Dataset/GroundTruth/LC08_L1TP_025033_20200921_20200921_01_RT_v1_p00170',\n",
        "    'projects/ee-anaad/assets/Dataset/GroundTruth/LC08_L1TP_025033_20200921_20200921_01_RT_v1_p00177',\n",
        "    'projects/ee-anaad/assets/Dataset/GroundTruth/LC08_L1TP_025033_20200921_20200921_01_RT_v1_p00179',\n",
        "    'projects/ee-anaad/assets/Dataset/GroundTruth/LC08_L1TP_025033_20200921_20200921_01_RT_v1_p00234',\n",
        "    'projects/ee-anaad/assets/Dataset/GroundTruth/LC08_L1TP_025033_20200921_20200921_01_RT_v1_p00275',\n",
        "    'projects/ee-anaad/assets/Dataset/GroundTruth/LC08_L1TP_025033_20200921_20200921_01_RT_v1_p00338',\n",
        "    'projects/ee-anaad/assets/Dataset/GroundTruth/LC08_L1TP_025033_20200921_20200921_01_RT_v1_p00368',\n",
        "    'projects/ee-anaad/assets/Dataset/GroundTruth/LC08_L1TP_025033_20200921_20200921_01_RT_v1_p00397',\n",
        "    'projects/ee-anaad/assets/Dataset/GroundTruth/LC08_L1TP_025033_20200921_20200921_01_RT_v1_p00410',\n",
        "    'projects/ee-anaad/assets/Dataset/GroundTruth/LC08_L1TP_025033_20200921_20200921_01_RT_v1_p00422',\n",
        "    'projects/ee-anaad/assets/Dataset/GroundTruth/LC08_L1TP_025033_20200921_20200921_01_RT_v1_p00426',\n",
        "    'projects/ee-anaad/assets/Dataset/GroundTruth/LC08_L1TP_025033_20200921_20200921_01_RT_v1_p00451',\n",
        "    'projects/ee-anaad/assets/Dataset/GroundTruth/LC08_L1TP_025033_20200921_20200921_01_RT_v1_p00454',\n",
        "    'projects/ee-anaad/assets/Dataset/GroundTruth/LC08_L1TP_025033_20200921_20200921_01_RT_v1_p00458',\n",
        "    'projects/ee-anaad/assets/Dataset/GroundTruth/LC08_L1TP_025033_20200921_20200921_01_RT_v1_p00461',\n",
        "    'projects/ee-anaad/assets/Dataset/GroundTruth/LC08_L1TP_025033_20200921_20200921_01_RT_v1_p00470',\n",
        "    'projects/ee-anaad/assets/Dataset/GroundTruth/LC08_L1TP_025033_20200921_20200921_01_RT_v1_p00474',\n",
        "    'projects/ee-anaad/assets/Dataset/GroundTruth/LC08_L1TP_025033_20200921_20200921_01_RT_v1_p00475',\n",
        "    'projects/ee-anaad/assets/Dataset/GroundTruth/LC08_L1TP_025033_20200921_20200921_01_RT_v1_p00481',\n",
        "    'projects/ee-anaad/assets/Dataset/GroundTruth/LC08_L1TP_025033_20200921_20200921_01_RT_v1_p00486',\n",
        "    'projects/ee-anaad/assets/Dataset/GroundTruth/LC08_L1TP_025033_20200921_20200921_01_RT_v1_p00488',\n",
        "    'projects/ee-anaad/assets/Dataset/GroundTruth/LC08_L1TP_025033_20200921_20200921_01_RT_v1_p00508',\n",
        "    'projects/ee-anaad/assets/Dataset/GroundTruth/LC08_L1TP_025033_20200921_20200921_01_RT_v1_p00517',\n",
        "    'projects/ee-anaad/assets/Dataset/GroundTruth/LC08_L1TP_025033_20200921_20200921_01_RT_v1_p00519',\n",
        "    'projects/ee-anaad/assets/Dataset/GroundTruth/LC08_L1TP_025033_20200921_20200921_01_RT_v1_p00546',\n",
        "    'projects/ee-anaad/assets/Dataset/GroundTruth/LC08_L1TP_025033_20200921_20200921_01_RT_v1_p00574',\n",
        "    'projects/ee-anaad/assets/Dataset/GroundTruth/LC08_L1TP_025033_20200921_20200921_01_RT_v1_p00586',\n",
        "    'projects/ee-anaad/assets/Dataset/GroundTruth/LC08_L1TP_025033_20200921_20200921_01_RT_v1_p00601',\n",
        "    'projects/ee-anaad/assets/Dataset/GroundTruth/LC08_L1TP_025033_20200921_20200921_01_RT_v1_p00617',\n",
        "    'projects/ee-anaad/assets/Dataset/GroundTruth/LC08_L1TP_025033_20200921_20200921_01_RT_v1_p00677',\n",
        "    'projects/ee-anaad/assets/Dataset/GroundTruth/LC08_L1TP_025033_20200921_20200921_01_RT_v1_p00681',\n",
        "    'projects/ee-anaad/assets/Dataset/GroundTruth/LC08_L1TP_025033_20200921_20200921_01_RT_v1_p00741',\n",
        "    'projects/ee-anaad/assets/Dataset/GroundTruth/LC08_L1TP_046021_20200908_20200908_01_RT_v1_p00173',\n",
        "    'projects/ee-anaad/assets/Dataset/GroundTruth/LC08_L1TP_046021_20200908_20200908_01_RT_v1_p00680',\n",
        "    'projects/ee-anaad/assets/Dataset/GroundTruth/LC08_L1TP_046021_20200908_20200908_01_RT_v1_p00843',\n",
        "    'projects/ee-anaad/assets/Dataset/GroundTruth/LC08_L1TP_046021_20200908_20200908_01_RT_v1_p00904',\n",
        "    'projects/ee-anaad/assets/Dataset/GroundTruth/LC08_L1TP_046031_20200908_20200908_01_RT_v1_p00583',\n",
        "    'projects/ee-anaad/assets/Dataset/GroundTruth/LC08_L1TP_046031_20200908_20200908_01_RT_v1_p00584',\n",
        "    'projects/ee-anaad/assets/Dataset/GroundTruth/LC08_L1TP_046031_20200908_20200908_01_RT_v1_p00603',\n",
        "    'projects/ee-anaad/assets/Dataset/GroundTruth/LC08_L1TP_046031_20200908_20200908_01_RT_v1_p00604',\n",
        "    'projects/ee-anaad/assets/Dataset/GroundTruth/LC08_L1TP_046031_20200908_20200908_01_RT_v1_p00613',\n",
        "    'projects/ee-anaad/assets/Dataset/GroundTruth/LC08_L1TP_046031_20200908_20200908_01_RT_v1_p00614',\n",
        "    'projects/ee-anaad/assets/Dataset/GroundTruth/LC08_L1TP_046031_20200908_20200908_01_RT_v1_p00615',\n",
        "    'projects/ee-anaad/assets/Dataset/GroundTruth/LC08_L1TP_046031_20200908_20200908_01_RT_v1_p00616',\n",
        "    'projects/ee-anaad/assets/Dataset/GroundTruth/LC08_L1TP_046031_20200908_20200908_01_RT_v1_p00634',\n",
        "    'projects/ee-anaad/assets/Dataset/GroundTruth/LC08_L1TP_046031_20200908_20200908_01_RT_v1_p00635',\n",
        "    'projects/ee-anaad/assets/Dataset/GroundTruth/LC08_L1TP_046031_20200908_20200908_01_RT_v1_p00644',\n",
        "    'projects/ee-anaad/assets/Dataset/GroundTruth/LC08_L1TP_046031_20200908_20200908_01_RT_v1_p00645',\n",
        "    'projects/ee-anaad/assets/Dataset/GroundTruth/LC08_L1TP_046031_20200908_20200908_01_RT_v1_p00646',\n",
        "    'projects/ee-anaad/assets/Dataset/GroundTruth/LC08_L1TP_046031_20200908_20200908_01_RT_v1_p00647',\n",
        "    'projects/ee-anaad/assets/Dataset/GroundTruth/LC08_L1TP_046031_20200908_20200908_01_RT_v1_p00846',\n",
        "    'projects/ee-anaad/assets/Dataset/GroundTruth/LC08_L1TP_105069_20200922_20200922_01_RT_v1_p00275',\n",
        "    'projects/ee-anaad/assets/Dataset/GroundTruth/LC08_L1TP_105069_20200922_20200922_01_RT_v1_p00306',\n",
        "    'projects/ee-anaad/assets/Dataset/GroundTruth/LC08_L1TP_105069_20200922_20200922_01_RT_v1_p00400',\n",
        "    'projects/ee-anaad/assets/Dataset/GroundTruth/LC08_L1TP_105069_20200922_20200922_01_RT_v1_p00447',\n",
        "    'projects/ee-anaad/assets/Dataset/GroundTruth/LC08_L1TP_105069_20200922_20200922_01_RT_v1_p00448',\n",
        "    'projects/ee-anaad/assets/Dataset/GroundTruth/LC08_L1TP_105069_20200922_20200922_01_RT_v1_p00455',\n",
        "    'projects/ee-anaad/assets/Dataset/GroundTruth/LC08_L1TP_105069_20200922_20200922_01_RT_v1_p00478',\n",
        "    'projects/ee-anaad/assets/Dataset/GroundTruth/LC08_L1TP_117016_20200926_20200926_01_RT_v1_p00113',\n",
        "    'projects/ee-anaad/assets/Dataset/GroundTruth/LC08_L1TP_117016_20200926_20200926_01_RT_v1_p00114',\n",
        "    'projects/ee-anaad/assets/Dataset/GroundTruth/LC08_L1TP_117016_20200926_20200926_01_RT_v1_p00115',\n",
        "    'projects/ee-anaad/assets/Dataset/GroundTruth/LC08_L1TP_117016_20200926_20200926_01_RT_v1_p00144',\n",
        "    'projects/ee-anaad/assets/Dataset/GroundTruth/LC08_L1TP_117016_20200926_20200926_01_RT_v1_p00145',\n",
        "    'projects/ee-anaad/assets/Dataset/GroundTruth/LC08_L1TP_117016_20200926_20200926_01_RT_v1_p00147',\n",
        "    'projects/ee-anaad/assets/Dataset/GroundTruth/LC08_L1TP_117016_20200926_20200926_01_RT_v1_p00148',\n",
        "    'projects/ee-anaad/assets/Dataset/GroundTruth/LC08_L1TP_117016_20200926_20200926_01_RT_v1_p00181',\n",
        "    'projects/ee-anaad/assets/Dataset/GroundTruth/LC08_L1TP_117016_20200926_20200926_01_RT_v1_p00190',\n",
        "    'projects/ee-anaad/assets/Dataset/GroundTruth/LC08_L1TP_117016_20200926_20200926_01_RT_v1_p00213',\n",
        "    'projects/ee-anaad/assets/Dataset/GroundTruth/LC08_L1TP_117016_20200926_20200926_01_RT_v1_p00214',\n",
        "    'projects/ee-anaad/assets/Dataset/GroundTruth/LC08_L1TP_117016_20200926_20200926_01_RT_v1_p00240',\n",
        "    'projects/ee-anaad/assets/Dataset/GroundTruth/LC08_L1TP_117016_20200926_20200926_01_RT_v1_p00317',\n",
        "    'projects/ee-anaad/assets/Dataset/GroundTruth/LC08_L1TP_117016_20200926_20200926_01_RT_v1_p00318',\n",
        "    'projects/ee-anaad/assets/Dataset/GroundTruth/LC08_L1TP_117016_20200926_20200926_01_RT_v1_p00539',\n",
        "    'projects/ee-anaad/assets/Dataset/GroundTruth/LC08_L1TP_117016_20200926_20200926_01_RT_v1_p00586',\n",
        "    'projects/ee-anaad/assets/Dataset/GroundTruth/LC08_L1TP_117016_20200926_20200926_01_RT_v1_p00805',\n",
        "    'projects/ee-anaad/assets/Dataset/GroundTruth/LC08_L1TP_117016_20200926_20200926_01_RT_v1_p00838',\n",
        "    'projects/ee-anaad/assets/Dataset/GroundTruth/LC08_L1TP_134039_20200901_20200901_01_RT_v1_p00453',\n",
        "    'projects/ee-anaad/assets/Dataset/GroundTruth/LC08_L1TP_157012_20200918_20200918_01_RT_v1_p00156',\n",
        "    'projects/ee-anaad/assets/Dataset/GroundTruth/LC08_L1TP_157012_20200918_20200918_01_RT_v1_p00423',\n",
        "    'projects/ee-anaad/assets/Dataset/GroundTruth/LC08_L1TP_157012_20200918_20200918_01_RT_v1_p00490',\n",
        "    'projects/ee-anaad/assets/Dataset/GroundTruth/LC08_L1TP_157012_20200918_20200918_01_RT_v1_p00534',\n",
        "    'projects/ee-anaad/assets/Dataset/GroundTruth/LC08_L1TP_157012_20200918_20200918_01_RT_v1_p00558',\n",
        "    'projects/ee-anaad/assets/Dataset/GroundTruth/LC08_L1TP_175074_20200916_20200916_01_RT_v1_p00077',\n",
        "    'projects/ee-anaad/assets/Dataset/GroundTruth/LC08_L1TP_175074_20200916_20200916_01_RT_v1_p00078',\n",
        "    'projects/ee-anaad/assets/Dataset/GroundTruth/LC08_L1TP_175074_20200916_20200916_01_RT_v1_p00107',\n",
        "    'projects/ee-anaad/assets/Dataset/GroundTruth/LC08_L1TP_175074_20200916_20200916_01_RT_v1_p00108',\n",
        "    'projects/ee-anaad/assets/Dataset/GroundTruth/LC08_L1TP_175074_20200916_20200916_01_RT_v1_p00109',\n",
        "    'projects/ee-anaad/assets/Dataset/GroundTruth/LC08_L1TP_175074_20200916_20200916_01_RT_v1_p00137',\n",
        "    'projects/ee-anaad/assets/Dataset/GroundTruth/LC08_L1TP_175074_20200916_20200916_01_RT_v1_p00138',\n",
        "    'projects/ee-anaad/assets/Dataset/GroundTruth/LC08_L1TP_175074_20200916_20200916_01_RT_v1_p00139',\n",
        "    'projects/ee-anaad/assets/Dataset/GroundTruth/LC08_L1TP_175074_20200916_20200916_01_RT_v1_p00140',\n",
        "    'projects/ee-anaad/assets/Dataset/GroundTruth/LC08_L1TP_177044_20200914_20200914_01_RT_v1_p00363'\n",
        "]"
      ],
      "metadata": {
        "colab": {
          "base_uri": "https://localhost:8080/",
          "height": 17
        },
        "id": "jIFUkhkI58Ct",
        "outputId": "2901dd6b-9e28-4807-ec67-9b876005f302"
      },
      "execution_count": null,
      "outputs": [
        {
          "output_type": "display_data",
          "data": {
            "text/plain": [
              "<IPython.core.display.HTML object>"
            ],
            "text/html": [
              "\n",
              "  <style>\n",
              "    pre {\n",
              "        white-space: pre-wrap;\n",
              "    }\n",
              "  </style>\n",
              "  "
            ]
          },
          "metadata": {}
        },
        {
          "output_type": "display_data",
          "data": {
            "text/plain": [
              "<IPython.core.display.HTML object>"
            ],
            "text/html": [
              "\n",
              "            <style>\n",
              "                .geemap-dark {\n",
              "                    --jp-widgets-color: white;\n",
              "                    --jp-widgets-label-color: white;\n",
              "                    --jp-ui-font-color1: white;\n",
              "                    --jp-layout-color2: #454545;\n",
              "                    background-color: #383838;\n",
              "                }\n",
              "\n",
              "                .geemap-dark .jupyter-button {\n",
              "                    --jp-layout-color3: #383838;\n",
              "                }\n",
              "\n",
              "                .geemap-colab {\n",
              "                    background-color: var(--colab-primary-surface-color, white);\n",
              "                }\n",
              "\n",
              "                .geemap-colab .jupyter-button {\n",
              "                    --jp-layout-color3: var(--colab-primary-surface-color, white);\n",
              "                }\n",
              "            </style>\n",
              "            "
            ]
          },
          "metadata": {}
        }
      ]
    },
    {
      "cell_type": "code",
      "source": [
        "#===============================================================================\n",
        "# Bands to use for classifying (Sentinel-2)\n",
        "#===============================================================================\n",
        "\n",
        "\n",
        "band_names = [\n",
        "                'B2',\n",
        "                'B3',\n",
        "                'B4',\n",
        "                'B8',\n",
        "                'B5',\n",
        "                'B6',\n",
        "                'B7',\n",
        "                'B8A',\n",
        "                'B11',\n",
        "                'B12',\n",
        "             ]"
      ],
      "metadata": {
        "colab": {
          "base_uri": "https://localhost:8080/",
          "height": 17
        },
        "id": "qNnp7Dsuhwjl",
        "outputId": "4cab6d4a-c923-4390-c9b0-d1dc91153a19"
      },
      "execution_count": null,
      "outputs": [
        {
          "output_type": "display_data",
          "data": {
            "text/plain": [
              "<IPython.core.display.HTML object>"
            ],
            "text/html": [
              "\n",
              "  <style>\n",
              "    pre {\n",
              "        white-space: pre-wrap;\n",
              "    }\n",
              "  </style>\n",
              "  "
            ]
          },
          "metadata": {}
        },
        {
          "output_type": "display_data",
          "data": {
            "text/plain": [
              "<IPython.core.display.HTML object>"
            ],
            "text/html": [
              "\n",
              "            <style>\n",
              "                .geemap-dark {\n",
              "                    --jp-widgets-color: white;\n",
              "                    --jp-widgets-label-color: white;\n",
              "                    --jp-ui-font-color1: white;\n",
              "                    --jp-layout-color2: #454545;\n",
              "                    background-color: #383838;\n",
              "                }\n",
              "\n",
              "                .geemap-dark .jupyter-button {\n",
              "                    --jp-layout-color3: #383838;\n",
              "                }\n",
              "\n",
              "                .geemap-colab {\n",
              "                    background-color: var(--colab-primary-surface-color, white);\n",
              "                }\n",
              "\n",
              "                .geemap-colab .jupyter-button {\n",
              "                    --jp-layout-color3: var(--colab-primary-surface-color, white);\n",
              "                }\n",
              "            </style>\n",
              "            "
            ]
          },
          "metadata": {}
        }
      ]
    },
    {
      "cell_type": "code",
      "source": [
        "label = 'F'\n",
        "factor = 0.01\n",
        "numPoints = 1000\n",
        "scale = 30\n",
        "\n",
        "full_sample = ee.FeatureCollection([])\n",
        "\n",
        "for i in range(0, 100):\n",
        "    path = patches_paths[i]\n",
        "    manual_annotation_patch = ee.Image(path).rename([label])\n",
        "    if i==0 or i==1:\n",
        "        image_lsat = ee.Image('LANDSAT/LC08/C01/T2_TOA/LC08_'+path[-40:-25])\n",
        "    else:\n",
        "        image_lsat = ee.Image('LANDSAT/LC08/C02/T1_TOA/LC08_'+path[-40:-25])\n",
        "    projection = image_lsat.select('B7').projection().getInfo()\n",
        "    # image_lsat = image_lsat.updateMask(manual_annotation_patch.mask())#.clip(manual_annotation_patch.geometry())\n",
        "\n",
        "    date_string = path[-24:-16]\n",
        "    date_object = datetime.strptime(date_string, \"%Y%m%d\")\n",
        "    start_date = (date_object+timedelta(days=-4)).strftime(\"%Y-%m-%d\")\n",
        "    end_date = (date_object+timedelta(days=1)).strftime(\"%Y-%m-%d\")\n",
        "    min_date_diff = 5\n",
        "    sentinel_image = None\n",
        "\n",
        "    imageCollection = ee.ImageCollection('COPERNICUS/S2_HARMONIZED') \\\n",
        "        .filterDate(start_date, end_date) \\\n",
        "        .filterBounds(manual_annotation_patch.geometry()) \\\n",
        "        # .filter(ee.Filter.lt('CLOUDY_PIXEL_PERCENTAGE',10))\n",
        "    # Map.addLayer(ee.FeatureCollection(imageCollection), {}, 'granule boundaries')\n",
        "    # display(imageCollection)\n",
        "\n",
        "    n = imageCollection.size().getInfo()\n",
        "    imageList = imageCollection.toList(n)\n",
        "\n",
        "    for j in range(n):\n",
        "        image = ee.Image(imageList.get(j))\n",
        "        if image.geometry().contains(manual_annotation_patch.geometry()):\n",
        "            date = datetime.strptime(image.get('system:index').getInfo()[:8], \"%Y%m%d\")\n",
        "            date_diff = (date_object - date).days\n",
        "            if date_diff < min_date_diff:\n",
        "                min_date_diff = date_diff\n",
        "                sentinel_image = image#.select(['B2','B3','B4','B5','B6','B7','B8','B8A','B11','B12','QA10']).reproject(crs = projection['crs'], crsTransform = projection['transform'])\n",
        "\n",
        "    if (min_date_diff < 2):\n",
        "        sentinel_image = sentinel_image.select(['B2','B3','B4','B5','B6','B7','B8','B8A','B11','B12']).reproject(crs = projection['crs'], crsTransform = projection['transform'])\n",
        "        sentinel_image = sentinel_image.updateMask(manual_annotation_patch.mask()).clip(manual_annotation_patch.geometry())\n",
        "        image_patch = manual_annotation_patch.addBands(sentinel_image)\n",
        "        # sample = image_patch.stratifiedSample(\n",
        "        #     numPoints=numPoints, classBand=label, scale=scale, geometries=True\n",
        "        # )\n",
        "        sample = image_patch.sample(\n",
        "            scale=scale, geometries=True,\n",
        "            # numPixels = 10000,\n",
        "            factor = factor\n",
        "        )\n",
        "        full_sample = full_sample.merge(sample)"
      ],
      "metadata": {
        "id": "aF1jvvy3uKEz"
      },
      "execution_count": null,
      "outputs": []
    },
    {
      "cell_type": "code",
      "source": [
        "#===============================================================================\n",
        "# Training the classifier\n",
        "#===============================================================================\n",
        "\n",
        "\n",
        "# training_sample = samples[1].merge(samples[5]).merge(samples[4]).merge(samples[6]).merge(samples[8]).merge(samples[0]).merge(samples[7]).merge(samples[9]).merge(samples[2]).merge(samples[3])\n",
        "# validation_sample = samples[9].merge(samples[2]).merge(samples[3]).merge(samples[7])\n",
        "# full_sample = samples[0]\n",
        "# for i in range(1, 100):\n",
        "#     full_sample = full_sample.merge(samples[i])\n",
        "full_sample = full_sample.randomColumn()\n",
        "# display(full_sample)\n",
        "training_sample = full_sample.filter('random <= 0.75')\n",
        "validation_sample = full_sample.filter('random > 0.75')\n",
        "\n",
        "# Train a random forest classifier from the training sample.\n",
        "trained_classifier = ee.Classifier.smileRandomForest(15).train(\n",
        "    features=training_sample,\n",
        "    classProperty=label,\n",
        "    inputProperties=band_names,\n",
        ")\n",
        "\n",
        "# Get information about the trained classifier.\n",
        "display('Results of trained random forest classifier', trained_classifier.explain())\n",
        "\n",
        "# Get a confusion matrix and overall accuracy for the training sample.\n",
        "train_conf_matrix = trained_classifier.confusionMatrix()\n",
        "display('Training error matrix', train_conf_matrix)\n",
        "display('Training overall accuracy', train_conf_matrix.accuracy())\n",
        "\n",
        "# Get a confusion matrix and overall accuracy for the validation sample.\n",
        "validation_classified = validation_sample.classify(trained_classifier)\n",
        "validation_conf_matrix = validation_classified.errorMatrix(label, 'classification')\n",
        "display('Validation error matrix', validation_conf_matrix)\n",
        "display('Validation accuracy', validation_conf_matrix.accuracy())\n",
        "\n",
        "\n",
        "#===============================================================================\n",
        "# Printing classifier metrics\n",
        "#===============================================================================\n",
        "class_index = 1\n",
        "true_positive = validation_conf_matrix.array().get([class_index, class_index]).getInfo()\n",
        "false_positive = validation_conf_matrix.array().get([1 - class_index, class_index]).getInfo()  # 1 - class_index gives the index for the negative class\n",
        "false_negative = validation_conf_matrix.array().get([class_index, 1 - class_index]).getInfo()\n",
        "true_negative = validation_conf_matrix.array().get([1 - class_index, 1 - class_index]).getInfo()\n",
        "\n",
        "accuracy = (true_positive + true_negative) / (true_positive + true_negative + false_positive + false_negative)\n",
        "precision = true_positive / (true_positive + false_positive)\n",
        "recall = true_positive / (true_positive + false_negative)\n",
        "f1_score = 2 * (precision * recall) / (precision + recall)\n",
        "\n",
        "print('Accuracy:', accuracy)\n",
        "print('Precision:', precision)\n",
        "print('Recall:', recall)\n",
        "print('F1 Score:', f1_score)"
      ],
      "metadata": {
        "id": "2KclQ2IuX5Ib"
      },
      "execution_count": null,
      "outputs": []
    },
    {
      "cell_type": "code",
      "source": [
        "# Random Forest (Sentinel-2)\n",
        "\n",
        "true_positive, false_positive, false_negative, true_negative = 0, 0, 0, 0\n",
        "for i in range(100):\n",
        "    path = patches_paths[i]\n",
        "    manual_annotation_patch = ee.Image(path).rename([label])\n",
        "    if i==0 or i==1:\n",
        "        image_lsat = ee.Image('LANDSAT/LC08/C01/T2_TOA/LC08_'+path[-40:-25])\n",
        "    else:\n",
        "        image_lsat = ee.Image('LANDSAT/LC08/C02/T1_TOA/LC08_'+path[-40:-25])\n",
        "    projection = image_lsat.select('B7').projection().getInfo()\n",
        "    # image_lsat = image_lsat.updateMask(manual_annotation_patch.mask())#.clip(manual_annotation_patch.geometry())\n",
        "\n",
        "    date_string = path[-24:-16]\n",
        "    date_object = datetime.strptime(date_string, \"%Y%m%d\")\n",
        "    start_date = (date_object+timedelta(days=-4)).strftime(\"%Y-%m-%d\")\n",
        "    end_date = (date_object+timedelta(days=1)).strftime(\"%Y-%m-%d\")\n",
        "    min_date_diff = 5\n",
        "    sentinel_image = None\n",
        "\n",
        "    imageCollection = ee.ImageCollection('COPERNICUS/S2_HARMONIZED') \\\n",
        "        .filterDate(start_date, end_date) \\\n",
        "        .filterBounds(manual_annotation_patch.geometry()) \\\n",
        "        # .filter(ee.Filter.lt('CLOUDY_PIXEL_PERCENTAGE',10))\n",
        "    # Map.addLayer(ee.FeatureCollection(imageCollection), {}, 'granule boundaries')\n",
        "    # display(imageCollection)\n",
        "\n",
        "    n = imageCollection.size().getInfo()\n",
        "    imageList = imageCollection.toList(n)\n",
        "\n",
        "    for j in range(n):\n",
        "        image = ee.Image(imageList.get(j))\n",
        "        if image.geometry().contains(manual_annotation_patch.geometry()):\n",
        "            date = datetime.strptime(image.get('system:index').getInfo()[:8], \"%Y%m%d\")\n",
        "            date_diff = (date_object - date).days\n",
        "            if date_diff < min_date_diff:\n",
        "                min_date_diff = date_diff\n",
        "                image = image.select(['B2','B3','B4','B5','B6','B7','B8','B8A','B11','B12','QA10']).reproject(crs = projection['crs'], crsTransform = projection['transform'])\n",
        "                image = image.updateMask(manual_annotation_patch.mask()).clip(manual_annotation_patch.geometry())\n",
        "                sentinel_image = image\n",
        "\n",
        "    fire_mask = sentinel_image.classify(trained_classifier).rename(['F']).updateMask(manual_annotation_patch.mask())\n",
        "\n",
        "\n",
        "    true_positive += (manual_annotation_patch.eq(1).And(fire_mask.eq(1))).reduceRegion(reducer = ee.Reducer.sum(), scale = 30, maxPixels = 1e8).getInfo()['F']\n",
        "    false_positive += (manual_annotation_patch.eq(0).And(fire_mask.eq(1))).reduceRegion(reducer = ee.Reducer.sum(), scale = 30, maxPixels = 1e8).getInfo()['F']\n",
        "    false_negative += (manual_annotation_patch.eq(1).And(fire_mask.eq(0))).reduceRegion(reducer = ee.Reducer.sum(), scale = 30, maxPixels = 1e8).getInfo()['F']\n",
        "    true_negative += (manual_annotation_patch.eq(0).And(fire_mask.eq(0))).reduceRegion(reducer = ee.Reducer.sum(), scale = 30, maxPixels = 1e8).getInfo()['F']\n",
        "\n",
        "print(true_positive)\n",
        "print(false_positive)\n",
        "print(false_negative)\n",
        "print(true_negative)\n",
        "\n",
        "accuracy = (true_positive + true_negative) / (true_positive + true_negative + false_positive + false_negative)\n",
        "precision = true_positive / (true_positive + false_positive)\n",
        "recall = true_positive / (true_positive + false_negative)\n",
        "f1_score = 2 * (precision * recall) / (precision + recall)\n",
        "\n",
        "print('Accuracy:', accuracy)\n",
        "print('Precision:', precision)\n",
        "print('Recall:', recall)\n",
        "print('F1 Score:', f1_score)"
      ],
      "metadata": {
        "id": "up74zsKp4yK5"
      },
      "execution_count": null,
      "outputs": []
    },
    {
      "cell_type": "code",
      "source": [
        "paths = [\n",
        "    'LC08_L1GT_226074_20200921', #2\n",
        "    'LC08_L1TP_025033_20200921', #38\n",
        "    'LC08_L1TP_046021_20200908', #4\n",
        "    'LC08_L1TP_046031_20200908', #15\n",
        "    'LC08_L1TP_105069_20200922', #7\n",
        "    'LC08_L1TP_117016_20200926', #18\n",
        "    'LC08_L1TP_134039_20200901', #1\n",
        "    'LC08_L1TP_157012_20200918', #5\n",
        "    'LC08_L1TP_175074_20200916', #9\n",
        "    'LC08_L1TP_177044_20200914' #1\n",
        "]\n",
        "\n",
        "sentinel_paths = [\n",
        "    ['COPERNICUS/S2_HARMONIZED/20200915T135121_20200915T135116_T21KXU'],\n",
        "    ['COPERNICUS/S2_HARMONIZED/20200918T165951_20200918T170946_T15SVC', 'COPERNICUS/S2_HARMONIZED/20200918T165951_20200918T170946_T15SVD', 'COPERNICUS/S2_HARMONIZED/20200920T164909_20200920T165357_T15SWC', 'COPERNICUS/S2_HARMONIZED/20200920T164909_20200920T165357_T15SWD', 'COPERNICUS/S2_HARMONIZED/20200920T164909_20200920T165357_T15SXC'],\n",
        "    ['COPERNICUS/S2_HARMONIZED/20200902T190919_20200902T191252_T11VLC', 'COPERNICUS/S2_HARMONIZED/20200904T185921_20200904T190750_T11VNC'],\n",
        "    ['COPERNICUS/S2_HARMONIZED/20200904T185921_20200904T190750_T10TEM', 'COPERNICUS/S2_HARMONIZED/20200914T190021_20200914T191051_T10TDL'],\n",
        "    ['COPERNICUS/S2_HARMONIZED/20200923T012721_20200923T012826_T52LGK', 'COPERNICUS/S2_HARMONIZED/20200923T012721_20200923T012826_T52LHL'],\n",
        "    [],\n",
        "    ['COPERNICUS/S2_HARMONIZED/20200902T040549_20200902T041849_T47RKP'],\n",
        "    [],\n",
        "    ['COPERNICUS/S2_HARMONIZED/20200920T082629_20200920T084811_T34KEC'],\n",
        "    ['COPERNICUS/S2_HARMONIZED/20200913T083559_20200913T084825_T35QPF']\n",
        "]"
      ],
      "metadata": {
        "colab": {
          "base_uri": "https://localhost:8080/",
          "height": 17
        },
        "id": "zDdUoonendFV",
        "outputId": "93782ecc-9c10-4a5e-fab8-e03e2114d715"
      },
      "execution_count": null,
      "outputs": [
        {
          "output_type": "display_data",
          "data": {
            "text/plain": [
              "<IPython.core.display.HTML object>"
            ],
            "text/html": [
              "\n",
              "  <style>\n",
              "    pre {\n",
              "        white-space: pre-wrap;\n",
              "    }\n",
              "  </style>\n",
              "  "
            ]
          },
          "metadata": {}
        },
        {
          "output_type": "display_data",
          "data": {
            "text/plain": [
              "<IPython.core.display.HTML object>"
            ],
            "text/html": [
              "\n",
              "            <style>\n",
              "                .geemap-dark {\n",
              "                    --jp-widgets-color: white;\n",
              "                    --jp-widgets-label-color: white;\n",
              "                    --jp-ui-font-color1: white;\n",
              "                    --jp-layout-color2: #454545;\n",
              "                    background-color: #383838;\n",
              "                }\n",
              "\n",
              "                .geemap-dark .jupyter-button {\n",
              "                    --jp-layout-color3: #383838;\n",
              "                }\n",
              "\n",
              "                .geemap-colab {\n",
              "                    background-color: var(--colab-primary-surface-color, white);\n",
              "                }\n",
              "\n",
              "                .geemap-colab .jupyter-button {\n",
              "                    --jp-layout-color3: var(--colab-primary-surface-color, white);\n",
              "                }\n",
              "            </style>\n",
              "            "
            ]
          },
          "metadata": {}
        }
      ]
    },
    {
      "cell_type": "code",
      "source": [
        "path = paths[0]\n",
        "manual_annotation_patch = ee.Image('projects/ee-anaad/assets/Dataset/'+path+'_manual').rename([label])\n",
        "\n",
        "ic = ee.ImageCollection('COPERNICUS/S2_HARMONIZED') \\\n",
        "        .filterBounds(manual_annotation_patch.geometry()) \\\n",
        "        .filterDate('2020-09-09', '2020-09-21') \\\n",
        "        # .filter(ee.Filter.lt('CLOUDY_PIXEL_PERCENTAGE',10))\n",
        "\n",
        "display(ic)\n",
        "\n",
        "n = ic.size().getInfo()\n",
        "imageList = ic.toList(n)\n",
        "for i in range(n):\n",
        "    img = ee.Image(imageList.get(i))\n",
        "    Map.addLayer(img, None, 'img'+str(i))\n",
        "\n",
        "\n",
        "Map = geemap.Map()\n",
        "Map.addLayerControl()\n",
        "Map.centerObject(manual_annotation_patch)\n",
        "Map.addLayer(manual_annotation_patch, None, 'manual_annotation_patch')\n",
        "Map.addLayer(manual_annotation_patch.geometry(), None, 'geometry')\n",
        "Map.addLayer(ee.FeatureCollection(ic), {}, 'granule boundaries')\n",
        "\n",
        "Map"
      ],
      "metadata": {
        "colab": {
          "base_uri": "https://localhost:8080/",
          "height": 17
        },
        "id": "ffFygZW8ncZV",
        "outputId": "ae84636b-dcbc-4b60-aee1-0046abf83033"
      },
      "execution_count": null,
      "outputs": [
        {
          "output_type": "display_data",
          "data": {
            "text/plain": [
              "<IPython.core.display.HTML object>"
            ],
            "text/html": [
              "\n",
              "  <style>\n",
              "    pre {\n",
              "        white-space: pre-wrap;\n",
              "    }\n",
              "  </style>\n",
              "  "
            ]
          },
          "metadata": {}
        },
        {
          "output_type": "display_data",
          "data": {
            "text/plain": [
              "<IPython.core.display.HTML object>"
            ],
            "text/html": [
              "\n",
              "            <style>\n",
              "                .geemap-dark {\n",
              "                    --jp-widgets-color: white;\n",
              "                    --jp-widgets-label-color: white;\n",
              "                    --jp-ui-font-color1: white;\n",
              "                    --jp-layout-color2: #454545;\n",
              "                    background-color: #383838;\n",
              "                }\n",
              "\n",
              "                .geemap-dark .jupyter-button {\n",
              "                    --jp-layout-color3: #383838;\n",
              "                }\n",
              "\n",
              "                .geemap-colab {\n",
              "                    background-color: var(--colab-primary-surface-color, white);\n",
              "                }\n",
              "\n",
              "                .geemap-colab .jupyter-button {\n",
              "                    --jp-layout-color3: var(--colab-primary-surface-color, white);\n",
              "                }\n",
              "            </style>\n",
              "            "
            ]
          },
          "metadata": {}
        }
      ]
    },
    {
      "cell_type": "markdown",
      "source": [
        "## Landsat-8 and/or MODIS+VIIRS"
      ],
      "metadata": {
        "id": "zJHu9FJ84cut"
      }
    },
    {
      "cell_type": "code",
      "execution_count": null,
      "metadata": {
        "colab": {
          "base_uri": "https://localhost:8080/",
          "height": 17
        },
        "id": "BRTBHkbEytWy",
        "outputId": "c270db08-e80d-4183-c2fc-e91e579098c7"
      },
      "outputs": [
        {
          "data": {
            "text/html": [
              "\n",
              "  <style>\n",
              "    pre {\n",
              "        white-space: pre-wrap;\n",
              "    }\n",
              "  </style>\n",
              "  "
            ],
            "text/plain": [
              "<IPython.core.display.HTML object>"
            ]
          },
          "metadata": {},
          "output_type": "display_data"
        },
        {
          "data": {
            "text/html": [
              "\n",
              "            <style>\n",
              "                .geemap-dark {\n",
              "                    --jp-widgets-color: white;\n",
              "                    --jp-widgets-label-color: white;\n",
              "                    --jp-ui-font-color1: white;\n",
              "                    --jp-layout-color2: #454545;\n",
              "                    background-color: #383838;\n",
              "                }\n",
              "\n",
              "                .geemap-dark .jupyter-button {\n",
              "                    --jp-layout-color3: #383838;\n",
              "                }\n",
              "\n",
              "                .geemap-colab {\n",
              "                    background-color: var(--colab-primary-surface-color, white);\n",
              "                }\n",
              "\n",
              "                .geemap-colab .jupyter-button {\n",
              "                    --jp-layout-color3: var(--colab-primary-surface-color, white);\n",
              "                }\n",
              "            </style>\n",
              "            "
            ],
            "text/plain": [
              "<IPython.core.display.HTML object>"
            ]
          },
          "metadata": {},
          "output_type": "display_data"
        }
      ],
      "source": [
        "#===============================================================================\n",
        "# Bands to use for classifying (Landsat-8 and/or MODIS+VIIRS)\n",
        "#===============================================================================\n",
        "\n",
        "\n",
        "band_names = [\n",
        "# Landsat-8\n",
        "                'B1',\n",
        "                'B2',\n",
        "                'B3',\n",
        "                'B4',\n",
        "                'B5',\n",
        "                'B6',\n",
        "                'B7',\n",
        "                # 'B8',\n",
        "                # 'B9',\n",
        "                # 'B10',\n",
        "                # 'B11',\n",
        "                # 'QA_PIXEL',\n",
        "                # 'QA_RADSAT',\n",
        "                # 'SAA',\n",
        "                # 'SZA',\n",
        "                # 'VAA',\n",
        "                # 'VZA'\n",
        "\n",
        "# MODIS\n",
        "    #MOD09GA\n",
        "                # 'num_observations_500m',\n",
        "                'sur_refl_b01',\n",
        "                'sur_refl_b02',\n",
        "                'sur_refl_b03',\n",
        "                'sur_refl_b04',\n",
        "                'sur_refl_b05',\n",
        "                'sur_refl_b06',\n",
        "                'sur_refl_b07',\n",
        "                # 'QC_500m',\n",
        "                # 'obscov_500m',\n",
        "                # 'iobs_res',\n",
        "                # 'q_scan',\n",
        "    # #MOD11A1\n",
        "    #             'LST_Day_1km',\n",
        "    #             # 'QC_Day',\n",
        "    #             # 'Day_view_time',\n",
        "    #             # 'Day_view_angle',\n",
        "    #             'LST_Night_1km',\n",
        "    #             # 'QC_Night',\n",
        "    #             # 'Night_view_time',\n",
        "    #             # 'Night_view_angle',\n",
        "    #             'Emis_31',\n",
        "    #             'Emis_32',\n",
        "    #             # 'Clear_day_cov',\n",
        "    #             # 'Clear_night_cov',\n",
        "\n",
        "# VIIRS\n",
        "    #VNP09GA\n",
        "                'I1',\n",
        "                'I2',\n",
        "                'I3',\n",
        "                'M1',\n",
        "                'M2',\n",
        "                'M3',\n",
        "                'M4',\n",
        "                'M5',\n",
        "                'M7',\n",
        "                'M8',\n",
        "                'M10',\n",
        "                'M11',\n",
        "                # 'num_observations_500m',\n",
        "                # 'num_observations_1km',\n",
        "                # 'obscov_1km',\n",
        "                # 'obscov_500m',\n",
        "                # 'orbit_pnt',\n",
        "                # 'QF1',\n",
        "                # 'QF2',\n",
        "                # 'QF3',\n",
        "                # 'QF4',\n",
        "                # 'QF5',\n",
        "                # 'QF6',\n",
        "                # 'QF7',\n",
        "             ]"
      ]
    },
    {
      "cell_type": "code",
      "execution_count": null,
      "metadata": {
        "colab": {
          "base_uri": "https://localhost:8080/",
          "height": 17
        },
        "id": "D_W-NvuHZ9H_",
        "outputId": "dfc12b4e-a0ff-41cc-f90e-25af932477b4"
      },
      "outputs": [
        {
          "data": {
            "text/html": [
              "\n",
              "  <style>\n",
              "    pre {\n",
              "        white-space: pre-wrap;\n",
              "    }\n",
              "  </style>\n",
              "  "
            ],
            "text/plain": [
              "<IPython.core.display.HTML object>"
            ]
          },
          "metadata": {},
          "output_type": "display_data"
        },
        {
          "data": {
            "text/html": [
              "\n",
              "            <style>\n",
              "                .geemap-dark {\n",
              "                    --jp-widgets-color: white;\n",
              "                    --jp-widgets-label-color: white;\n",
              "                    --jp-ui-font-color1: white;\n",
              "                    --jp-layout-color2: #454545;\n",
              "                    background-color: #383838;\n",
              "                }\n",
              "\n",
              "                .geemap-dark .jupyter-button {\n",
              "                    --jp-layout-color3: #383838;\n",
              "                }\n",
              "\n",
              "                .geemap-colab {\n",
              "                    background-color: var(--colab-primary-surface-color, white);\n",
              "                }\n",
              "\n",
              "                .geemap-colab .jupyter-button {\n",
              "                    --jp-layout-color3: var(--colab-primary-surface-color, white);\n",
              "                }\n",
              "            </style>\n",
              "            "
            ],
            "text/plain": [
              "<IPython.core.display.HTML object>"
            ]
          },
          "metadata": {},
          "output_type": "display_data"
        }
      ],
      "source": [
        "#===============================================================================\n",
        "# Loading manually annotated landsat image patches for training\n",
        "#===============================================================================\n",
        "\n",
        "\n",
        "label = 'F'\n",
        "factor = 0.25\n",
        "numPoints = 20000\n",
        "\n",
        "paths = [\n",
        "    'LC08_L1GT_226074_20200921', #2\n",
        "    'LC08_L1TP_025033_20200921', #38\n",
        "    'LC08_L1TP_046021_20200908', #4\n",
        "    'LC08_L1TP_046031_20200908', #15\n",
        "    'LC08_L1TP_105069_20200922', #7\n",
        "    'LC08_L1TP_117016_20200926', #18\n",
        "    'LC08_L1TP_134039_20200901', #1\n",
        "    'LC08_L1TP_157012_20200918', #5\n",
        "    'LC08_L1TP_175074_20200916', #9\n",
        "    'LC08_L1TP_177044_20200914' #1\n",
        "]\n",
        "\n",
        "samples = [None for _ in range(10)]\n",
        "\n",
        "for i in range(10):\n",
        "    path = paths[i]\n",
        "    manual_annotation_patch = ee.Image('projects/ee-anaad/assets/Dataset/'+path+'_manual').rename([label])\n",
        "\n",
        "# Landsat and/or MODIS,VIIRS\n",
        "    if i==0:\n",
        "        image_lsat = ee.Image('LANDSAT/LC08/C01/T2_TOA/LC08_'+path[-15:])\n",
        "    else:\n",
        "        image_lsat = ee.Image('LANDSAT/LC08/C02/T1_TOA/LC08_'+path[-15:])\n",
        "    image_lsat = image_lsat.updateMask(manual_annotation_patch.mask()).clip(manual_annotation_patch.geometry())\n",
        "    image = getReprojectedImage(image_lsat)\n",
        "    scale = 30\n",
        "\n",
        "# only MODIS and VIIRS\n",
        "    # image_mod = ee.Image(\"MODIS/061/MOD09GA/\"+path[-8:-4]+'_'+path[-4:-2]+'_'+path[-2:]).clip(manual_annotation_patch.geometry()).select(['sur_refl_b01','sur_refl_b02','sur_refl_b03','sur_refl_b04','sur_refl_b05','sur_refl_b06','sur_refl_b07'])\n",
        "    # image_vnp = ee.Image(\"NOAA/VIIRS/001/VNP09GA/\"+path[-8:-4]+'_'+path[-4:-2]+'_'+path[-2:]).clip(manual_annotation_patch.geometry()).select(['I1','I2','I3','M1','M2','M3','M4','M5','M7','M8','M10','M11'])\n",
        "    # image = image_mod.addBands(image_vnp)\n",
        "    # projection = image_vnp.select('M1').projection().getInfo()\n",
        "    # manual_annotation_patch = manual_annotation_patch.reduceResolution(reducer = ee.Reducer.mean(), maxPixels = 1024)#.reproject(crs = projection)#['crs'], crsTransform = projection['transform'])\n",
        "    # scale = projection['transform'][0]\n",
        "\n",
        "\n",
        "    image_patch = manual_annotation_patch.addBands(image)\n",
        "    # sample = image_patch.stratifiedSample(\n",
        "    #     numPoints=numPoints, classBand=label, scale=scale, geometries=True\n",
        "    # )\n",
        "    sample = image_patch.sample(\n",
        "        scale=scale, geometries=True,\n",
        "        # numPixels = 10000,\n",
        "        factor = factor\n",
        "    )\n",
        "    samples[i] = sample"
      ]
    },
    {
      "cell_type": "code",
      "execution_count": null,
      "metadata": {
        "id": "DRwPC6N9R_zP"
      },
      "outputs": [],
      "source": [
        "#===============================================================================\n",
        "# Training the classifier\n",
        "#===============================================================================\n",
        "\n",
        "\n",
        "training_sample = samples[1].merge(samples[5]).merge(samples[4]).merge(samples[6]).merge(samples[8]).merge(samples[0]).merge(samples[7]).merge(samples[9]).merge(samples[2]).merge(samples[3])\n",
        "validation_sample = samples[9].merge(samples[2]).merge(samples[3]).merge(samples[7])\n",
        "# sample = sample.randomColumn()\n",
        "# training_sample = sample.filter('random <= 0.8')\n",
        "# validation_sample = sample.filter('random > 0.8')\n",
        "\n",
        "# Train a random forest classifier from the training sample.\n",
        "trained_classifier = ee.Classifier.smileRandomForest(23).train(\n",
        "    features=training_sample,\n",
        "    classProperty=label,\n",
        "    inputProperties=band_names,\n",
        ")\n",
        "\n",
        "# Get information about the trained classifier.\n",
        "display('Results of trained random forest classifier', trained_classifier.explain())\n",
        "\n",
        "# Get a confusion matrix and overall accuracy for the training sample.\n",
        "train_conf_matrix = trained_classifier.confusionMatrix()\n",
        "display('Training error matrix', train_conf_matrix)\n",
        "display('Training overall accuracy', train_conf_matrix.accuracy())\n",
        "\n",
        "# Get a confusion matrix and overall accuracy for the validation sample.\n",
        "validation_classified = validation_sample.classify(trained_classifier)\n",
        "validation_conf_matrix = validation_classified.errorMatrix(label, 'classification')\n",
        "display('Validation error matrix', validation_conf_matrix)\n",
        "display('Validation accuracy', validation_conf_matrix.accuracy())\n",
        "\n",
        "\n",
        "#===============================================================================\n",
        "# Printing classifier metrics\n",
        "#===============================================================================\n",
        "class_index = 1\n",
        "true_positive = validation_conf_matrix.array().get([class_index, class_index]).getInfo()\n",
        "false_positive = validation_conf_matrix.array().get([1 - class_index, class_index]).getInfo()  # 1 - class_index gives the index for the negative class\n",
        "false_negative = validation_conf_matrix.array().get([class_index, 1 - class_index]).getInfo()\n",
        "true_negative = validation_conf_matrix.array().get([1 - class_index, 1 - class_index]).getInfo()\n",
        "\n",
        "accuracy = (true_positive + true_negative) / (true_positive + true_negative + false_positive + false_negative)\n",
        "precision = true_positive / (true_positive + false_positive)\n",
        "recall = true_positive / (true_positive + false_negative)\n",
        "f1_score = 2 * (precision * recall) / (precision + recall)\n",
        "\n",
        "print('Accuracy:', accuracy)\n",
        "print('Precision:', precision)\n",
        "print('Recall:', recall)\n",
        "print('F1 Score:', f1_score)"
      ]
    },
    {
      "cell_type": "markdown",
      "metadata": {
        "id": "eL6b89SEkntq"
      },
      "source": [
        "## Random Forests"
      ]
    },
    {
      "cell_type": "code",
      "execution_count": null,
      "metadata": {
        "colab": {
          "base_uri": "https://localhost:8080/"
        },
        "id": "5lBGLiowZQ09",
        "outputId": "b2fd452c-27f6-4aef-ad07-52e8db19e063"
      },
      "outputs": [
        {
          "output_type": "display_data",
          "data": {
            "text/plain": [
              "<IPython.core.display.HTML object>"
            ],
            "text/html": [
              "\n",
              "  <style>\n",
              "    pre {\n",
              "        white-space: pre-wrap;\n",
              "    }\n",
              "  </style>\n",
              "  "
            ]
          },
          "metadata": {}
        },
        {
          "output_type": "display_data",
          "data": {
            "text/plain": [
              "<IPython.core.display.HTML object>"
            ],
            "text/html": [
              "\n",
              "            <style>\n",
              "                .geemap-dark {\n",
              "                    --jp-widgets-color: white;\n",
              "                    --jp-widgets-label-color: white;\n",
              "                    --jp-ui-font-color1: white;\n",
              "                    --jp-layout-color2: #454545;\n",
              "                    background-color: #383838;\n",
              "                }\n",
              "\n",
              "                .geemap-dark .jupyter-button {\n",
              "                    --jp-layout-color3: #383838;\n",
              "                }\n",
              "\n",
              "                .geemap-colab {\n",
              "                    background-color: var(--colab-primary-surface-color, white);\n",
              "                }\n",
              "\n",
              "                .geemap-colab .jupyter-button {\n",
              "                    --jp-layout-color3: var(--colab-primary-surface-color, white);\n",
              "                }\n",
              "            </style>\n",
              "            "
            ]
          },
          "metadata": {}
        }
      ],
      "source": [
        "# #===============================================================================\n",
        "# # Uncomment code below to export classifier as asset\n",
        "# #===============================================================================\n",
        "\n",
        "\n",
        "# asset_id = 'projects/ee-anaad/assets/Classifiers/RF_Landsat-8_MODIS_VIIRS_reprojected_to_30m'\n",
        "# export_task = ee.batch.Export.classifier.toAsset(\n",
        "#     classifier=trained_classifier,\n",
        "#     description='classifier_export',\n",
        "#     assetId=asset_id\n",
        "# )\n",
        "# export_task.start()"
      ]
    },
    {
      "cell_type": "code",
      "execution_count": null,
      "metadata": {
        "id": "C0_BTgOukwVY",
        "colab": {
          "base_uri": "https://localhost:8080/"
        },
        "outputId": "ff332262-89f5-433c-c801-6c6db4c1845a"
      },
      "outputs": [
        {
          "output_type": "display_data",
          "data": {
            "text/plain": [
              "<IPython.core.display.HTML object>"
            ],
            "text/html": [
              "\n",
              "  <style>\n",
              "    pre {\n",
              "        white-space: pre-wrap;\n",
              "    }\n",
              "  </style>\n",
              "  "
            ]
          },
          "metadata": {}
        },
        {
          "output_type": "display_data",
          "data": {
            "text/plain": [
              "<IPython.core.display.HTML object>"
            ],
            "text/html": [
              "\n",
              "            <style>\n",
              "                .geemap-dark {\n",
              "                    --jp-widgets-color: white;\n",
              "                    --jp-widgets-label-color: white;\n",
              "                    --jp-ui-font-color1: white;\n",
              "                    --jp-layout-color2: #454545;\n",
              "                    background-color: #383838;\n",
              "                }\n",
              "\n",
              "                .geemap-dark .jupyter-button {\n",
              "                    --jp-layout-color3: #383838;\n",
              "                }\n",
              "\n",
              "                .geemap-colab {\n",
              "                    background-color: var(--colab-primary-surface-color, white);\n",
              "                }\n",
              "\n",
              "                .geemap-colab .jupyter-button {\n",
              "                    --jp-layout-color3: var(--colab-primary-surface-color, white);\n",
              "                }\n",
              "            </style>\n",
              "            "
            ]
          },
          "metadata": {}
        }
      ],
      "source": [
        "def getFireMaskOldRandomForest(image):\n",
        "    asset_id = 'projects/ee-anaad/assets/Classifiers/random_forest_classifier' # 75-25\n",
        "    random_forest_classifier = ee.Classifier.load(asset_id)\n",
        "    return image.classify(random_forest_classifier).rename(['F'])"
      ]
    },
    {
      "cell_type": "code",
      "execution_count": null,
      "metadata": {
        "id": "UIjyv23U7eVw",
        "colab": {
          "base_uri": "https://localhost:8080/"
        },
        "outputId": "d8bece1a-a566-4262-9296-9ae3fb2820e9"
      },
      "outputs": [
        {
          "output_type": "display_data",
          "data": {
            "text/plain": [
              "<IPython.core.display.HTML object>"
            ],
            "text/html": [
              "\n",
              "  <style>\n",
              "    pre {\n",
              "        white-space: pre-wrap;\n",
              "    }\n",
              "  </style>\n",
              "  "
            ]
          },
          "metadata": {}
        },
        {
          "output_type": "display_data",
          "data": {
            "text/plain": [
              "<IPython.core.display.HTML object>"
            ],
            "text/html": [
              "\n",
              "            <style>\n",
              "                .geemap-dark {\n",
              "                    --jp-widgets-color: white;\n",
              "                    --jp-widgets-label-color: white;\n",
              "                    --jp-ui-font-color1: white;\n",
              "                    --jp-layout-color2: #454545;\n",
              "                    background-color: #383838;\n",
              "                }\n",
              "\n",
              "                .geemap-dark .jupyter-button {\n",
              "                    --jp-layout-color3: #383838;\n",
              "                }\n",
              "\n",
              "                .geemap-colab {\n",
              "                    background-color: var(--colab-primary-surface-color, white);\n",
              "                }\n",
              "\n",
              "                .geemap-colab .jupyter-button {\n",
              "                    --jp-layout-color3: var(--colab-primary-surface-color, white);\n",
              "                }\n",
              "            </style>\n",
              "            "
            ]
          },
          "metadata": {}
        }
      ],
      "source": [
        "def getFireMaskRFLandsat(image):\n",
        "    asset_id = 'projects/ee-anaad/assets/Classifiers/RF_Landsat-8' # 100-0\n",
        "    random_forest_classifier = ee.Classifier.load(asset_id)\n",
        "    return image.classify(random_forest_classifier).rename(['F'])"
      ]
    },
    {
      "cell_type": "code",
      "execution_count": null,
      "metadata": {
        "id": "6vd4eSoAtZug",
        "colab": {
          "base_uri": "https://localhost:8080/"
        },
        "outputId": "ebc6e82b-2a24-4589-d914-e741fcab3681"
      },
      "outputs": [
        {
          "output_type": "display_data",
          "data": {
            "text/plain": [
              "<IPython.core.display.HTML object>"
            ],
            "text/html": [
              "\n",
              "  <style>\n",
              "    pre {\n",
              "        white-space: pre-wrap;\n",
              "    }\n",
              "  </style>\n",
              "  "
            ]
          },
          "metadata": {}
        },
        {
          "output_type": "display_data",
          "data": {
            "text/plain": [
              "<IPython.core.display.HTML object>"
            ],
            "text/html": [
              "\n",
              "            <style>\n",
              "                .geemap-dark {\n",
              "                    --jp-widgets-color: white;\n",
              "                    --jp-widgets-label-color: white;\n",
              "                    --jp-ui-font-color1: white;\n",
              "                    --jp-layout-color2: #454545;\n",
              "                    background-color: #383838;\n",
              "                }\n",
              "\n",
              "                .geemap-dark .jupyter-button {\n",
              "                    --jp-layout-color3: #383838;\n",
              "                }\n",
              "\n",
              "                .geemap-colab {\n",
              "                    background-color: var(--colab-primary-surface-color, white);\n",
              "                }\n",
              "\n",
              "                .geemap-colab .jupyter-button {\n",
              "                    --jp-layout-color3: var(--colab-primary-surface-color, white);\n",
              "                }\n",
              "            </style>\n",
              "            "
            ]
          },
          "metadata": {}
        }
      ],
      "source": [
        "def getFireMaskRFNativeProjections(image_lsat):\n",
        "    asset_id = 'projects/ee-anaad/assets/Classifiers/RF_Landsat-8_MODIS_VIIRS_native_projections'\n",
        "    random_forest_classifier = ee.Classifier.load(asset_id)\n",
        "\n",
        "    image = getNativeImage(image_lsat)\n",
        "    if image:\n",
        "        return image.classify(random_forest_classifier).rename(['F'])\n",
        "    else:\n",
        "        return ee.Image(0).setDefaultProjection(image_lsat.select('B7').projection())"
      ]
    },
    {
      "cell_type": "code",
      "execution_count": null,
      "metadata": {
        "id": "hEbYq5iHkc3Q",
        "colab": {
          "base_uri": "https://localhost:8080/"
        },
        "outputId": "984f6f85-d25b-4d11-832d-a89407d7ed5b"
      },
      "outputs": [
        {
          "output_type": "display_data",
          "data": {
            "text/plain": [
              "<IPython.core.display.HTML object>"
            ],
            "text/html": [
              "\n",
              "  <style>\n",
              "    pre {\n",
              "        white-space: pre-wrap;\n",
              "    }\n",
              "  </style>\n",
              "  "
            ]
          },
          "metadata": {}
        },
        {
          "output_type": "display_data",
          "data": {
            "text/plain": [
              "<IPython.core.display.HTML object>"
            ],
            "text/html": [
              "\n",
              "            <style>\n",
              "                .geemap-dark {\n",
              "                    --jp-widgets-color: white;\n",
              "                    --jp-widgets-label-color: white;\n",
              "                    --jp-ui-font-color1: white;\n",
              "                    --jp-layout-color2: #454545;\n",
              "                    background-color: #383838;\n",
              "                }\n",
              "\n",
              "                .geemap-dark .jupyter-button {\n",
              "                    --jp-layout-color3: #383838;\n",
              "                }\n",
              "\n",
              "                .geemap-colab {\n",
              "                    background-color: var(--colab-primary-surface-color, white);\n",
              "                }\n",
              "\n",
              "                .geemap-colab .jupyter-button {\n",
              "                    --jp-layout-color3: var(--colab-primary-surface-color, white);\n",
              "                }\n",
              "            </style>\n",
              "            "
            ]
          },
          "metadata": {}
        }
      ],
      "source": [
        "def getFireMaskRFReprojected(image_lsat):\n",
        "    asset_id = 'projects/ee-anaad/assets/Classifiers/RF_Landsat-8_MODIS_VIIRS_reprojected_to_30m'\n",
        "    random_forest_classifier = ee.Classifier.load(asset_id)\n",
        "\n",
        "    image = getReprojectedImage(image_lsat)\n",
        "    if image:\n",
        "        return image.classify(random_forest_classifier).rename(['F'])\n",
        "    else:\n",
        "        return ee.Image(0).setDefaultProjection(image_lsat.select('B7').projection())"
      ]
    },
    {
      "cell_type": "markdown",
      "metadata": {
        "id": "oMa4WNMXIbw0"
      },
      "source": [
        "# Compute fire regions, get/plot statistics, and export as asset"
      ]
    },
    {
      "cell_type": "code",
      "execution_count": null,
      "metadata": {
        "colab": {
          "base_uri": "https://localhost:8080/",
          "height": 17
        },
        "id": "GAM8x31gIbxD",
        "outputId": "204818ce-fcfe-45a0-dfe1-465327ea006f"
      },
      "outputs": [
        {
          "output_type": "display_data",
          "data": {
            "text/plain": [
              "<IPython.core.display.HTML object>"
            ],
            "text/html": [
              "\n",
              "  <style>\n",
              "    pre {\n",
              "        white-space: pre-wrap;\n",
              "    }\n",
              "  </style>\n",
              "  "
            ]
          },
          "metadata": {}
        },
        {
          "output_type": "display_data",
          "data": {
            "text/plain": [
              "<IPython.core.display.HTML object>"
            ],
            "text/html": [
              "\n",
              "            <style>\n",
              "                .geemap-dark {\n",
              "                    --jp-widgets-color: white;\n",
              "                    --jp-widgets-label-color: white;\n",
              "                    --jp-ui-font-color1: white;\n",
              "                    --jp-layout-color2: #454545;\n",
              "                    background-color: #383838;\n",
              "                }\n",
              "\n",
              "                .geemap-dark .jupyter-button {\n",
              "                    --jp-layout-color3: #383838;\n",
              "                }\n",
              "\n",
              "                .geemap-colab {\n",
              "                    background-color: var(--colab-primary-surface-color, white);\n",
              "                }\n",
              "\n",
              "                .geemap-colab .jupyter-button {\n",
              "                    --jp-layout-color3: var(--colab-primary-surface-color, white);\n",
              "                }\n",
              "            </style>\n",
              "            "
            ]
          },
          "metadata": {}
        }
      ],
      "source": [
        "#===============================================================================\n",
        "# Helper Functions\n",
        "#===============================================================================\n",
        "\n",
        "# Function to compute fire regions for aoi from start_date to end_date using forest_mask\n",
        "def compute_fire_regions(aoi, start_date, end_date, forest_mask, getFireMask):\n",
        "    aoi_buffered = aoi.geometry().buffer(1000)\n",
        "    imageCollection = ee.ImageCollection('LANDSAT/LC08/C02/T1_TOA')\\\n",
        "        .filterDate(start_date, end_date)\\\n",
        "        .filterBounds(aoi_buffered)\n",
        "    n = imageCollection.size().getInfo()\n",
        "    imageList = imageCollection.toList(n)\n",
        "\n",
        "    fire_regions = ee.FeatureCollection([])\n",
        "    for i in range(n):\n",
        "        image = (ee.Image(imageList.get(i))).clip(aoi_buffered)\n",
        "        fire_mask = getFireMask(image)#.updateMask(forest_mask)\n",
        "        fire = fire_mask.updateMask(fire_mask)\n",
        "        fire_vectors = fire.addBands(fire).reduceToVectors(\n",
        "            geometry = aoi_buffered,\n",
        "            scale = 30,\n",
        "            reducer = ee.Reducer.mean(),\n",
        "            maxPixels = 1e10\n",
        "        )\n",
        "        fire_vectors = fire_vectors.select([]).map(lambda feature: feature.set({'date': image.date().format('YYYY-MM-dd'),'area': feature.area(maxError=1)}))\n",
        "        fire_regions = fire_regions.merge(fire_vectors)\n",
        "        fire_regions = fire_regions.distinct(['date', 'area', '.geo'])\n",
        "\n",
        "    return fire_regions"
      ]
    },
    {
      "cell_type": "code",
      "execution_count": null,
      "metadata": {
        "colab": {
          "base_uri": "https://localhost:8080/",
          "height": 17
        },
        "id": "dDGesJvhIbxD",
        "outputId": "625a99f9-9f0e-44c1-a9e3-8cab0e940f71"
      },
      "outputs": [
        {
          "output_type": "display_data",
          "data": {
            "text/plain": [
              "<IPython.core.display.HTML object>"
            ],
            "text/html": [
              "\n",
              "  <style>\n",
              "    pre {\n",
              "        white-space: pre-wrap;\n",
              "    }\n",
              "  </style>\n",
              "  "
            ]
          },
          "metadata": {}
        },
        {
          "output_type": "display_data",
          "data": {
            "text/plain": [
              "<IPython.core.display.HTML object>"
            ],
            "text/html": [
              "\n",
              "            <style>\n",
              "                .geemap-dark {\n",
              "                    --jp-widgets-color: white;\n",
              "                    --jp-widgets-label-color: white;\n",
              "                    --jp-ui-font-color1: white;\n",
              "                    --jp-layout-color2: #454545;\n",
              "                    background-color: #383838;\n",
              "                }\n",
              "\n",
              "                .geemap-dark .jupyter-button {\n",
              "                    --jp-layout-color3: #383838;\n",
              "                }\n",
              "\n",
              "                .geemap-colab {\n",
              "                    background-color: var(--colab-primary-surface-color, white);\n",
              "                }\n",
              "\n",
              "                .geemap-colab .jupyter-button {\n",
              "                    --jp-layout-color3: var(--colab-primary-surface-color, white);\n",
              "                }\n",
              "            </style>\n",
              "            "
            ]
          },
          "metadata": {}
        }
      ],
      "source": [
        "# Input block_name, start_date and end_date\n",
        "# block_name = 'masalia'\n",
        "start_date = '2019-07-01'\n",
        "end_date = '2022-07-01'\n",
        "\n",
        "# Input method to generate fire regions\n",
        "method = 'OldRandomForest'"
      ]
    },
    {
      "cell_type": "code",
      "execution_count": null,
      "metadata": {
        "id": "I5ydfUGCIbxD"
      },
      "outputs": [],
      "source": [
        "#===============================================================================\n",
        "# Compute fire_regions and export as asset\n",
        "#===============================================================================\n",
        "\n",
        "\n",
        "# for method in ['Murphy', 'Schroeder', 'RandomForest']:\n",
        "if method == 'Murphy':\n",
        "    getFireMask = getFireMaskMurphy\n",
        "elif method=='Schroder':\n",
        "    getFireMask = getFireMaskSchroeder\n",
        "\n",
        "elif method=='OldRandomForest':\n",
        "    getFireMask = getFireMaskOldRandomForest\n",
        "elif method=='RFLandsat':\n",
        "    getFireMask = getFireMaskRFLandsat\n",
        "elif method=='RFNativeProjections':\n",
        "    getFireMask = getFireMaskRFNativeProjections\n",
        "elif method=='RFReprojected':\n",
        "    getFireMask = getFireMaskRFReprojected\n",
        "\n",
        "\n",
        "for block_name in ['angul', 'masalia']:\n",
        "    aoi, roi, mws = set_block(block_name)\n",
        "\n",
        "    print(\"\\n\\nComputing fire regions for\", block_name, \"using\", method)\n",
        "\n",
        "    loopStart = datetime.strptime(start_date,\"%Y-%m-%d\")\n",
        "    loopEnd = datetime.strptime(end_date,\"%Y-%m-%d\")\n",
        "    while loopStart < loopEnd:\n",
        "        curr_start_date = loopStart.strftime(\"%Y-%m-%d\")\n",
        "        curr_end_date = (loopStart+relativedelta(years=1)-timedelta(days=1)).strftime(\"%Y-%m-%d\")\n",
        "\n",
        "        lulc = ee.Image('projects/ee-anaad/assets/LULC_outputs/'+block_name+'_'+curr_start_date+'_'+curr_end_date+'_LULCmap_30m')\n",
        "        forest_mask = lulc.eq(6)\n",
        "    # uncomment the line below to add forest masks to the Map initialized above\n",
        "        # Map.addLayer(forest_mask, {'min':0, 'max':1, 'palette': ['black', 'white']}, 'forest_mask'+'_'+curr_start_date+'_'+curr_end_date)\n",
        "\n",
        "        print(\"\\nComputing fire regions from\", curr_start_date, \"to\", curr_end_date,\"\\n\")\n",
        "\n",
        "        loopStart = loopStart+relativedelta(years=1)\n",
        "        fire_regions = compute_fire_regions(aoi, curr_start_date, loopStart.strftime(\"%Y-%m-%d\"), forest_mask, getFireMask)\n",
        "        fire_regions = set_properties(fire_regions, mws)\n",
        "\n",
        "        output_filename = block_name + '_' + curr_start_date + '_' + curr_end_date\n",
        "        output_assetid = 'projects/ee-anaad/assets/'+method+'_fire_regions/'+output_filename\n",
        "        export_to_asset(fire_regions, output_assetid, output_filename)"
      ]
    },
    {
      "cell_type": "code",
      "execution_count": null,
      "metadata": {
        "id": "T0sZ5-nlIbxD"
      },
      "outputs": [],
      "source": [
        "#===============================================================================\n",
        "# Get statistics from computed fire_region assets\n",
        "#===============================================================================\n",
        "\n",
        "num_fires_list = []\n",
        "min_area_list = []\n",
        "max_area_list = []\n",
        "mean_area_list = []\n",
        "total_area_list = []\n",
        "colors = ['lime', 'pink', 'purple', 'green', 'blue', 'orange', 'red', 'yellow']\n",
        "\n",
        "loopStart = datetime.strptime(start_date,\"%Y-%m-%d\")\n",
        "loopEnd = datetime.strptime(end_date,\"%Y-%m-%d\")\n",
        "color_ind = 0\n",
        "while loopStart < loopEnd:\n",
        "    curr_start_date = loopStart.strftime(\"%Y-%m-%d\")    #datetime.strptime(loopStart,\"%Y-%m-%d\")\n",
        "    curr_end_date = (loopStart+relativedelta(years=1)-timedelta(days=1)).strftime(\"%Y-%m-%d\")\n",
        "\n",
        "    fire_regions = ee.FeatureCollection('projects/ee-anaad/assets/Murphy_fire_regions_new/'+block_name+'_'+curr_start_date+'_'+curr_end_date)\n",
        "    fire_regions_vis = fire_regions.style(\n",
        "        color=colors[color_ind],\n",
        "        width=4,\n",
        "        fillColor=colors[color_ind],  # with alpha set for partial transparency\n",
        "        # lineType='dotted',\n",
        "        pointSize=10,\n",
        "        pointShape='circle',\n",
        "    )\n",
        "    Map.addLayer(fire_regions_vis, None, 'fire_regions'+'_'+curr_start_date+'_'+curr_end_date)\n",
        "\n",
        "    print(\"\\nStatistics of fire regions from\", curr_start_date, \"to\", curr_end_date, \"\\n\")\n",
        "    num_fires, min_area, max_area, mean_area, total_area = compute_stats(fire_regions)\n",
        "    print(num_fires)\n",
        "    print(min_area)\n",
        "    print(max_area)\n",
        "    print(mean_area)\n",
        "    print(total_area)\n",
        "    num_fires_list += [num_fires]\n",
        "    min_area_list += [min_area]\n",
        "    max_area_list += [max_area]\n",
        "    mean_area_list += [mean_area]\n",
        "    total_area_list += [total_area]\n",
        "\n",
        "    loopStart = loopStart+relativedelta(years=1)\n",
        "    color_ind += 1"
      ]
    },
    {
      "cell_type": "code",
      "execution_count": null,
      "metadata": {
        "id": "cSpR-U66IbxD"
      },
      "outputs": [],
      "source": [
        "#===============================================================================\n",
        "# Plot statistics\n",
        "#===============================================================================\n",
        "\n",
        "import matplotlib.pyplot as plt\n",
        "plt.rcParams['figure.dpi'] = 200\n",
        "\n",
        "xcoord = ['2015-2016', '2016-2017', '2017-2018', '2018-2019', '2019-2020', '2020-2021', '2021-2022', '2022-2023']\n",
        "ycoord = num_fires_list\n",
        "\n",
        "for ind in range(8):\n",
        "    color = colors[ind]\n",
        "    plt.scatter(xcoord[ind], ycoord[ind], color=color)\n",
        "[plt.text(i, j, j) for (i, j) in zip(xcoord, ycoord)]\n",
        "plt.title(\"Number of Fires vs Agricultural Year\")\n",
        "plt.ylabel(\"Number of Fires\")\n",
        "\n",
        "# plt.bar(xcoord, ycoord, color = colors)\n",
        "# [plt.text(i, j, str(round(j/10000, 2)) + ' ha') for (i, j) in zip(xcoord, ycoord)]\n",
        "# plt.title(\"Total area of a fire vs Agricultural Year\")\n",
        "# plt.ylabel(\"Total area of a fire (sq. m)\")\n",
        "\n",
        "plt.xticks(rotation=30)\n",
        "plt.xlabel(\"Agricultural Year\")\n",
        "\n",
        "plt.show()"
      ]
    },
    {
      "cell_type": "markdown",
      "metadata": {
        "id": "ExBF9gO0ED9K"
      },
      "source": [
        "# Comparison with ground truth"
      ]
    },
    {
      "cell_type": "code",
      "execution_count": null,
      "metadata": {
        "colab": {
          "base_uri": "https://localhost:8080/",
          "height": 17
        },
        "id": "gUedhn8aOrI3",
        "outputId": "17700c1c-e7eb-4fce-ba53-70eae50a9aa4"
      },
      "outputs": [
        {
          "output_type": "display_data",
          "data": {
            "text/plain": [
              "<IPython.core.display.HTML object>"
            ],
            "text/html": [
              "\n",
              "  <style>\n",
              "    pre {\n",
              "        white-space: pre-wrap;\n",
              "    }\n",
              "  </style>\n",
              "  "
            ]
          },
          "metadata": {}
        },
        {
          "output_type": "display_data",
          "data": {
            "text/plain": [
              "<IPython.core.display.HTML object>"
            ],
            "text/html": [
              "\n",
              "            <style>\n",
              "                .geemap-dark {\n",
              "                    --jp-widgets-color: white;\n",
              "                    --jp-widgets-label-color: white;\n",
              "                    --jp-ui-font-color1: white;\n",
              "                    --jp-layout-color2: #454545;\n",
              "                    background-color: #383838;\n",
              "                }\n",
              "\n",
              "                .geemap-dark .jupyter-button {\n",
              "                    --jp-layout-color3: #383838;\n",
              "                }\n",
              "\n",
              "                .geemap-colab {\n",
              "                    background-color: var(--colab-primary-surface-color, white);\n",
              "                }\n",
              "\n",
              "                .geemap-colab .jupyter-button {\n",
              "                    --jp-layout-color3: var(--colab-primary-surface-color, white);\n",
              "                }\n",
              "            </style>\n",
              "            "
            ]
          },
          "metadata": {}
        }
      ],
      "source": [
        "paths = [\n",
        "    'LC08_L1GT_226074_20200921',\n",
        "    'LC08_L1TP_025033_20200921',\n",
        "    'LC08_L1TP_046021_20200908',\n",
        "    'LC08_L1TP_046031_20200908',\n",
        "    'LC08_L1TP_105069_20200922',\n",
        "    'LC08_L1TP_117016_20200926',\n",
        "    'LC08_L1TP_134039_20200901',\n",
        "    'LC08_L1TP_157012_20200918',\n",
        "    'LC08_L1TP_175074_20200916',\n",
        "    'LC08_L1TP_177044_20200914'\n",
        "]"
      ]
    },
    {
      "cell_type": "code",
      "execution_count": null,
      "metadata": {
        "colab": {
          "base_uri": "https://localhost:8080/",
          "height": 156
        },
        "id": "IE6wVfW-QByO",
        "outputId": "c33da02b-4332-417e-d892-543a308d4a57"
      },
      "outputs": [
        {
          "data": {
            "text/html": [
              "\n",
              "  <style>\n",
              "    pre {\n",
              "        white-space: pre-wrap;\n",
              "    }\n",
              "  </style>\n",
              "  "
            ],
            "text/plain": [
              "<IPython.core.display.HTML object>"
            ]
          },
          "metadata": {},
          "output_type": "display_data"
        },
        {
          "data": {
            "text/html": [
              "\n",
              "            <style>\n",
              "                .geemap-dark {\n",
              "                    --jp-widgets-color: white;\n",
              "                    --jp-widgets-label-color: white;\n",
              "                    --jp-ui-font-color1: white;\n",
              "                    --jp-layout-color2: #454545;\n",
              "                    background-color: #383838;\n",
              "                }\n",
              "\n",
              "                .geemap-dark .jupyter-button {\n",
              "                    --jp-layout-color3: #383838;\n",
              "                }\n",
              "\n",
              "                .geemap-colab {\n",
              "                    background-color: var(--colab-primary-surface-color, white);\n",
              "                }\n",
              "\n",
              "                .geemap-colab .jupyter-button {\n",
              "                    --jp-layout-color3: var(--colab-primary-surface-color, white);\n",
              "                }\n",
              "            </style>\n",
              "            "
            ],
            "text/plain": [
              "<IPython.core.display.HTML object>"
            ]
          },
          "metadata": {},
          "output_type": "display_data"
        },
        {
          "name": "stdout",
          "output_type": "stream",
          "text": [
            "127.84313725490196\n",
            "272.9529411764706\n",
            "87.18823529411765\n",
            "6237.768627450981\n",
            "Accuracy: 0.9464534038611903\n",
            "Precision: 0.318973024275217\n",
            "Recall: 0.594532489559207\n",
            "F1 Score: 0.41519142107542223\n"
          ]
        }
      ],
      "source": [
        "# Murphy: 170, 47, 0, 86248\n",
        "# Schroeder: 159, 2, 11, 86293\n",
        "# Random Forest (only Landsat: random_forest_classifier): 169, 10, 1, 86285\n",
        "# Random Forest (only Landsat, but trained on everything: OldRandomForest): 170, 14, 0, 86281 also i deleted this classifier so do with this information what you will\n",
        "# RF_Landsat: 170, 9, 0, 86286\n",
        "# Random Forest: ?, ?, ?, ? # deleted this asset, cause I did RFReprojected instead\n",
        "# RFNativeProjections: ?, ?, ?, ?\n",
        "# RFReprojected: ?, ?, ?, ?\n",
        "# KumarRoy: 133, 1, 37, 86294\n",
        "# MODIS: 87, 4660, 83, 126242\n",
        "# VIIRS: 28, 933, 142, 129969\n",
        "\n",
        "true_positive, false_positive, false_negative, true_negative = 0, 0, 0, 0\n",
        "for path in paths:\n",
        "    manual_annotation_patch = ee.Image('projects/ee-anaad/assets/Dataset/' + path + '_manual').rename(['F'])\n",
        "\n",
        "# Sets of Conditions\n",
        "    mask = ee.Image('projects/ee-anaad/assets/Dataset/' + path + '_Schroeder').rename(['F'])#.updateMask(manual_annotation_patch_1.mask())\n",
        "    image = ee.Image('LANDSAT/LC08/C02/T1_TOA/LC08_' + path[10:]).updateMask(manual_annotation_patch.mask())#.reproject(projection.getInfo()['crs'], projection.getInfo()['transform'])#\n",
        "    fire_mask = getFireMaskRFReprojected(image)\n",
        "\n",
        "# MODIS and VIIRS (30 m)\n",
        "    # projection = ee.Image('LANDSAT/LC08/C02/T1_TOA/LC08_' + path[10:]).select('B7').projection().getInfo()\n",
        "    # # image = ee.Image(\"MODIS/061/MOD14A1/\"+path[-8:-4]+'_'+path[-4:-2]+'_'+path[-2:]).select('FireMask').reproject(crs = projection['crs'], crsTransform = projection['transform']) # MODIS\n",
        "    # image = ee.Image(\"NOAA/VIIRS/001/VNP14A1/\"+path[-8:-4]+'_'+path[-4:-2]+'_'+path[-2:]).select('FireMask').reproject(crs = projection['crs'], crsTransform = projection['transform']) # VIIRS\n",
        "    # image = image.updateMask(manual_annotation_patch.mask()).clip(manual_annotation_patch.geometry())\n",
        "    # fire_mask = image.select('FireMask').gte(7)\n",
        "\n",
        "\n",
        "    # true_positive += (manual_annotation_patch.eq(1).And(fire_mask.eq(1))).reduceRegion(reducer = ee.Reducer.sum(), scale = 30, maxPixels = 1e8).getInfo()['F']\n",
        "    # false_positive += (manual_annotation_patch.eq(0).And(fire_mask.eq(1))).reduceRegion(reducer = ee.Reducer.sum(), scale = 30, maxPixels = 1e8).getInfo()['F']\n",
        "    # false_negative += (manual_annotation_patch.eq(1).And(fire_mask.eq(0))).reduceRegion(reducer = ee.Reducer.sum(), scale = 30, maxPixels = 1e8).getInfo()['F']\n",
        "    # true_negative += (manual_annotation_patch.eq(0).And(fire_mask.eq(0))).reduceRegion(reducer = ee.Reducer.sum(), scale = 30, maxPixels = 1e8).getInfo()['F']\n",
        "\n",
        "\n",
        "# MODIS and VIIRS (927 m)\n",
        "    # # image = ee.Image(\"MODIS/061/MOD14A1/\"+path[-8:-4]+'_'+path[-4:-2]+'_'+path[-2:]).select('FireMask') # MODIS\n",
        "    # image = ee.Image(\"NOAA/VIIRS/001/VNP14A1/\"+path[-8:-4]+'_'+path[-4:-2]+'_'+path[-2:]).select('FireMask') # VIIRS\n",
        "    # image = image.clip(manual_annotation_patch.geometry())#.updateMask(manual_annotation_patch.mask())\n",
        "    # projection = image.projection().getInfo()\n",
        "    # manual_annotation_patch = manual_annotation_patch.reduceResolution(reducer = ee.Reducer.mean(), maxPixels = 1024)#.reproject(crs = projection['crs'], crsTransform = projection['transform'])\n",
        "    # fire_mask = image.select('FireMask').gte(7)\n",
        "\n",
        "    # scale = projection['transform'][0]\n",
        "    # threshold = 0.05\n",
        "    # true_positive += (manual_annotation_patch.gt(threshold).And(fire_mask.eq(1))).reduceRegion(reducer = ee.Reducer.sum(), scale = scale, maxPixels = 1e8).getInfo()['F']\n",
        "    # false_positive += (manual_annotation_patch.lt(threshold).And(fire_mask.eq(1))).reduceRegion(reducer = ee.Reducer.sum(), scale = scale, maxPixels = 1e8).getInfo()['F']\n",
        "    # false_negative += (manual_annotation_patch.gt(threshold).And(fire_mask.eq(0))).reduceRegion(reducer = ee.Reducer.sum(), scale = scale, maxPixels = 1e8).getInfo()['F']\n",
        "    # true_negative += (manual_annotation_patch.lt(threshold).And(fire_mask.eq(0))).reduceRegion(reducer = ee.Reducer.sum(), scale = scale, maxPixels = 1e8).getInfo()['F']\n",
        "\n",
        "print(true_positive)\n",
        "print(false_positive)\n",
        "print(false_negative)\n",
        "print(true_negative)\n",
        "\n",
        "accuracy = (true_positive + true_negative) / (true_positive + true_negative + false_positive + false_negative)\n",
        "precision = true_positive / (true_positive + false_positive)\n",
        "recall = true_positive / (true_positive + false_negative)\n",
        "f1_score = 2 * (precision * recall) / (precision + recall)\n",
        "\n",
        "print('Accuracy:', accuracy)\n",
        "print('Precision:', precision)\n",
        "print('Recall:', recall)\n",
        "print('F1 Score:', f1_score)"
      ]
    },
    {
      "cell_type": "markdown",
      "metadata": {
        "id": "aY1cak0GmUEU"
      },
      "source": [
        "# Comparison with Forest Fires Alert System 3.0"
      ]
    },
    {
      "cell_type": "markdown",
      "metadata": {
        "id": "CDxQnYIXNhMW"
      },
      "source": [
        "## Compute *fsi_fires* and export as asset"
      ]
    },
    {
      "cell_type": "code",
      "execution_count": null,
      "metadata": {
        "colab": {
          "base_uri": "https://localhost:8080/",
          "height": 17
        },
        "id": "sXHdY0uutXok",
        "outputId": "f36ea466-3030-4062-ca8b-2571c8a4e60f"
      },
      "outputs": [
        {
          "data": {
            "text/html": [
              "\n",
              "  <style>\n",
              "    pre {\n",
              "        white-space: pre-wrap;\n",
              "    }\n",
              "  </style>\n",
              "  "
            ],
            "text/plain": [
              "<IPython.core.display.HTML object>"
            ]
          },
          "metadata": {},
          "output_type": "display_data"
        },
        {
          "data": {
            "text/html": [
              "\n",
              "            <style>\n",
              "                .geemap-dark {\n",
              "                    --jp-widgets-color: white;\n",
              "                    --jp-widgets-label-color: white;\n",
              "                    --jp-ui-font-color1: white;\n",
              "                    --jp-layout-color2: #454545;\n",
              "                    background-color: #383838;\n",
              "                }\n",
              "                    \n",
              "                .geemap-dark .jupyter-button {\n",
              "                    --jp-layout-color3: #383838;\n",
              "                }\n",
              "                \n",
              "                .geemap-colab {\n",
              "                    background-color: var(--colab-primary-surface-color, white);\n",
              "                }\n",
              "                    \n",
              "                .geemap-colab .jupyter-button {\n",
              "                    --jp-layout-color3: var(--colab-primary-surface-color, white);\n",
              "                }\n",
              "            </style>\n",
              "            "
            ],
            "text/plain": [
              "<IPython.core.display.HTML object>"
            ]
          },
          "metadata": {},
          "output_type": "display_data"
        }
      ],
      "source": [
        "import requests\n",
        "from bs4 import BeautifulSoup\n",
        "\n",
        "# Function to get url from block_name, from_date, and to_date\n",
        "def get_url(block_name, from_date, to_date, source):\n",
        "    state = ''\n",
        "    circle = ''\n",
        "    division = ''\n",
        "    if block_name=='angul':\n",
        "        state = '26'\n",
        "        circle = '210'\n",
        "        division =  '687'\n",
        "\n",
        "    if block_name=='masalia':\n",
        "        state = '16'\n",
        "        circle = '88'\n",
        "        division = '314'\n",
        "\n",
        "    if block_name=='pindwara':\n",
        "        state = '29'\n",
        "        circle = '389'\n",
        "        division = '1424'\n",
        "\n",
        "    if block_name=='mandalgarh':\n",
        "        state = '29'\n",
        "        circle = '383'\n",
        "        division = '1395'\n",
        "\n",
        "    if block_name=='mohanpur':\n",
        "        state = '5'\n",
        "        circle = '16'\n",
        "        division = '84'\n",
        "\n",
        "    if datetime.strptime(from_date,\"%Y-%m-%d\")<datetime.strptime('2017-01-17',\"%Y-%m-%d\"):\n",
        "        url = 'http://117.239.115.41/smsalerts/search-archive.php?fromdate='+ from_date +'&todate='+ to_date +'&source=' + source + '&state_name=' + state + '&circle%5B%5D=' + circle + '&division%5B%5D=' + division + '&range%5B%5D=&block%5B%5D=&beat%5B%5D=&submit_alert=Search'\n",
        "    else:\n",
        "        url = 'http://117.239.115.41/smsalerts/search.php?fromdate='+ from_date +'&todate='+ to_date +'&source=' + source + '&state_name=' + state + '&circle%5B%5D=' + circle + '&division%5B%5D=' + division + '&range%5B%5D=&block%5B%5D=&beat%5B%5D=&submit_alert=Search'\n",
        "    return url"
      ]
    },
    {
      "cell_type": "code",
      "execution_count": null,
      "metadata": {
        "colab": {
          "base_uri": "https://localhost:8080/",
          "height": 17
        },
        "id": "-h6gNsdMuY3R",
        "outputId": "094de197-3a23-49a6-9bcb-a46adc4d73c3"
      },
      "outputs": [
        {
          "data": {
            "text/html": [
              "\n",
              "  <style>\n",
              "    pre {\n",
              "        white-space: pre-wrap;\n",
              "    }\n",
              "  </style>\n",
              "  "
            ],
            "text/plain": [
              "<IPython.core.display.HTML object>"
            ]
          },
          "metadata": {},
          "output_type": "display_data"
        },
        {
          "data": {
            "text/html": [
              "\n",
              "            <style>\n",
              "                .geemap-dark {\n",
              "                    --jp-widgets-color: white;\n",
              "                    --jp-widgets-label-color: white;\n",
              "                    --jp-ui-font-color1: white;\n",
              "                    --jp-layout-color2: #454545;\n",
              "                    background-color: #383838;\n",
              "                }\n",
              "                    \n",
              "                .geemap-dark .jupyter-button {\n",
              "                    --jp-layout-color3: #383838;\n",
              "                }\n",
              "                \n",
              "                .geemap-colab {\n",
              "                    background-color: var(--colab-primary-surface-color, white);\n",
              "                }\n",
              "                    \n",
              "                .geemap-colab .jupyter-button {\n",
              "                    --jp-layout-color3: var(--colab-primary-surface-color, white);\n",
              "                }\n",
              "            </style>\n",
              "            "
            ],
            "text/plain": [
              "<IPython.core.display.HTML object>"
            ]
          },
          "metadata": {},
          "output_type": "display_data"
        }
      ],
      "source": [
        "# Input block_name, start_date and end_date\n",
        "block_name = 'mohanpur'\n",
        "start_date = '2017-07-01'\n",
        "end_date = '2023-07-01'"
      ]
    },
    {
      "cell_type": "code",
      "execution_count": null,
      "metadata": {
        "id": "3zs1SkuNvZ6_"
      },
      "outputs": [],
      "source": [
        "#===============================================================================\n",
        "# Compute FSI fire points and export as asset\n",
        "#===============================================================================\n",
        "\n",
        "colors = ['lime', 'pink', 'blue', 'orange', 'red', 'yellow', 'purple', 'green']\n",
        "\n",
        "geo = aoi.geometry()#.transform(proj=proj, maxError = 1)\n",
        "district = district_from_block[block_name].upper()\n",
        "\n",
        "loopStart = datetime.strptime(start_date,\"%Y-%m-%d\")\n",
        "loopEnd = datetime.strptime(end_date,\"%Y-%m-%d\")\n",
        "color_ind = 0\n",
        "while loopStart < loopEnd:\n",
        "    fsi_fires_list = []\n",
        "    curr_start_date = loopStart.strftime(\"%Y-%m-%d\")\n",
        "    curr_end_date = (loopStart+relativedelta(years=1)-timedelta(days=1)).strftime(\"%Y-%m-%d\")\n",
        "\n",
        "    print(\"\\nFetching fire regions from\", curr_start_date, \"to\", curr_end_date,\"\\n\")\n",
        "    url = get_url(block_name, curr_start_date, curr_end_date)\n",
        "    while url:\n",
        "        r = requests.get(url)\n",
        "        soup = BeautifulSoup(r.content, 'html.parser')\n",
        "        rows = soup.find_all('tr')\n",
        "        b = True\n",
        "        for row in rows:\n",
        "\n",
        "            # Extracting the number\n",
        "            number_cell = row.find('td', {'bgcolor': '#FFFFFF'})\n",
        "            number = number_cell.find('font').text.strip() if number_cell else None\n",
        "            if number:\n",
        "                if b:\n",
        "                    b = False\n",
        "                    continue\n",
        "                # print(f'Number: {number}')\n",
        "                stuff = row.find_all('td', {'bgcolor': '#FFFFFF', 'height': '23'})\n",
        "\n",
        "                # Extracting state and district name\n",
        "                state_name = stuff[4].text.strip() if len(stuff) > 4 else None\n",
        "                district_name = stuff[5].text.strip() if len(stuff) > 5 else None\n",
        "                if district_name!=district:\n",
        "                    continue\n",
        "\n",
        "                # Extracting the date and time\n",
        "                date_time_cell = stuff[1] # row.find('td', {'bgcolor': '#FFFFFF', 'width': '129'})\n",
        "                date_time = date_time_cell.find('font').text.strip() if date_time_cell else None\n",
        "                date_time = date_time.split(\" \")\n",
        "                date, time = date_time[0], date_time[1]\n",
        "                date = datetime.strptime(date, \"%d-%m-%Y\").strftime(\"%Y-%m-%d\")\n",
        "\n",
        "                # Extracting the link\n",
        "                link_cell = stuff[2] # row.find('td', {'bgcolor': '#FFFFFF', 'width': '232'})\n",
        "                link = link_cell.find('a')['href'] if link_cell and link_cell.find('a') else None\n",
        "                s_ind = link.rfind('/')\n",
        "                c_ind = link.rfind(',')\n",
        "                lat = float(link[s_ind+1:c_ind])\n",
        "                lon = float(link[c_ind+1:])\n",
        "                point = ee.Geometry.Point(lon, lat)\n",
        "                distance = geo.distance(right=point).getInfo()\n",
        "                if distance<500:\n",
        "                    feature = ee.Feature(point, {'ID': number[:-1], 'date': date, 'time': time})\n",
        "                    fsi_fires_list+=[feature]\n",
        "                    # Map.addLayer(point.buffer(500), {'color': colors[color_ind]}, None)\n",
        "\n",
        "        pagination_div = soup.find('div', class_='pagination')\n",
        "        if pagination_div:\n",
        "            next_link = pagination_div.find('a', string='next >>')\n",
        "            url = next_link[\"href\"] if next_link else None\n",
        "            if url:\n",
        "                url = 'http://117.239.115.41/smsalerts/'+url\n",
        "        else:\n",
        "            url = None\n",
        "\n",
        "    fsi_fires = ee.FeatureCollection(ee.List(fsi_fires_list))\n",
        "    display(fsi_fires)\n",
        "\n",
        "    output_filename = block_name + '_' + curr_start_date + '_' + curr_end_date\n",
        "    output_assetid = 'projects/ee-anaad/assets/FSI_fire_regions/'+output_filename\n",
        "    export_to_asset(fsi_fires, output_assetid, output_filename)\n",
        "\n",
        "    color_ind+=1\n",
        "    loopStart = loopStart+relativedelta(years=1)"
      ]
    },
    {
      "cell_type": "markdown",
      "metadata": {
        "id": "eFUYL4AKNtGO"
      },
      "source": [
        "## Analysis"
      ]
    },
    {
      "cell_type": "code",
      "execution_count": null,
      "metadata": {
        "colab": {
          "base_uri": "https://localhost:8080/",
          "height": 34
        },
        "id": "4uEMEnXI14Kk",
        "outputId": "0e475a83-3da2-45e7-f700-d2542b0db188"
      },
      "outputs": [
        {
          "output_type": "display_data",
          "data": {
            "text/plain": [
              "<IPython.core.display.HTML object>"
            ],
            "text/html": [
              "\n",
              "  <style>\n",
              "    pre {\n",
              "        white-space: pre-wrap;\n",
              "    }\n",
              "  </style>\n",
              "  "
            ]
          },
          "metadata": {}
        },
        {
          "output_type": "display_data",
          "data": {
            "text/plain": [
              "<IPython.core.display.HTML object>"
            ],
            "text/html": [
              "\n",
              "            <style>\n",
              "                .geemap-dark {\n",
              "                    --jp-widgets-color: white;\n",
              "                    --jp-widgets-label-color: white;\n",
              "                    --jp-ui-font-color1: white;\n",
              "                    --jp-layout-color2: #454545;\n",
              "                    background-color: #383838;\n",
              "                }\n",
              "\n",
              "                .geemap-dark .jupyter-button {\n",
              "                    --jp-layout-color3: #383838;\n",
              "                }\n",
              "\n",
              "                .geemap-colab {\n",
              "                    background-color: var(--colab-primary-surface-color, white);\n",
              "                }\n",
              "\n",
              "                .geemap-colab .jupyter-button {\n",
              "                    --jp-layout-color3: var(--colab-primary-surface-color, white);\n",
              "                }\n",
              "            </style>\n",
              "            "
            ]
          },
          "metadata": {}
        },
        {
          "output_type": "stream",
          "name": "stdout",
          "text": [
            "Mounted at /content/drive\n"
          ]
        }
      ],
      "source": [
        "# Mount drive\n",
        "\n",
        "from google.colab import drive\n",
        "drive.mount('/content/drive')\n",
        "# cd /content/drive/MyDrive/Forest\\ Fire\\ Detection"
      ]
    },
    {
      "cell_type": "code",
      "execution_count": null,
      "metadata": {
        "id": "MzY14kRSNtGV"
      },
      "outputs": [],
      "source": [
        "#===============================================================================\n",
        "# Display FSI fire points and predicted fire regions on map\n",
        "#===============================================================================\n",
        "\n",
        "aoi, roi, _ = set_block(block_name)\n",
        "# Map to display fire_regions (centroids) and fsi_fires (points buffered by 500 m)\n",
        "Map = geemap.Map()\n",
        "Map.addLayerControl()\n",
        "Map.centerObject(aoi)\n",
        "Map.addLayer(aoi, None, 'aoi')\n",
        "Map.addLayer(roi, None, 'roi')\n",
        "\n",
        "\n",
        "print(\"Displaying fire regions for\", block_name, \"using\", method)\n",
        "loopStart = datetime.strptime(start_date,\"%Y-%m-%d\")\n",
        "loopEnd = datetime.strptime(end_date,\"%Y-%m-%d\")\n",
        "while loopStart < loopEnd:\n",
        "    curr_start_date = loopStart.strftime(\"%Y-%m-%d\")\n",
        "    curr_end_date = (loopStart+relativedelta(years=1)-timedelta(days=1)).strftime(\"%Y-%m-%d\")\n",
        "\n",
        "    fsi_fires_id = 'projects/ee-anaad/assets/FSI_fire_regions/'+ block_name +'_'+ curr_start_date + '_' + curr_end_date\n",
        "    try:\n",
        "        ee.data.getAsset(fsi_fires_id)\n",
        "        fsi_fires = ee.FeatureCollection(fsi_fires_id)\n",
        "    except ee.EEException:\n",
        "        fsi_fires = ee.FeatureCollection([])\n",
        "    num_fsi_fires = fsi_fires.size().getInfo()\n",
        "    fsi_fires_list = fsi_fires.toList(num_fsi_fires)\n",
        "    Map.addLayer(fsi_fires.map(lambda feature: feature.buffer(500)), {'color': 'yellow'}, 'fsi_fires'+'_'+curr_start_date+'_'+curr_end_date)\n",
        "\n",
        "    fire_regions_id = 'projects/ee-anaad/assets/'+method+'_fire_regions/'+ block_name +'_'+ curr_start_date + '_' + curr_end_date\n",
        "    try:\n",
        "        ee.data.getAsset(fire_regions_id)\n",
        "        fire_regions = ee.FeatureCollection(fire_regions_id)\n",
        "    except ee.EEException:\n",
        "        fire_regions = ee.FeatureCollection([])\n",
        "    num_fire_regions = fire_regions.size().getInfo()\n",
        "    fire_regions_list = fire_regions.toList(num_fire_regions)\n",
        "    Map.addLayer(fire_regions.map(lambda feature: feature.centroid(1).buffer(500)), {'color': 'orange'}, 'fire_regions'+'_'+curr_start_date+'_'+curr_end_date)\n",
        "    # fire_regions_vis = fire_regions.style(\n",
        "    #     color='orange',\n",
        "    #     width=4,\n",
        "    #     fillColor='orange',  # with alpha set for partial transparency\n",
        "    #     # lineType='dotted',\n",
        "    #     pointSize=10,\n",
        "    #     pointShape='circle',\n",
        "    # )\n",
        "    # Map.addLayer(fire_regions_vis, None, 'fire_regions'+'_'+curr_start_date+'_'+curr_end_date)\n",
        "\n",
        "    loopStart = loopStart+relativedelta(years=1)\n",
        "\n",
        "Map"
      ]
    },
    {
      "cell_type": "markdown",
      "metadata": {
        "id": "aHJvfM78pRQA"
      },
      "source": [
        "### Table"
      ]
    },
    {
      "cell_type": "code",
      "execution_count": null,
      "metadata": {
        "id": "a7u41ng3pYLq"
      },
      "outputs": [],
      "source": [
        "# Input block_name, start_date and end_date\n",
        "block_name = 'angul'\n",
        "start_date = '2015-07-01'\n",
        "end_date = '2023-07-01'\n",
        "\n",
        "# Input method to generate fire regions\n",
        "method = 'Murphy'"
      ]
    },
    {
      "cell_type": "code",
      "execution_count": null,
      "metadata": {
        "colab": {
          "base_uri": "https://localhost:8080/",
          "height": 17
        },
        "id": "jvpdMy3MNtGV",
        "outputId": "dae6e492-a98a-4e77-be5d-66e42da723f4"
      },
      "outputs": [
        {
          "data": {
            "text/html": [
              "\n",
              "  <style>\n",
              "    pre {\n",
              "        white-space: pre-wrap;\n",
              "    }\n",
              "  </style>\n",
              "  "
            ],
            "text/plain": [
              "<IPython.core.display.HTML object>"
            ]
          },
          "metadata": {},
          "output_type": "display_data"
        },
        {
          "data": {
            "text/html": [
              "\n",
              "            <style>\n",
              "                .geemap-dark {\n",
              "                    --jp-widgets-color: white;\n",
              "                    --jp-widgets-label-color: white;\n",
              "                    --jp-ui-font-color1: white;\n",
              "                    --jp-layout-color2: #454545;\n",
              "                    background-color: #383838;\n",
              "                }\n",
              "\n",
              "                .geemap-dark .jupyter-button {\n",
              "                    --jp-layout-color3: #383838;\n",
              "                }\n",
              "\n",
              "                .geemap-colab {\n",
              "                    background-color: var(--colab-primary-surface-color, white);\n",
              "                }\n",
              "\n",
              "                .geemap-colab .jupyter-button {\n",
              "                    --jp-layout-color3: var(--colab-primary-surface-color, white);\n",
              "                }\n",
              "            </style>\n",
              "            "
            ],
            "text/plain": [
              "<IPython.core.display.HTML object>"
            ]
          },
          "metadata": {},
          "output_type": "display_data"
        }
      ],
      "source": [
        "#===============================================================================\n",
        "# Get comparative statstics\n",
        "#===============================================================================\n",
        "\n",
        "\n",
        "%%capture cap --no-stderr\n",
        "\n",
        "time_delta_prev = 8\n",
        "time_delta_ahead = 8\n",
        "\n",
        "for block_name in ['angul', 'masalia']:#, 'pindwara', 'mandalgarh']:\n",
        "    print(\"\\n\\n\\nAnalysis for block\", block_name)\n",
        "    aoi, roi, _ = set_block(block_name)\n",
        "    loopStart = datetime.strptime(start_date,\"%Y-%m-%d\")\n",
        "    loopEnd = datetime.strptime(end_date,\"%Y-%m-%d\")\n",
        "    while loopStart < loopEnd:\n",
        "        curr_start_date = loopStart.strftime(\"%Y-%m-%d\")\n",
        "        curr_end_date = (loopStart+relativedelta(years=1)-timedelta(days=1)).strftime(\"%Y-%m-%d\")\n",
        "\n",
        "        print(\"\\nComparing fire regions from\", curr_start_date, \"to\", curr_end_date,\"\\n\")\n",
        "\n",
        "        fsi_fires_id = 'projects/ee-anaad/assets/FSI_fire_regions/'+ block_name +'_'+ curr_start_date + '_' + curr_end_date\n",
        "        try:\n",
        "            ee.data.getAsset(fsi_fires_id)\n",
        "            fsi_fires = ee.FeatureCollection(fsi_fires_id)\n",
        "        except ee.EEException:\n",
        "            fsi_fires = ee.FeatureCollection([])\n",
        "        num_fsi_fires = fsi_fires.size().getInfo()\n",
        "        fsi_fires_list = fsi_fires.toList(num_fsi_fires)\n",
        "\n",
        "        fire_regions_id = 'projects/ee-anaad/assets/'+method+'_fire_regions/'+ block_name +'_'+ curr_start_date + '_' + curr_end_date\n",
        "        try:\n",
        "            ee.data.getAsset(fire_regions_id)\n",
        "            fire_regions = ee.FeatureCollection(fire_regions_id)\n",
        "        except ee.EEException:\n",
        "            fire_regions = ee.FeatureCollection([])\n",
        "        num_fire_regions = fire_regions.size().getInfo()\n",
        "        fire_regions_list = fire_regions.toList(num_fire_regions)\n",
        "\n",
        "\n",
        "        num_250 = 0\n",
        "        num_500 = 0\n",
        "        num_1000 = 0\n",
        "        dist_points = {}\n",
        "        print(\"Distances of predicted fire regions from FSI fires:\")\n",
        "        for i in range(num_fire_regions):\n",
        "            fire_region = ee.Feature(fire_regions_list.get(i))\n",
        "            date = fire_region.get('date').getInfo()\n",
        "            date = datetime.strptime(date,\"%Y-%m-%d\")\n",
        "            min_dist = 1000000\n",
        "            for j in range (num_fsi_fires):\n",
        "                fsi_fire = ee.Feature(fsi_fires_list.get(j))\n",
        "                date_diff = (date-datetime.strptime(fsi_fire.get('date').getInfo(), '%Y-%m-%d')).days\n",
        "                if date_diff>time_delta_prev or date_diff<-time_delta_ahead:\n",
        "                    continue\n",
        "                id = fsi_fire.get('ID').getInfo()\n",
        "                if id not in dist_points:\n",
        "                    dist_points[id] = 100000\n",
        "                distance = fire_region.distance(right=fsi_fire).getInfo()#, maxError=0.001, proj='EPSG:4326')\n",
        "                dist_points[id] = min(dist_points[id], distance)\n",
        "                min_dist = min(min_dist, distance)\n",
        "            if min_dist<250:\n",
        "                num_250+=1\n",
        "            elif min_dist<500:\n",
        "                num_500+=1\n",
        "            elif min_dist<1000:\n",
        "                num_1000+=1\n",
        "            if (min_dist==1000000):\n",
        "                print(\"no FSI fire close to landsat image acq. date\")\n",
        "            else:\n",
        "                print(min_dist)\n",
        "            # print('[', end='')\n",
        "            # print(truncate(centroid.get(0).getInfo(), 5), end='')\n",
        "            # print(',', truncate(centroid.get(-1).getInfo(), 5), end='')\n",
        "            # print(']', '(%.2f'%(min_dist), end='')\n",
        "            # print(')')\n",
        "\n",
        "        print('\\nNumber of FSI website fires in given year:', num_fsi_fires)\n",
        "        print('Number of fire regions predicted:', num_fire_regions)\n",
        "        print('Number of predicted fires within 250 m radius of FSI website fires:', num_250)\n",
        "        print('Number of predicted fires within 250 - 500 m radius of FSI website fires:', num_500)\n",
        "        print('Number of predicted fires within 500 - 1000 m radius of FSI website fires:', num_1000)\n",
        "\n",
        "        num_250 = 0\n",
        "        num_500 = 0\n",
        "        num_1000 = 0\n",
        "        for key in dist_points:\n",
        "            distance = dist_points[key]\n",
        "            # print(distance)\n",
        "            if distance<250:\n",
        "                num_250+=1\n",
        "            elif distance<500:\n",
        "                num_500+=1\n",
        "            elif distance<1000:\n",
        "                num_1000+=1\n",
        "\n",
        "        print('\\nNumber of FSI website fires considered:', len(dist_points))\n",
        "        print('Number of FSI website fires within 250 m radius of predicted fires:', num_250)\n",
        "        print('Number of FSI website fires within 250 - 500 m radius of predicted fires:', num_500)\n",
        "        print('Number of FSI website fires within 500 - 1000 m radius of predicted fires:', num_1000)\n",
        "\n",
        "        loopStart = loopStart+relativedelta(years=1)"
      ]
    },
    {
      "cell_type": "code",
      "execution_count": null,
      "metadata": {
        "colab": {
          "base_uri": "https://localhost:8080/",
          "height": 17
        },
        "id": "eUTas5vL1ZY7",
        "outputId": "7009877b-4f1c-40db-a8f0-e188ac2e02ec"
      },
      "outputs": [
        {
          "data": {
            "text/html": [
              "\n",
              "  <style>\n",
              "    pre {\n",
              "        white-space: pre-wrap;\n",
              "    }\n",
              "  </style>\n",
              "  "
            ],
            "text/plain": [
              "<IPython.core.display.HTML object>"
            ]
          },
          "metadata": {},
          "output_type": "display_data"
        },
        {
          "data": {
            "text/html": [
              "\n",
              "            <style>\n",
              "                .geemap-dark {\n",
              "                    --jp-widgets-color: white;\n",
              "                    --jp-widgets-label-color: white;\n",
              "                    --jp-ui-font-color1: white;\n",
              "                    --jp-layout-color2: #454545;\n",
              "                    background-color: #383838;\n",
              "                }\n",
              "\n",
              "                .geemap-dark .jupyter-button {\n",
              "                    --jp-layout-color3: #383838;\n",
              "                }\n",
              "\n",
              "                .geemap-colab {\n",
              "                    background-color: var(--colab-primary-surface-color, white);\n",
              "                }\n",
              "\n",
              "                .geemap-colab .jupyter-button {\n",
              "                    --jp-layout-color3: var(--colab-primary-surface-color, white);\n",
              "                }\n",
              "            </style>\n",
              "            "
            ],
            "text/plain": [
              "<IPython.core.display.HTML object>"
            ]
          },
          "metadata": {},
          "output_type": "display_data"
        }
      ],
      "source": [
        "with open(method + ' - VIIRS fire region analysis', 'w') as f:\n",
        "    f.write(str(cap))"
      ]
    },
    {
      "cell_type": "markdown",
      "metadata": {
        "id": "v0C5pG5zpU8Z"
      },
      "source": [
        "### Graph"
      ]
    },
    {
      "cell_type": "code",
      "source": [
        "aoi = aoi_masalia\n",
        "imageCollection = ee.ImageCollection('LANDSAT/LC08/C02/T1_TOA')\\\n",
        "        .filterDate('2020-07-01', '2020-08-01')\\\n",
        "        .filterBounds(aoi)\n",
        "\n",
        "image = ee.Image('LANDSAT/LC08/C02/T1_TOA/LC08_139043_20220708')\n",
        "\n",
        "n = imageCollection.size().getInfo()\n",
        "imageList = imageCollection.toList(n)\n",
        "pprint(imageList.getInfo())\n",
        "\n",
        "# Map = geemap.Map()\n",
        "# Map.addLayerControl()\n",
        "# Map.centerObject(aoi)\n",
        "# Map.addLayer(aoi, None, 'aoi')\n",
        "# Map.addLayer(image, None, 'image')\n",
        "# Map"
      ],
      "metadata": {
        "id": "x8SlS4JLglKn"
      },
      "execution_count": null,
      "outputs": []
    },
    {
      "cell_type": "code",
      "source": [
        "angul_dates = ['2020-07-09', '2021-07-12', '2022-07-15']\n",
        "masalia_dates = ['2020-07-02', '2021-07-05', '2022-07-08']"
      ],
      "metadata": {
        "colab": {
          "base_uri": "https://localhost:8080/",
          "height": 17
        },
        "id": "n_uWXttXkPml",
        "outputId": "610f8ba2-bada-43e0-93da-955eab6cb075"
      },
      "execution_count": null,
      "outputs": [
        {
          "output_type": "display_data",
          "data": {
            "text/plain": [
              "<IPython.core.display.HTML object>"
            ],
            "text/html": [
              "\n",
              "  <style>\n",
              "    pre {\n",
              "        white-space: pre-wrap;\n",
              "    }\n",
              "  </style>\n",
              "  "
            ]
          },
          "metadata": {}
        },
        {
          "output_type": "display_data",
          "data": {
            "text/plain": [
              "<IPython.core.display.HTML object>"
            ],
            "text/html": [
              "\n",
              "            <style>\n",
              "                .geemap-dark {\n",
              "                    --jp-widgets-color: white;\n",
              "                    --jp-widgets-label-color: white;\n",
              "                    --jp-ui-font-color1: white;\n",
              "                    --jp-layout-color2: #454545;\n",
              "                    background-color: #383838;\n",
              "                }\n",
              "\n",
              "                .geemap-dark .jupyter-button {\n",
              "                    --jp-layout-color3: #383838;\n",
              "                }\n",
              "\n",
              "                .geemap-colab {\n",
              "                    background-color: var(--colab-primary-surface-color, white);\n",
              "                }\n",
              "\n",
              "                .geemap-colab .jupyter-button {\n",
              "                    --jp-layout-color3: var(--colab-primary-surface-color, white);\n",
              "                }\n",
              "            </style>\n",
              "            "
            ]
          },
          "metadata": {}
        }
      ]
    },
    {
      "cell_type": "code",
      "execution_count": null,
      "metadata": {
        "colab": {
          "base_uri": "https://localhost:8080/",
          "height": 17
        },
        "id": "afRoLfsXNtGV",
        "outputId": "d9723cf7-3643-4cb7-d17c-3b4b4685532d"
      },
      "outputs": [
        {
          "output_type": "display_data",
          "data": {
            "text/plain": [
              "<IPython.core.display.HTML object>"
            ],
            "text/html": [
              "\n",
              "  <style>\n",
              "    pre {\n",
              "        white-space: pre-wrap;\n",
              "    }\n",
              "  </style>\n",
              "  "
            ]
          },
          "metadata": {}
        },
        {
          "output_type": "display_data",
          "data": {
            "text/plain": [
              "<IPython.core.display.HTML object>"
            ],
            "text/html": [
              "\n",
              "            <style>\n",
              "                .geemap-dark {\n",
              "                    --jp-widgets-color: white;\n",
              "                    --jp-widgets-label-color: white;\n",
              "                    --jp-ui-font-color1: white;\n",
              "                    --jp-layout-color2: #454545;\n",
              "                    background-color: #383838;\n",
              "                }\n",
              "\n",
              "                .geemap-dark .jupyter-button {\n",
              "                    --jp-layout-color3: #383838;\n",
              "                }\n",
              "\n",
              "                .geemap-colab {\n",
              "                    background-color: var(--colab-primary-surface-color, white);\n",
              "                }\n",
              "\n",
              "                .geemap-colab .jupyter-button {\n",
              "                    --jp-layout-color3: var(--colab-primary-surface-color, white);\n",
              "                }\n",
              "            </style>\n",
              "            "
            ]
          },
          "metadata": {}
        }
      ],
      "source": [
        "# Input block_name, start_date and end_date\n",
        "block_name = 'angul'\n",
        "image_dates = angul_dates\n",
        "start_date = '2020-07-01'\n",
        "end_date = '2023-07-01'\n",
        "\n",
        "# Input method to generate fire regions\n",
        "method = 'OldRandomForest'"
      ]
    },
    {
      "cell_type": "code",
      "source": [
        "#===============================================================================\n",
        "# Get comparative statstics also\n",
        "#===============================================================================\n",
        "\n",
        "# time_delta_prev = 15\n",
        "# time_delta_ahead = 0\n",
        "\n",
        "# for block_name in ['angul', 'masalia']:#, 'pindwara', 'mandalgarh']:\n",
        "# for method in ['Schroeder', 'OldRandomForest']:\n",
        "print(\"\\n\\nAnalysis for block\", block_name, \"using\", method, \"\\n\")\n",
        "aoi, roi, _ = set_block(block_name)\n",
        "loopStart = datetime.strptime(start_date,\"%Y-%m-%d\")\n",
        "loopEnd = datetime.strptime(end_date,\"%Y-%m-%d\")\n",
        "ind = 0\n",
        "while loopStart < loopEnd:\n",
        "    curr_start_date = loopStart.strftime(\"%Y-%m-%d\")\n",
        "    curr_end_date = (loopStart+relativedelta(years=1)-timedelta(days=1)).strftime(\"%Y-%m-%d\")\n",
        "    print(curr_start_date, \"to\", curr_end_date,\"\\n\")\n",
        "\n",
        "    fsi_fires_id = 'projects/ee-anaad/assets/FSI_fire_regions/'+ block_name +'_'+ curr_start_date + '_' + curr_end_date\n",
        "    try:\n",
        "        ee.data.getAsset(fsi_fires_id)\n",
        "        fsi_fires = ee.FeatureCollection(fsi_fires_id)\n",
        "    except ee.EEException:\n",
        "        fsi_fires = ee.FeatureCollection([])\n",
        "    num_fsi_fires = fsi_fires.size().getInfo()\n",
        "    fsi_fires_list = fsi_fires.toList(num_fsi_fires)\n",
        "\n",
        "    fire_regions_id = 'projects/ee-anaad/assets/'+method+'_fire_regions/'+ block_name +'_'+ curr_start_date + '_' + curr_end_date\n",
        "    try:\n",
        "        ee.data.getAsset(fire_regions_id)\n",
        "        fire_regions = ee.FeatureCollection(fire_regions_id)\n",
        "    except ee.EEException:\n",
        "        fire_regions = ee.FeatureCollection([])\n",
        "    num_fire_regions = fire_regions.size().getInfo()\n",
        "    fire_regions_list = fire_regions.toList(num_fire_regions)\n",
        "\n",
        "    print(\"num_fsi_fires\", num_fsi_fires)\n",
        "    print(\"num_fire_regions\", num_fire_regions)\n",
        "\n",
        "\n",
        "    fires = [0 for _ in range(16)]\n",
        "    detections = [0 for _ in range(16)]\n",
        "    regions = [0 for _ in range(23)]\n",
        "    fires_dict = {}\n",
        "    # regions_dict = {}\n",
        "    image_date = image_dates[ind]\n",
        "    for k in range(23):\n",
        "        for j in range (num_fsi_fires):\n",
        "            fsi_fire = ee.Feature(fsi_fires_list.get(j))\n",
        "            date = fsi_fire.get('date').getInfo()\n",
        "            date_diff = (datetime.strptime(image_date, '%Y-%m-%d')-datetime.strptime(date, '%Y-%m-%d')).days\n",
        "            if date_diff>15 or date_diff<0:\n",
        "                    continue\n",
        "            id = fsi_fire.get('ID').getInfo()\n",
        "            if id not in fires_dict:\n",
        "                fires_dict[id] = 0\n",
        "                fires[date_diff]+=1\n",
        "            if fires_dict[id]==1:\n",
        "                continue\n",
        "            for i in range(num_fire_regions):\n",
        "                fire_region = ee.Feature(fire_regions_list.get(i))\n",
        "                if (fire_region.get('date').getInfo()!=image_date):\n",
        "                    continue\n",
        "                # region_id = fire_region.get('ID').getInfo()\n",
        "                # if region_id not in regions_dict:\n",
        "                #     regions_dict[region_id] = 1\n",
        "                #     regions[k]+=1\n",
        "                if fires_dict[id]==0:\n",
        "                    distance = fire_region.distance(right=fsi_fire).getInfo()#, maxError=0.001, proj='EPSG:4326')\n",
        "                    if distance<1000:\n",
        "                        fires_dict[id] = 1\n",
        "                        detections[date_diff]+=1\n",
        "        image_date = datetime.strptime(image_date,\"%Y-%m-%d\")\n",
        "        image_date = (image_date+relativedelta(days=16)).strftime(\"%Y-%m-%d\")\n",
        "\n",
        "    print(fires)\n",
        "    print(detections)\n",
        "    print()\n",
        "\n",
        "    ind+=1\n",
        "    loopStart = loopStart+relativedelta(years=1)"
      ],
      "metadata": {
        "id": "ZZiiC0PqllhV"
      },
      "execution_count": null,
      "outputs": []
    },
    {
      "cell_type": "code",
      "execution_count": null,
      "metadata": {
        "id": "HR8GdkTnpnTn"
      },
      "outputs": [],
      "source": [
        "#===============================================================================\n",
        "# Plot statistics\n",
        "#===============================================================================\n",
        "\n",
        "plt.rcParams['figure.dpi'] = 100\n",
        "plt.rcParams[\"figure.figsize\"] = (15,7)\n",
        "\n",
        "# xcoord = ['2020-2021', '2021-2022', '2022-2023']\n",
        "xcoord = [0, 1, 2, 3, 4, 5, 6, 7, 8, 9, 10, 11, 12, 13, 14, 15]\n",
        "ycoord = [50, 25, 0, 0, 0, 0, 0, 0, 0, 0, 0, 0, 0, 0, 0, 0]\n",
        "color = 'blue'\n",
        "\n",
        "# for ind in range(16):\n",
        "    # color = colors[ind]\n",
        "    # plt.scatter(xcoord[ind], ycoord[ind], color=color)\n",
        "plt.bar(xcoord, ycoord, color=color)\n",
        "\n",
        "denom1 = [7, 2, 1, 3, 2, 5, 12, 3, 0, 0, 3, 1, 11, 4, 9, 1]\n",
        "numer1 = [4, 0, 0, 0, 0, 0, 0, 0, 0, 0, 0, 0, 0, 0, 0, 0]\n",
        "denom2 = [1, 10, 13, 9, 0, 3, 2, 2, 23, 4, 2, 1, 9, 26, 24, 4]\n",
        "numer2 = [0, 3, 0, 0, 0, 0, 0, 0, 0, 0, 0, 0, 0, 0, 0, 0]\n",
        "# [plt.text(i, j, j) for (i, j) in zip(xcoord, ycoord)]\n",
        "for i in range(16):\n",
        "    plt.text(xcoord[i], ycoord[i], str(numer1[i]+numer2[i])+'/'+str(denom1[i]+denom2[i]), fontsize=10, ha='left', va='bottom')\n",
        "\n",
        "plt.ylabel(\"Percentage of fires detected\")\n",
        "# plt.xticks(rotation=30)\n",
        "plt.xlabel(\"Number of days before Landsat-8 image\")\n",
        "\n",
        "plt.show()"
      ]
    },
    {
      "cell_type": "code",
      "source": [
        "import matplotlib.pyplot as plt\n",
        "\n",
        "x_values = [0, 1, 2, 3, 4, 5, 6, 7, 8, 9, 10, 11, 12, 13, 14, 15]\n",
        "y_values1 = [50, 25, 0, 0, 0, 0, 0, 0, 0, 0, 0, 0, 0, 0, 0, 0]\n",
        "y_values2 = [30, 30, 30, 30, 30, 30, 30, 30, 30, 30, 30, 30, 30, 30, 30, 30]\n",
        "\n",
        "# Create the first line chart\n",
        "plt.plot(x_values, y_values1, label='Landsat')\n",
        "\n",
        "# Create the second line chart\n",
        "plt.plot(x_values, y_values2, label='VIIRS')\n",
        "\n",
        "plt.ylabel(\"Percentage of fires detected\")\n",
        "plt.xlabel(\"Number of days before Landsat-8 image\")\n",
        "\n",
        "plt.show()"
      ],
      "metadata": {
        "colab": {
          "base_uri": "https://localhost:8080/",
          "height": 493
        },
        "id": "2Zu_vAdMBSkT",
        "outputId": "4cae0639-9fb3-45d4-bd5d-d536695f9f29"
      },
      "execution_count": null,
      "outputs": [
        {
          "output_type": "display_data",
          "data": {
            "text/plain": [
              "<IPython.core.display.HTML object>"
            ],
            "text/html": [
              "\n",
              "  <style>\n",
              "    pre {\n",
              "        white-space: pre-wrap;\n",
              "    }\n",
              "  </style>\n",
              "  "
            ]
          },
          "metadata": {}
        },
        {
          "output_type": "display_data",
          "data": {
            "text/plain": [
              "<IPython.core.display.HTML object>"
            ],
            "text/html": [
              "\n",
              "            <style>\n",
              "                .geemap-dark {\n",
              "                    --jp-widgets-color: white;\n",
              "                    --jp-widgets-label-color: white;\n",
              "                    --jp-ui-font-color1: white;\n",
              "                    --jp-layout-color2: #454545;\n",
              "                    background-color: #383838;\n",
              "                }\n",
              "\n",
              "                .geemap-dark .jupyter-button {\n",
              "                    --jp-layout-color3: #383838;\n",
              "                }\n",
              "\n",
              "                .geemap-colab {\n",
              "                    background-color: var(--colab-primary-surface-color, white);\n",
              "                }\n",
              "\n",
              "                .geemap-colab .jupyter-button {\n",
              "                    --jp-layout-color3: var(--colab-primary-surface-color, white);\n",
              "                }\n",
              "            </style>\n",
              "            "
            ]
          },
          "metadata": {}
        },
        {
          "output_type": "display_data",
          "data": {
            "text/plain": [
              "<Figure size 1500x700 with 1 Axes>"
            ],
            "image/png": "[encoded data removed]"
          },
          "metadata": {}
        }
      ]
    },
    {
      "cell_type": "markdown",
      "metadata": {
        "id": "UVAV-wjhCRsv"
      },
      "source": [
        "# VIIRS and MODIS Fire Masks"
      ]
    },
    {
      "cell_type": "markdown",
      "metadata": {
        "id": "VX99meESMfFU"
      },
      "source": [
        "## Testing fire masks"
      ]
    },
    {
      "cell_type": "code",
      "execution_count": null,
      "metadata": {
        "id": "aY4OUUbWkA_E"
      },
      "outputs": [],
      "source": [
        "image = ee.Image(\"MODIS/061/MOD09GA/2021_02_02\")\n",
        "display(image)"
      ]
    },
    {
      "cell_type": "code",
      "source": [
        "image = ee.Image(\"NOAA/VIIRS/001/VNP14A1/2024_04_09\")\n",
        "display(image)"
      ],
      "metadata": {
        "colab": {
          "base_uri": "https://localhost:8080/",
          "height": 34
        },
        "id": "9xoqeLQ4EEF-",
        "outputId": "8759da2e-bf26-4b89-c59c-3c1d46aa0179"
      },
      "execution_count": null,
      "outputs": [
        {
          "output_type": "display_data",
          "data": {
            "text/plain": [
              "<IPython.core.display.HTML object>"
            ],
            "text/html": [
              "\n",
              "  <style>\n",
              "    pre {\n",
              "        white-space: pre-wrap;\n",
              "    }\n",
              "  </style>\n",
              "  "
            ]
          },
          "metadata": {}
        },
        {
          "output_type": "display_data",
          "data": {
            "text/plain": [
              "<IPython.core.display.HTML object>"
            ],
            "text/html": [
              "\n",
              "            <style>\n",
              "                .geemap-dark {\n",
              "                    --jp-widgets-color: white;\n",
              "                    --jp-widgets-label-color: white;\n",
              "                    --jp-ui-font-color1: white;\n",
              "                    --jp-layout-color2: #454545;\n",
              "                    background-color: #383838;\n",
              "                }\n",
              "\n",
              "                .geemap-dark .jupyter-button {\n",
              "                    --jp-layout-color3: #383838;\n",
              "                }\n",
              "\n",
              "                .geemap-colab {\n",
              "                    background-color: var(--colab-primary-surface-color, white);\n",
              "                }\n",
              "\n",
              "                .geemap-colab .jupyter-button {\n",
              "                    --jp-layout-color3: var(--colab-primary-surface-color, white);\n",
              "                }\n",
              "            </style>\n",
              "            "
            ]
          },
          "metadata": {}
        },
        {
          "output_type": "display_data",
          "data": {
            "text/plain": [
              "<ee.image.Image at 0x7d5d2008f280>"
            ],
            "text/html": [
              "<pre>&lt;ee.image.Image object at 0x7d5d2008f280&gt;</pre>"
            ]
          },
          "metadata": {}
        }
      ]
    },
    {
      "cell_type": "code",
      "execution_count": null,
      "metadata": {
        "id": "FNYez5y3MgeF"
      },
      "outputs": [],
      "source": [
        "image = ee.Image(\"NOAA/VIIRS/001/VNP14A1/2021_02_02\").clip(aoi.geometry().buffer(5000))\n",
        "\n",
        "palette = [\n",
        "    'gray',       # 0: not processed (missing input data)\n",
        "    'gray',       # 1: not processed (obsolete; not used since Collection 1)\n",
        "    'gray',       # 2: not processed (other reason)\n",
        "    'blue',       # 3: non-fire water pixel\n",
        "    'white',      # 4: cloud (land or water)\n",
        "    'green',      # 5: non-fire land pixel\n",
        "    'gray',       # 6: unknown (land or water)\n",
        "    'yellow',     # 7: fire (low confidence, land or water)\n",
        "    'orange',     # 8: fire (nominal confidence, land or water)\n",
        "    'red'         # 9: fire (high confidence, land or water)\n",
        "]\n",
        "Map = geemap.Map()\n",
        "Map.addLayerControl()\n",
        "Map.centerObject(image)\n",
        "Map.addLayer(aoi, {}, 'aoi')\n",
        "\n",
        "fire_mask = image.select('FireMask').gte(7)\n",
        "fire = fire_mask.updateMask(fire_mask)\n",
        "fire_regions = fire.addBands(fire).reduceToVectors(\n",
        "        scale = 30,\n",
        "        reducer = ee.Reducer.mean(),\n",
        "        maxPixels = 1e10\n",
        "    )\n",
        "fire_regions_vis = fire_regions.style(\n",
        "        color='orange',\n",
        "        width=4,\n",
        "        fillColor='orange',  # with alpha set for partial transparency\n",
        "        # lineType='dotted',\n",
        "        pointSize=10,\n",
        "        pointShape='circle',\n",
        "    )\n",
        "Map.addLayer(fire_regions_vis, None, 'fire_regions')\n",
        "fire_regions = fire.addBands(fire).reduceToVectors(\n",
        "        scale = 1000,\n",
        "        reducer = ee.Reducer.mean(),\n",
        "        maxPixels = 1e10\n",
        "    )\n",
        "\n",
        "fire_regions_vis = fire_regions.style(\n",
        "        color='orange',\n",
        "        width=4,\n",
        "        fillColor='orange',  # with alpha set for partial transparency\n",
        "        # lineType='dotted',\n",
        "        pointSize=10,\n",
        "        pointShape='circle',\n",
        "    )\n",
        "Map.addLayer(fire_regions_vis, None, 'fire_regions_1km')\n",
        "Map.addLayer(image.select('FireMask').reproject(crs = 'EPSG:32644', crsTransform = [30, 0, 235485, 0, -30, 3312015]), {'min': 0, 'max': 9, 'palette': palette}, 'image')\n",
        "Map"
      ]
    },
    {
      "cell_type": "markdown",
      "metadata": {
        "id": "xFSBkio5Ky5r"
      },
      "source": [
        "## Compute and export *fire_regions*"
      ]
    },
    {
      "cell_type": "code",
      "execution_count": null,
      "metadata": {
        "colab": {
          "base_uri": "https://localhost:8080/",
          "height": 17
        },
        "id": "8lhxKLOPZgJj",
        "outputId": "74edb2a7-080e-4e38-a85e-cb20c7b4f456"
      },
      "outputs": [
        {
          "data": {
            "text/html": [
              "\n",
              "  <style>\n",
              "    pre {\n",
              "        white-space: pre-wrap;\n",
              "    }\n",
              "  </style>\n",
              "  "
            ],
            "text/plain": [
              "<IPython.core.display.HTML object>"
            ]
          },
          "metadata": {},
          "output_type": "display_data"
        },
        {
          "data": {
            "text/html": [
              "\n",
              "            <style>\n",
              "                .geemap-dark {\n",
              "                    --jp-widgets-color: white;\n",
              "                    --jp-widgets-label-color: white;\n",
              "                    --jp-ui-font-color1: white;\n",
              "                    --jp-layout-color2: #454545;\n",
              "                    background-color: #383838;\n",
              "                }\n",
              "\n",
              "                .geemap-dark .jupyter-button {\n",
              "                    --jp-layout-color3: #383838;\n",
              "                }\n",
              "\n",
              "                .geemap-colab {\n",
              "                    background-color: var(--colab-primary-surface-color, white);\n",
              "                }\n",
              "\n",
              "                .geemap-colab .jupyter-button {\n",
              "                    --jp-layout-color3: var(--colab-primary-surface-color, white);\n",
              "                }\n",
              "            </style>\n",
              "            "
            ],
            "text/plain": [
              "<IPython.core.display.HTML object>"
            ]
          },
          "metadata": {},
          "output_type": "display_data"
        }
      ],
      "source": [
        "import sys\n",
        "sys.setrecursionlimit(10000)"
      ]
    },
    {
      "cell_type": "code",
      "execution_count": null,
      "metadata": {
        "colab": {
          "base_uri": "https://localhost:8080/",
          "height": 17
        },
        "id": "1pVHdK6cXe-L",
        "outputId": "6a7327ee-da3e-4da6-a510-0b0c4980220c"
      },
      "outputs": [
        {
          "data": {
            "text/html": [
              "\n",
              "  <style>\n",
              "    pre {\n",
              "        white-space: pre-wrap;\n",
              "    }\n",
              "  </style>\n",
              "  "
            ],
            "text/plain": [
              "<IPython.core.display.HTML object>"
            ]
          },
          "metadata": {},
          "output_type": "display_data"
        },
        {
          "data": {
            "text/html": [
              "\n",
              "            <style>\n",
              "                .geemap-dark {\n",
              "                    --jp-widgets-color: white;\n",
              "                    --jp-widgets-label-color: white;\n",
              "                    --jp-ui-font-color1: white;\n",
              "                    --jp-layout-color2: #454545;\n",
              "                    background-color: #383838;\n",
              "                }\n",
              "\n",
              "                .geemap-dark .jupyter-button {\n",
              "                    --jp-layout-color3: #383838;\n",
              "                }\n",
              "\n",
              "                .geemap-colab {\n",
              "                    background-color: var(--colab-primary-surface-color, white);\n",
              "                }\n",
              "\n",
              "                .geemap-colab .jupyter-button {\n",
              "                    --jp-layout-color3: var(--colab-primary-surface-color, white);\n",
              "                }\n",
              "            </style>\n",
              "            "
            ],
            "text/plain": [
              "<IPython.core.display.HTML object>"
            ]
          },
          "metadata": {},
          "output_type": "display_data"
        }
      ],
      "source": [
        "# Function to get fire regions for aoi from start_date to end_date\n",
        "def get_fire_regions(aoi, start_date, end_date, method):\n",
        "    aoi_buffered = aoi.geometry().buffer(2000)\n",
        "\n",
        "    if method == 'VIIRS':\n",
        "        imageCollection = ee.ImageCollection(\"NOAA/VIIRS/001/VNP14A1\")\\\n",
        "            .filterDate(start_date, end_date)\\\n",
        "            .filterBounds(aoi_buffered)\n",
        "    if method == 'MODIS':\n",
        "        imageCollection = ee.ImageCollection(\"MODIS/061/MOD14A1\")\\\n",
        "            .filterDate(start_date, end_date)\\\n",
        "            .filterBounds(aoi_buffered)\n",
        "\n",
        "    n = imageCollection.size().getInfo()\n",
        "    imageList = imageCollection.toList(n)\n",
        "    fire_regions = ee.FeatureCollection([])\n",
        "    for i in range(n):\n",
        "        image = (ee.Image(imageList.get(i))).select('FireMask').rename(['F']).clip(aoi_buffered)\n",
        "        fire_mask = image.select('F').gte(7)\n",
        "        fire = fire_mask.updateMask(fire_mask)\n",
        "        fire_vectors = fire.addBands(fire).reduceToVectors(\n",
        "            scale = 30,\n",
        "            geometry = aoi_buffered,\n",
        "            reducer = ee.Reducer.mean(),\n",
        "            maxPixels = 1e10\n",
        "        )\n",
        "        fire_vectors = fire_vectors.select([]).map(lambda feature: feature.set({'date': image.date().format('YYYY-MM-dd'),'area': feature.area(maxError=1)}))\n",
        "        fire_regions = fire_regions.merge(fire_vectors)\n",
        "        # fire_regions = fire_regions.distinct(['date', 'area', '.geo'])\n",
        "\n",
        "    return fire_regions"
      ]
    },
    {
      "cell_type": "code",
      "execution_count": null,
      "metadata": {
        "colab": {
          "base_uri": "https://localhost:8080/",
          "height": 17
        },
        "id": "TTPEaDKFF9gv",
        "outputId": "557f48f4-4e59-4a75-a2d8-8844f2d517f0"
      },
      "outputs": [
        {
          "data": {
            "text/html": [
              "\n",
              "  <style>\n",
              "    pre {\n",
              "        white-space: pre-wrap;\n",
              "    }\n",
              "  </style>\n",
              "  "
            ],
            "text/plain": [
              "<IPython.core.display.HTML object>"
            ]
          },
          "metadata": {},
          "output_type": "display_data"
        },
        {
          "data": {
            "text/html": [
              "\n",
              "            <style>\n",
              "                .geemap-dark {\n",
              "                    --jp-widgets-color: white;\n",
              "                    --jp-widgets-label-color: white;\n",
              "                    --jp-ui-font-color1: white;\n",
              "                    --jp-layout-color2: #454545;\n",
              "                    background-color: #383838;\n",
              "                }\n",
              "\n",
              "                .geemap-dark .jupyter-button {\n",
              "                    --jp-layout-color3: #383838;\n",
              "                }\n",
              "\n",
              "                .geemap-colab {\n",
              "                    background-color: var(--colab-primary-surface-color, white);\n",
              "                }\n",
              "\n",
              "                .geemap-colab .jupyter-button {\n",
              "                    --jp-layout-color3: var(--colab-primary-surface-color, white);\n",
              "                }\n",
              "            </style>\n",
              "            "
            ],
            "text/plain": [
              "<IPython.core.display.HTML object>"
            ]
          },
          "metadata": {},
          "output_type": "display_data"
        }
      ],
      "source": [
        "# Input block_name, start_date and end_date\n",
        "# block_name = 'masalia'\n",
        "start_date = '2015-07-01'\n",
        "end_date = '2023-07-01'\n",
        "\n",
        "# Input method to generate fire regions\n",
        "method = 'VIIRS'"
      ]
    },
    {
      "cell_type": "code",
      "execution_count": null,
      "metadata": {
        "id": "0kSuiH8dXMCc"
      },
      "outputs": [],
      "source": [
        "#===============================================================================\n",
        "# Compute fire_regions and export as asset\n",
        "#===============================================================================\n",
        "\n",
        "\n",
        "aoi, roi, mws = set_block(block_name)\n",
        "\n",
        "loopStart = datetime.strptime(start_date,\"%Y-%m-%d\")\n",
        "loopEnd = datetime.strptime(end_date,\"%Y-%m-%d\")\n",
        "while loopStart < loopEnd:\n",
        "    curr_start_date = loopStart.strftime(\"%Y-%m-%d\")\n",
        "    curr_end_date = (loopStart+relativedelta(years=1)-timedelta(days=1)).strftime(\"%Y-%m-%d\")\n",
        "\n",
        "    print(\"\\nComputing fire regions from\", curr_start_date, \"to\", curr_end_date,\"\\n\")\n",
        "    loopStart = loopStart+relativedelta(years=1)\n",
        "    fire_regions = get_fire_regions(aoi, curr_start_date, loopStart.strftime(\"%Y-%m-%d\"), method)\n",
        "    fire_regions = set_properties(fire_regions, mws)\n",
        "\n",
        "    output_filename = block_name + '_' + curr_start_date + '_' + curr_end_date\n",
        "    output_assetid = 'projects/ee-anaad/assets/'+ method +'_fire_regions/'+output_filename\n",
        "    export_to_asset(fire_regions, output_assetid, output_filename)"
      ]
    },
    {
      "cell_type": "markdown",
      "metadata": {
        "id": "TsSS6frKo_Aj"
      },
      "source": [
        "## Analysis"
      ]
    },
    {
      "cell_type": "code",
      "execution_count": null,
      "metadata": {
        "colab": {
          "base_uri": "https://localhost:8080/",
          "height": 17
        },
        "id": "54InffkypoNo",
        "outputId": "9ba515bb-5288-4792-c129-d611733a594d"
      },
      "outputs": [
        {
          "data": {
            "text/html": [
              "\n",
              "  <style>\n",
              "    pre {\n",
              "        white-space: pre-wrap;\n",
              "    }\n",
              "  </style>\n",
              "  "
            ],
            "text/plain": [
              "<IPython.core.display.HTML object>"
            ]
          },
          "metadata": {},
          "output_type": "display_data"
        },
        {
          "data": {
            "text/html": [
              "\n",
              "            <style>\n",
              "                .geemap-dark {\n",
              "                    --jp-widgets-color: white;\n",
              "                    --jp-widgets-label-color: white;\n",
              "                    --jp-ui-font-color1: white;\n",
              "                    --jp-layout-color2: #454545;\n",
              "                    background-color: #383838;\n",
              "                }\n",
              "\n",
              "                .geemap-dark .jupyter-button {\n",
              "                    --jp-layout-color3: #383838;\n",
              "                }\n",
              "\n",
              "                .geemap-colab {\n",
              "                    background-color: var(--colab-primary-surface-color, white);\n",
              "                }\n",
              "\n",
              "                .geemap-colab .jupyter-button {\n",
              "                    --jp-layout-color3: var(--colab-primary-surface-color, white);\n",
              "                }\n",
              "            </style>\n",
              "            "
            ],
            "text/plain": [
              "<IPython.core.display.HTML object>"
            ]
          },
          "metadata": {},
          "output_type": "display_data"
        }
      ],
      "source": [
        "# Input block_name, start_date and end_date\n",
        "block_name = 'angul'\n",
        "start_date = '2015-07-01'\n",
        "end_date = '2023-07-01'\n",
        "\n",
        "# Input method to generate fire regions\n",
        "# method = 'VIIRS'\n",
        "method = 'RFReprojected'"
      ]
    },
    {
      "cell_type": "code",
      "execution_count": null,
      "metadata": {
        "id": "MZhyfUMkgymE"
      },
      "outputs": [],
      "source": [
        "#===============================================================================\n",
        "# Display FSI fire points/Landsat fire regions and predicted fire regions on map\n",
        "#===============================================================================\n",
        "\n",
        "aoi, roi, _ = set_block(block_name)\n",
        "# Map to display fire_regions (centroids) and fsi_fires (points buffered by 500 m)\n",
        "Map = geemap.Map()\n",
        "Map.addLayerControl()\n",
        "Map.centerObject(aoi)\n",
        "Map.addLayer(aoi, None, 'aoi')\n",
        "Map.addLayer(roi, None, 'roi')\n",
        "Map\n",
        "\n",
        "print(\"Displaying fire regions for\", block_name)\n",
        "aoi, roi, _ = set_block(block_name)\n",
        "loopStart = datetime.strptime(start_date,\"%Y-%m-%d\")\n",
        "loopEnd = datetime.strptime(end_date,\"%Y-%m-%d\")\n",
        "while loopStart < loopEnd:\n",
        "    curr_start_date = loopStart.strftime(\"%Y-%m-%d\")\n",
        "    curr_end_date = (loopStart+relativedelta(years=1)-timedelta(days=1)).strftime(\"%Y-%m-%d\")\n",
        "\n",
        "    print(\"\\nMapping fire regions from\", curr_start_date, \"to\", curr_end_date,\"\\n\")\n",
        "\n",
        "    fsi_fires_id = 'projects/ee-anaad/assets/VIIRS_fire_regions/'+ block_name +'_'+ curr_start_date + '_' + curr_end_date\n",
        "    try:\n",
        "        ee.data.getAsset(fsi_fires_id)\n",
        "        fsi_fires = ee.FeatureCollection(fsi_fires_id)\n",
        "    except ee.EEException:\n",
        "        fsi_fires = ee.FeatureCollection([])\n",
        "    num_fsi_fires = fsi_fires.size().getInfo()\n",
        "    fsi_fires_list = fsi_fires.toList(num_fsi_fires)\n",
        "    Map.addLayer(fsi_fires.map(lambda feature: feature), {'color': 'yellow'}, 'fsi_fires'+'_'+curr_start_date+'_'+curr_end_date)\n",
        "\n",
        "    fire_regions_id = 'projects/ee-anaad/assets/'+method+'_fire_regions/'+ block_name +'_'+ curr_start_date + '_' + curr_end_date\n",
        "    try:\n",
        "        ee.data.getAsset(fire_regions_id)\n",
        "        fire_regions = ee.FeatureCollection(fire_regions_id)\n",
        "    except ee.EEException:\n",
        "        fire_regions = ee.FeatureCollection([])\n",
        "    num_fire_regions = fire_regions.size().getInfo()\n",
        "    fire_regions_list = fire_regions.toList(num_fire_regions)\n",
        "    # Map.addLayer(fire_regions.map(lambda feature: feature.centroid(1).buffer(500)), {'color': 'orange'}, 'fire_regions'+'_'+curr_start_date+'_'+curr_end_date)\n",
        "    fire_regions_vis = fire_regions.style(\n",
        "        color='orange',\n",
        "        width=4,\n",
        "        fillColor='orange',  # with alpha set for partial transparency\n",
        "        # lineType='dotted',\n",
        "        pointSize=10,\n",
        "        pointShape='circle',\n",
        "    )\n",
        "    Map.addLayer(fire_regions_vis, None, 'fire_regions'+'_'+curr_start_date+'_'+curr_end_date)\n",
        "\n",
        "    loopStart = loopStart+relativedelta(years=1)\n",
        "\n",
        "Map"
      ]
    },
    {
      "cell_type": "markdown",
      "metadata": {
        "id": "uzK2OTBOK6FN"
      },
      "source": [
        "### Table"
      ]
    },
    {
      "cell_type": "code",
      "execution_count": null,
      "metadata": {
        "id": "RetrIcweqA9t"
      },
      "outputs": [],
      "source": [
        "# Input block_name, start_date and end_date\n",
        "# block_name = 'masalia'\n",
        "start_date = '2015-07-01'\n",
        "end_date = '2023-07-01'\n",
        "\n",
        "# Input method to generate fire regions\n",
        "method = 'VIIRS'"
      ]
    },
    {
      "cell_type": "code",
      "execution_count": null,
      "metadata": {
        "id": "KKYF3XHUIdWB"
      },
      "outputs": [],
      "source": [
        "#===============================================================================\n",
        "# Get comparative statstics\n",
        "#===============================================================================\n",
        "\n",
        "\n",
        "time_delta_prev = 1\n",
        "time_delta_ahead = 1\n",
        "\n",
        "for block_name in ['angul', 'masalia']:#, 'pindwara', 'mandalgarh']:\n",
        "    print(\"\\n\\nAnalysis for block\", block_name)\n",
        "    aoi, roi, _ = set_block(block_name)\n",
        "    loopStart = datetime.strptime(start_date,\"%Y-%m-%d\")\n",
        "    loopEnd = datetime.strptime(end_date,\"%Y-%m-%d\")\n",
        "    while loopStart < loopEnd:\n",
        "        curr_start_date = loopStart.strftime(\"%Y-%m-%d\")\n",
        "        curr_end_date = (loopStart+relativedelta(years=1)-timedelta(days=1)).strftime(\"%Y-%m-%d\")\n",
        "\n",
        "        print(\"\\nComparing fire regions from\", curr_start_date, \"to\", curr_end_date,\"\\n\")\n",
        "\n",
        "        fsi_fires_id = 'projects/ee-anaad/assets/FSI_fire_regions/'+ block_name +'_'+ curr_start_date + '_' + curr_end_date\n",
        "        try:\n",
        "            ee.data.getAsset(fsi_fires_id)\n",
        "            fsi_fires = ee.FeatureCollection(fsi_fires_id)\n",
        "        except ee.EEException:\n",
        "            fsi_fires = ee.FeatureCollection([])\n",
        "        num_fsi_fires = fsi_fires.size().getInfo()\n",
        "        fsi_fires_list = fsi_fires.toList(num_fsi_fires)\n",
        "\n",
        "        fire_regions_id = 'projects/ee-anaad/assets/'+method+'_fire_regions/'+ block_name +'_'+ curr_start_date + '_' + curr_end_date\n",
        "        try:\n",
        "            ee.data.getAsset(fire_regions_id)\n",
        "            fire_regions = ee.FeatureCollection(fire_regions_id)\n",
        "        except ee.EEException:\n",
        "            fire_regions = ee.FeatureCollection([])\n",
        "        num_fire_regions = fire_regions.size().getInfo()\n",
        "        fire_regions_list = fire_regions.toList(num_fire_regions)\n",
        "\n",
        "        num_250 = 0\n",
        "        num_500 = 0\n",
        "        num_1000 = 0\n",
        "        dist_points = {}\n",
        "        print(\"Distances of predicted fire regions from FSI fires:\")\n",
        "        for i in range(num_fire_regions):\n",
        "            fire_region = ee.Feature(fire_regions_list.get(i))\n",
        "            date = fire_region.get('date').getInfo()\n",
        "            date = datetime.strptime(date,\"%Y-%m-%d\")\n",
        "            min_dist = 1000000\n",
        "            for j in range (num_fsi_fires):\n",
        "                fsi_fire = ee.Feature(fsi_fires_list.get(j))\n",
        "                date_diff = (date-datetime.strptime(fsi_fire.get('date').getInfo(), '%Y-%m-%d')).days\n",
        "                if date_diff>time_delta_prev or date_diff<-time_delta_ahead:\n",
        "                    continue\n",
        "                id = fsi_fire.get('ID').getInfo()\n",
        "                if id not in dist_points:\n",
        "                    dist_points[id] = 100000\n",
        "                distance = fire_region.centroid(1).distance(right=fsi_fire).getInfo()#, maxError=0.001, proj='EPSG:4326')\n",
        "                dist_points[id] = min(dist_points[id], distance)\n",
        "                min_dist = min(min_dist, distance)\n",
        "            if min_dist<250:\n",
        "                num_250+=1\n",
        "            elif min_dist<500:\n",
        "                num_500+=1\n",
        "            elif min_dist<1000:\n",
        "                num_1000+=1\n",
        "            if (min_dist==1000000):\n",
        "                print(\"no FSI fire close to satellite image acq. date\")\n",
        "            else:\n",
        "                print(min_dist)\n",
        "            # print('[', end='')\n",
        "            # print(truncate(centroid.get(0).getInfo(), 5), end='')\n",
        "            # print(',', truncate(centroid.get(-1).getInfo(), 5), end='')\n",
        "            # print(']', '(%.2f'%(min_dist), end='')\n",
        "            # print(')')\n",
        "\n",
        "        print('\\nNumber of FSI website fires in given year:', num_fsi_fires)\n",
        "        print('Number of fire regions predicted:', num_fire_regions)\n",
        "        print('Number of predicted fires within 250 m radius of FSI website fires:', num_250)\n",
        "        print('Number of predicted fires within 250 - 500 m radius of FSI website fires:', num_500)\n",
        "        print('Number of predicted fires within 500 - 1000 m radius of FSI website fires:', num_1000)\n",
        "\n",
        "        num_250 = 0\n",
        "        num_500 = 0\n",
        "        num_1000 = 0\n",
        "        for key in dist_points:\n",
        "            distance = dist_points[key]\n",
        "            # print(distance)\n",
        "            if distance<250:\n",
        "                num_250+=1\n",
        "            elif distance<500:\n",
        "                num_500+=1\n",
        "            elif distance<1000:\n",
        "                num_1000+=1\n",
        "\n",
        "        print('\\nNumber of FSI website fires considered:', len(dist_points))\n",
        "        print('Number of FSI website fires within 250 m radius of predicted fires:', num_250)\n",
        "        print('Number of FSI website fires within 250 - 500 m radius of predicted fires:', num_500)\n",
        "        print('Number of FSI website fires within 500 - 1000 m radius of predicted fires:', num_1000)\n",
        "\n",
        "        loopStart = loopStart+relativedelta(years=1)"
      ]
    },
    {
      "cell_type": "markdown",
      "metadata": {
        "id": "fSGca-lcnPK9"
      },
      "source": [
        "### Graph"
      ]
    },
    {
      "cell_type": "code",
      "source": [
        "angul_dates = ['2020-07-09', '2021-07-12', '2022-07-15']\n",
        "masalia_dates = ['2020-07-02', '2021-07-05', '2022-07-08']"
      ],
      "metadata": {
        "colab": {
          "base_uri": "https://localhost:8080/",
          "height": 17
        },
        "id": "jWfA7iKZ8uo4",
        "outputId": "f4e3b9c1-d696-45cc-916f-f874fb93dde0"
      },
      "execution_count": null,
      "outputs": [
        {
          "output_type": "display_data",
          "data": {
            "text/plain": [
              "<IPython.core.display.HTML object>"
            ],
            "text/html": [
              "\n",
              "  <style>\n",
              "    pre {\n",
              "        white-space: pre-wrap;\n",
              "    }\n",
              "  </style>\n",
              "  "
            ]
          },
          "metadata": {}
        },
        {
          "output_type": "display_data",
          "data": {
            "text/plain": [
              "<IPython.core.display.HTML object>"
            ],
            "text/html": [
              "\n",
              "            <style>\n",
              "                .geemap-dark {\n",
              "                    --jp-widgets-color: white;\n",
              "                    --jp-widgets-label-color: white;\n",
              "                    --jp-ui-font-color1: white;\n",
              "                    --jp-layout-color2: #454545;\n",
              "                    background-color: #383838;\n",
              "                }\n",
              "\n",
              "                .geemap-dark .jupyter-button {\n",
              "                    --jp-layout-color3: #383838;\n",
              "                }\n",
              "\n",
              "                .geemap-colab {\n",
              "                    background-color: var(--colab-primary-surface-color, white);\n",
              "                }\n",
              "\n",
              "                .geemap-colab .jupyter-button {\n",
              "                    --jp-layout-color3: var(--colab-primary-surface-color, white);\n",
              "                }\n",
              "            </style>\n",
              "            "
            ]
          },
          "metadata": {}
        }
      ]
    },
    {
      "cell_type": "code",
      "execution_count": null,
      "metadata": {
        "colab": {
          "base_uri": "https://localhost:8080/",
          "height": 17
        },
        "id": "dAXNqBz10XXi",
        "outputId": "3bc0418a-09f1-47e8-a19a-b9fa5f632b47"
      },
      "outputs": [
        {
          "output_type": "display_data",
          "data": {
            "text/plain": [
              "<IPython.core.display.HTML object>"
            ],
            "text/html": [
              "\n",
              "  <style>\n",
              "    pre {\n",
              "        white-space: pre-wrap;\n",
              "    }\n",
              "  </style>\n",
              "  "
            ]
          },
          "metadata": {}
        },
        {
          "output_type": "display_data",
          "data": {
            "text/plain": [
              "<IPython.core.display.HTML object>"
            ],
            "text/html": [
              "\n",
              "            <style>\n",
              "                .geemap-dark {\n",
              "                    --jp-widgets-color: white;\n",
              "                    --jp-widgets-label-color: white;\n",
              "                    --jp-ui-font-color1: white;\n",
              "                    --jp-layout-color2: #454545;\n",
              "                    background-color: #383838;\n",
              "                }\n",
              "\n",
              "                .geemap-dark .jupyter-button {\n",
              "                    --jp-layout-color3: #383838;\n",
              "                }\n",
              "\n",
              "                .geemap-colab {\n",
              "                    background-color: var(--colab-primary-surface-color, white);\n",
              "                }\n",
              "\n",
              "                .geemap-colab .jupyter-button {\n",
              "                    --jp-layout-color3: var(--colab-primary-surface-color, white);\n",
              "                }\n",
              "            </style>\n",
              "            "
            ]
          },
          "metadata": {}
        }
      ],
      "source": [
        "# Input block_name, start_date and end_date\n",
        "block_name = 'masalia'\n",
        "image_dates = masalia_dates\n",
        "start_date = '2020-07-01'\n",
        "end_date = '2023-07-01'\n",
        "\n",
        "# Input method to generate fire regions\n",
        "method = 'VIIRS'"
      ]
    },
    {
      "cell_type": "code",
      "source": [
        "#===============================================================================\n",
        "# Get comparative statstics also\n",
        "#===============================================================================\n",
        "\n",
        "# time_delta_prev = 15\n",
        "# time_delta_ahead = 0\n",
        "\n",
        "# for block_name in ['angul', 'masalia']:#, 'pindwara', 'mandalgarh']:\n",
        "print(\"\\n\\nAnalysis for block\", block_name, \"using\", method, \"\\n\")\n",
        "aoi, roi, _ = set_block(block_name)\n",
        "loopStart = datetime.strptime(start_date,\"%Y-%m-%d\")\n",
        "loopEnd = datetime.strptime(end_date,\"%Y-%m-%d\")\n",
        "ind = 0\n",
        "while loopStart < loopEnd:\n",
        "    curr_start_date = loopStart.strftime(\"%Y-%m-%d\")\n",
        "    curr_end_date = (loopStart+relativedelta(years=1)-timedelta(days=1)).strftime(\"%Y-%m-%d\")\n",
        "    print(curr_start_date, \"to\", curr_end_date,\"\\n\")\n",
        "\n",
        "    fsi_fires_id = 'projects/ee-anaad/assets/FSI_fire_regions/'+ block_name +'_'+ curr_start_date + '_' + curr_end_date\n",
        "    try:\n",
        "        ee.data.getAsset(fsi_fires_id)\n",
        "        fsi_fires = ee.FeatureCollection(fsi_fires_id)\n",
        "    except ee.EEException:\n",
        "        fsi_fires = ee.FeatureCollection([])\n",
        "    num_fsi_fires = fsi_fires.size().getInfo()\n",
        "    fsi_fires_list = fsi_fires.toList(num_fsi_fires)\n",
        "\n",
        "    fire_regions_id = 'projects/ee-anaad/assets/'+method+'_fire_regions/'+ block_name +'_'+ curr_start_date + '_' + curr_end_date\n",
        "    try:\n",
        "        ee.data.getAsset(fire_regions_id)\n",
        "        fire_regions = ee.FeatureCollection(fire_regions_id)\n",
        "    except ee.EEException:\n",
        "        fire_regions = ee.FeatureCollection([])\n",
        "    num_fire_regions = fire_regions.size().getInfo()\n",
        "    fire_regions_list = fire_regions.toList(num_fire_regions)\n",
        "\n",
        "    print(\"num_fsi_fires\", num_fsi_fires)\n",
        "    print(\"num_fire_regions\", num_fire_regions)\n",
        "\n",
        "\n",
        "    fires = [0 for _ in range(16)]\n",
        "    detections = [0 for _ in range(16)]\n",
        "    regions = [0 for _ in range(23)]\n",
        "    fires_dict = {}\n",
        "    # regions_dict = {}\n",
        "    image_date = image_dates[ind]\n",
        "    for k in range(23):\n",
        "        for j in range (num_fsi_fires):\n",
        "            fsi_fire = ee.Feature(fsi_fires_list.get(j))\n",
        "            date = fsi_fire.get('date').getInfo()\n",
        "            date_diff = (datetime.strptime(image_date, '%Y-%m-%d')-datetime.strptime(date, '%Y-%m-%d')).days\n",
        "            if date_diff>15 or date_diff<0:\n",
        "                    continue\n",
        "            id = fsi_fire.get('ID').getInfo()\n",
        "            if id not in fires_dict:\n",
        "                fires_dict[id] = 0\n",
        "                fires[date_diff]+=1\n",
        "            if fires_dict[id]==1:\n",
        "                continue\n",
        "            for i in range(num_fire_regions):\n",
        "                fire_region = ee.Feature(fire_regions_list.get(i))\n",
        "                if date_diff!=(datetime.strptime(image_date, '%Y-%m-%d')-datetime.strptime(fire_region.get('date').getInfo(), '%Y-%m-%d')).days:\n",
        "                    continue\n",
        "                # region_id = fire_region.get('ID').getInfo()\n",
        "                # if region_id not in regions_dict:\n",
        "                #     regions_dict[region_id] = 1\n",
        "                #     regions[k]+=1\n",
        "                if fires_dict[id]==0:\n",
        "                    distance = fire_region.centroid(1).distance(right=fsi_fire).getInfo()#, maxError=0.001, proj='EPSG:4326')\n",
        "                    if distance<1000:\n",
        "                        fires_dict[id] = 1\n",
        "                        detections[date_diff]+=1\n",
        "        image_date = datetime.strptime(image_date,\"%Y-%m-%d\")\n",
        "        image_date = (image_date+relativedelta(days=16)).strftime(\"%Y-%m-%d\")\n",
        "\n",
        "    print(fires)\n",
        "    print(detections)\n",
        "    print()\n",
        "\n",
        "    ind+=1\n",
        "    loopStart = loopStart+relativedelta(years=1)"
      ],
      "metadata": {
        "id": "vmr6k47O8Q6b"
      },
      "execution_count": null,
      "outputs": []
    },
    {
      "cell_type": "code",
      "source": [
        "# Angul\n",
        "[7, 2, 1, 3, 2, 5, 12, 3, 0, 0, 3, 1, 11, 4, 9, 1]\n",
        "[4, 0, 0, 0, 0, 0, 12, 0, 0, 0, 2, 0, 7, 0, 0, 0]\n",
        "# Masalia\n",
        "[1, 10, 13, 9, 0, 3, 2, 2, 23, 4, 2, 1, 9, 26, 24, 4]\n",
        "[0, 0, 0, 1, 0, 0, 0, 0, 0, 0, 0, 0, 0, 3, 10, 0]"
      ],
      "metadata": {
        "id": "xumD89fj1zQW"
      },
      "execution_count": null,
      "outputs": []
    },
    {
      "cell_type": "code",
      "source": [
        "#===============================================================================\n",
        "# Plot statistics\n",
        "#===============================================================================\n",
        "\n",
        "plt.rcParams['figure.dpi'] = 100\n",
        "plt.rcParams[\"figure.figsize\"] = (15,7)\n",
        "\n",
        "# Angul\n",
        "denom1 = [7, 2, 1, 3, 2, 5, 12, 3, 0, 0, 3, 1, 11, 4, 9, 1]\n",
        "numer1 = [4, 0, 0, 0, 0, 0, 12, 0, 0, 0, 2, 0, 7, 0, 0, 0]\n",
        "# Masalia\n",
        "denom2 = [1, 10, 13, 9, 0, 3, 2, 2, 23, 4, 2, 1, 9, 26, 24, 4]\n",
        "numer2 = [0, 0, 0, 1, 0, 0, 0, 0, 0, 0, 0, 0, 0, 3, 10, 0]\n",
        "\n",
        "xcoord = [0, 1, 2, 3, 4, 5, 6, 7, 8, 9, 10, 11, 12, 13, 14, 15]\n",
        "color = 'blue'\n",
        "ycoord = [50, 0, 0, 8, 0, 0, 86, 0, 0, 0, 40, 0, 35, 10, 30, 0]\n",
        "# for i in range(16):\n",
        "    # ycoord = int(100.0*(numer1[i]+numer2[i])/(denom1[i]+denom2[i]))\n",
        "\n",
        "# for ind in range(16):\n",
        "    # color = colors[ind]\n",
        "    # plt.scatter(xcoord[ind], ycoord[ind], color=color)\n",
        "plt.bar(xcoord, ycoord, color=color)\n",
        "\n",
        "\n",
        "# [plt.text(i, j, j) for (i, j) in zip(xcoord, ycoord)]\n",
        "for i in range(16):\n",
        "    plt.text(xcoord[i], ycoord[i], str(numer1[i]+numer2[i])+'/'+str(denom1[i]+denom2[i]), fontsize=10, ha='left', va='bottom')\n",
        "\n",
        "\n",
        "plt.ylabel(\"Percentage of fires detected\")\n",
        "# plt.xticks(rotation=30)\n",
        "plt.xlabel(\"Number of days before Landsat-8 image\")\n",
        "\n",
        "plt.show()"
      ],
      "metadata": {
        "colab": {
          "base_uri": "https://localhost:8080/",
          "height": 493
        },
        "id": "P0idnUG03VlZ",
        "outputId": "6763dfea-7b4c-4bbc-93ae-9f0a7427352f"
      },
      "execution_count": null,
      "outputs": [
        {
          "output_type": "display_data",
          "data": {
            "text/plain": [
              "<IPython.core.display.HTML object>"
            ],
            "text/html": [
              "\n",
              "  <style>\n",
              "    pre {\n",
              "        white-space: pre-wrap;\n",
              "    }\n",
              "  </style>\n",
              "  "
            ]
          },
          "metadata": {}
        },
        {
          "output_type": "display_data",
          "data": {
            "text/plain": [
              "<IPython.core.display.HTML object>"
            ],
            "text/html": [
              "\n",
              "            <style>\n",
              "                .geemap-dark {\n",
              "                    --jp-widgets-color: white;\n",
              "                    --jp-widgets-label-color: white;\n",
              "                    --jp-ui-font-color1: white;\n",
              "                    --jp-layout-color2: #454545;\n",
              "                    background-color: #383838;\n",
              "                }\n",
              "\n",
              "                .geemap-dark .jupyter-button {\n",
              "                    --jp-layout-color3: #383838;\n",
              "                }\n",
              "\n",
              "                .geemap-colab {\n",
              "                    background-color: var(--colab-primary-surface-color, white);\n",
              "                }\n",
              "\n",
              "                .geemap-colab .jupyter-button {\n",
              "                    --jp-layout-color3: var(--colab-primary-surface-color, white);\n",
              "                }\n",
              "            </style>\n",
              "            "
            ]
          },
          "metadata": {}
        },
        {
          "output_type": "display_data",
          "data": {
            "text/plain": [
              "<Figure size 1500x700 with 1 Axes>"
            ],
            "image/png": "[encoded data removed]"
          },
          "metadata": {}
        }
      ]
    },
    {
      "cell_type": "markdown",
      "metadata": {
        "id": "v_tnOS-FzTRA"
      },
      "source": [
        "# [Forecasting Forest Fire Danger Conditions at a Four-Day Scale](https://www.mdpi.com/2072-4292/11/18/2101)"
      ]
    },
    {
      "cell_type": "code",
      "execution_count": null,
      "metadata": {
        "id": "JGoHUMN_6F2E"
      },
      "outputs": [],
      "source": [
        "gaul_level2 = ee.FeatureCollection(\"FAO/GAUL/2015/level2\")\n",
        "alberta_boundary = gaul_level2.filter(ee.Filter.eq('ADM1_NAME', 'Alberta'))\n",
        "\n",
        "mcd12q1 = ee.Image('MODIS/006/MCD12Q1/2015_01_01')\n",
        "# https://lpdaac.usgs.gov/documents/1409/MCD12_User_Guide_V61.pdf\n",
        "\n",
        "# Define the legend for Leaf Area Index (LAI)\n",
        "legend = {\n",
        "    0: 'Water Bodies',\n",
        "    1: 'Grasslands',\n",
        "    2: 'Shrublands',\n",
        "    3: 'Broadleaf Croplands',\n",
        "    4: 'Savannas',\n",
        "    5: 'Evergreen Broadleaf Forests',\n",
        "    6: 'Deciduous Broadleaf Forests',\n",
        "    7: 'Evergreen Needleleaf Forests',\n",
        "    8: 'Deciduous Needleleaf Forests',\n",
        "    9: 'Unvegetated',\n",
        "    10: 'Urban and Built-up Lands',\n",
        "    255: 'Unclassified'\n",
        "}\n",
        "\n",
        "# Define the colors for visualization\n",
        "colors = ['0000FF', '00FF00', '32CD32', 'FFFF00', 'CD853F', '008000',\n",
        "          '228B22', '006400', '2E8B57', '000000', 'FF0000', 'FFFFFF']\n",
        "\n",
        "# Clip the MCD12Q1 dataset to Alberta boundary\n",
        "mcd12q1_alberta = mcd12q1.clip(alberta_boundary)\n",
        "\n",
        "# Select the Land Cover Type 3 (LC Type3) band representing LAI\n",
        "lai = mcd12q1_alberta.select('LC_Type3')\n",
        "\n",
        "# Apply a color palette to the LAI band\n",
        "lai_vis = lai.visualize(min=0, max=10, palette=colors)\n",
        "\n",
        "# Add the LAI layer to the map\n",
        "Map = geemap.Map(center=[53.7267, -127.6476], zoom=6)\n",
        "Map.addLayer(lai_vis, {}, 'Leaf Area Index (LAI)')\n",
        "Map.add_legend(legend_title=\"Leaf Area Index (LAI)\", legend_keys=list(legend.keys()), legend_values=list(legend.values()), layer_name='Leaf Area Index (LAI)')\n",
        "Map.addLayer(alberta_boundary, {}, 'Alberta Boundary')\n",
        "Map.addLayerControl()\n",
        "Map"
      ]
    },
    {
      "cell_type": "code",
      "source": [
        "date = '2020-07-01'\n",
        "date_ee = ee.Date(date)\n",
        "year = date_ee.get('year').getInfo()\n",
        "start_date = ee.Date.fromYMD(year, 1, 1)\n",
        "end_date = ee.Date.fromYMD(year + 1, 1, 1)\n",
        "print(start_date.getInfo())\n",
        "print(end_date)"
      ],
      "metadata": {
        "id": "YPgOGdC_Qiqp"
      },
      "execution_count": null,
      "outputs": []
    },
    {
      "cell_type": "code",
      "source": [
        "date = '2021-02-02'\n",
        "date_ee = ee.Date(date)\n",
        "image = ee.Image(\"MODIS/061/MOD09GA/2021_02_02\")\n",
        "display(image)\n",
        "modis_collection = ee.ImageCollection(\"MODIS/061/MOD09GA\") \\\n",
        "        .filterDate('2021-01-01', '2022-01-01')\n",
        "prev_images = modis_collection.filterDate(date_ee.advance(-4, 'day'), date_ee)\n",
        "prev_images.select('sur_refl_b01')"
      ],
      "metadata": {
        "id": "e2_wkdjTSRD_"
      },
      "execution_count": null,
      "outputs": []
    },
    {
      "cell_type": "code",
      "execution_count": null,
      "metadata": {
        "id": "0ADci0yZRu1C",
        "colab": {
          "base_uri": "https://localhost:8080/",
          "height": 17
        },
        "outputId": "d9d3a0b0-c4cf-4f6d-f2d8-5de59bb3a7c7"
      },
      "outputs": [
        {
          "output_type": "display_data",
          "data": {
            "text/plain": [
              "<IPython.core.display.HTML object>"
            ],
            "text/html": [
              "\n",
              "  <style>\n",
              "    pre {\n",
              "        white-space: pre-wrap;\n",
              "    }\n",
              "  </style>\n",
              "  "
            ]
          },
          "metadata": {}
        },
        {
          "output_type": "display_data",
          "data": {
            "text/plain": [
              "<IPython.core.display.HTML object>"
            ],
            "text/html": [
              "\n",
              "            <style>\n",
              "                .geemap-dark {\n",
              "                    --jp-widgets-color: white;\n",
              "                    --jp-widgets-label-color: white;\n",
              "                    --jp-ui-font-color1: white;\n",
              "                    --jp-layout-color2: #454545;\n",
              "                    background-color: #383838;\n",
              "                }\n",
              "\n",
              "                .geemap-dark .jupyter-button {\n",
              "                    --jp-layout-color3: #383838;\n",
              "                }\n",
              "\n",
              "                .geemap-colab {\n",
              "                    background-color: var(--colab-primary-surface-color, white);\n",
              "                }\n",
              "\n",
              "                .geemap-colab .jupyter-button {\n",
              "                    --jp-layout-color3: var(--colab-primary-surface-color, white);\n",
              "                }\n",
              "            </style>\n",
              "            "
            ]
          },
          "metadata": {}
        }
      ],
      "source": [
        "def forecast(aoi, date):\n",
        "    def calculate_indices(image):\n",
        "        ndvi = image.normalizedDifference(['sur_refl_b02', 'sur_refl_b01']).rename('ndvi')\n",
        "        ndwi = image.normalizedDifference(['sur_refl_b02', 'sur_refl_b07']).rename('ndwi')\n",
        "        return ndvi.addBands(ndwi)\n",
        "\n",
        "    date_ee = ee.Date(date)\n",
        "    year = date_ee.get('year').getInfo()\n",
        "    start_date = f'{year}-01-01'\n",
        "    end_date = f'{year + 1}-01-01'\n",
        "\n",
        "\n",
        "    modis_collection = ee.ImageCollection(\"MODIS/061/MOD09GA\") \\\n",
        "        .filterBounds(aoi) \\\n",
        "        .filterDate(start_date, end_date)\n",
        "    projection = modis_collection.first().select('sur_refl_b01').projection().getInfo()\n",
        "\n",
        "    indices_collection = modis_collection.map(calculate_indices)\n",
        "    # display(indices_collection)\n",
        "    mean_ndvi = indices_collection.select('ndvi').mean().reproject(crs = projection['crs'], crsTransform = projection['transform'])\n",
        "    mean_ndwi = indices_collection.select('ndwi').mean().reproject(crs = projection['crs'], crsTransform = projection['transform'])\n",
        "\n",
        "    prev_images = modis_collection.filterDate(date_ee.advance(-4, 'day'), date_ee)\n",
        "    prev_images_with_indices = prev_images.map(calculate_indices)\n",
        "    max_ndvi = prev_images_with_indices.select('ndvi').max().reproject(crs = projection['crs'], crsTransform = projection['transform'])\n",
        "    max_ndwi = prev_images_with_indices.select('ndwi').max().reproject(crs = projection['crs'], crsTransform = projection['transform'])\n",
        "\n",
        "\n",
        "    temp_collection = ee.ImageCollection(\"MODIS/061/MOD11A1\") \\\n",
        "        .filterBounds(aoi) \\\n",
        "        .filterDate(start_date, end_date)\n",
        "\n",
        "    mean_temp = temp_collection.select('LST_Day_1km').mean()\n",
        "    mean_temp = mean_temp.select('LST_Day_1km').reproject(crs = projection['crs'], crsTransform = projection['transform'])\n",
        "\n",
        "    prev_images_with_temp = temp_collection.filterDate(date_ee.advance(-4, 'day'), date_ee).select('LST_Day_1km').mean()\n",
        "    prev_images_with_temp = prev_images_with_temp.select('LST_Day_1km').reproject(crs = projection['crs'], crsTransform = projection['transform'])\n",
        "\n",
        "\n",
        "    ret = max_ndvi.select('ndvi').gte(mean_ndvi.select('ndvi'))\n",
        "    ret = ret.add(max_ndwi.select('ndwi').gte(mean_ndwi.select('ndwi')))\n",
        "    ret = ret.add(prev_images_with_temp.select('LST_Day_1km').gte(mean_temp.select('LST_Day_1km')))\n",
        "    return ret.rename('danger')"
      ]
    },
    {
      "cell_type": "code",
      "source": [
        "aoi=aoi_angul\n",
        "date = '2020-07-01'\n",
        "image = forecast(aoi, date)\n",
        "Map = geemap.Map()\n",
        "Map.addLayerControl()\n",
        "Map.centerObject(aoi)\n",
        "Map.addLayer(aoi)\n",
        "# Map.addLayer(image.select('danger').clip(aoi), {'min': 0, 'max': 3, 'palette': ['green', 'yellow', 'orange', 'red']}, 'img')\n",
        "\n",
        "legend = {\n",
        "    0: 'Low',\n",
        "    1: 'Moderate',\n",
        "    2: 'High',\n",
        "    3: 'Very High',\n",
        "}\n",
        "colors = ['green', 'yellow', 'orange', 'red']\n",
        "\n",
        "lai = image.clip(aoi).select('danger')\n",
        "lai_vis = lai.visualize(min=0, max=3, palette=colors)\n",
        "Map.addLayer(lai_vis, {}, 'Danger')\n",
        "Map"
      ],
      "metadata": {
        "id": "QJUlAprMXpnq"
      },
      "execution_count": null,
      "outputs": []
    },
    {
      "cell_type": "markdown",
      "source": [
        "# Time Series Analysis"
      ],
      "metadata": {
        "id": "TFN6tYBeGHIK"
      }
    },
    {
      "cell_type": "code",
      "source": [
        "# Run the code below to visualize AEZ boundaries\n",
        "Map = geemap.Map()\n",
        "Map.addLayerControl()\n",
        "\n",
        "Map.addLayer(aez_boundaries, {}, 'AEZs')\n",
        "Map.addLayer(block_boundaries, {}, 'Blocks')\n",
        "\n",
        "n = aez_boundaries.size().getInfo()\n",
        "aez_list = aez_boundaries.toList(n)\n",
        "for i in range(n):\n",
        "    aez = ee.Feature(aez_list.get(i))\n",
        "    Map.addLayer(aez, {}, 'aez'+str(aez.get('ae_regcode').getInfo()))\n",
        "\n",
        "Map"
      ],
      "metadata": {
        "colab": {
          "base_uri": "https://localhost:8080/",
          "height": 17
        },
        "id": "g2y5WWWpx7iS",
        "outputId": "574bccd7-7a57-4220-fefb-60cd9e15a4cc"
      },
      "execution_count": null,
      "outputs": [
        {
          "output_type": "display_data",
          "data": {
            "text/plain": [
              "<IPython.core.display.HTML object>"
            ],
            "text/html": [
              "\n",
              "  <style>\n",
              "    pre {\n",
              "        white-space: pre-wrap;\n",
              "    }\n",
              "  </style>\n",
              "  "
            ]
          },
          "metadata": {}
        },
        {
          "output_type": "display_data",
          "data": {
            "text/plain": [
              "<IPython.core.display.HTML object>"
            ],
            "text/html": [
              "\n",
              "            <style>\n",
              "                .geemap-dark {\n",
              "                    --jp-widgets-color: white;\n",
              "                    --jp-widgets-label-color: white;\n",
              "                    --jp-ui-font-color1: white;\n",
              "                    --jp-layout-color2: #454545;\n",
              "                    background-color: #383838;\n",
              "                }\n",
              "\n",
              "                .geemap-dark .jupyter-button {\n",
              "                    --jp-layout-color3: #383838;\n",
              "                }\n",
              "\n",
              "                .geemap-colab {\n",
              "                    background-color: var(--colab-primary-surface-color, white);\n",
              "                }\n",
              "\n",
              "                .geemap-colab .jupyter-button {\n",
              "                    --jp-layout-color3: var(--colab-primary-surface-color, white);\n",
              "                }\n",
              "            </style>\n",
              "            "
            ]
          },
          "metadata": {}
        }
      ]
    },
    {
      "cell_type": "markdown",
      "source": [
        "## Helper Functions"
      ],
      "metadata": {
        "id": "KusdGERVURdw"
      }
    },
    {
      "cell_type": "code",
      "source": [
        "bands_to_select = ['Tair_f_inst', 'Evap_tavg', 'Qair_f_inst', 'Rainf_f_tavg', 'SoilTMP0_10cm_inst', 'Wind_f_inst']\n",
        "bands_add = ['Evap_tavg', 'Rainf_f_tavg']\n",
        "bands_avg = ['Tair_f_inst', 'Qair_f_inst', 'SoilTMP0_10cm_inst', 'Wind_f_inst']\n",
        "\n",
        "def get_data_row(aoi_geo, landsatImagePrefix, date_object, method):\n",
        "    dict_row = {}\n",
        "\n",
        "    getFireMask = None\n",
        "    if method == 'Murphy':\n",
        "        getFireMask = getFireMaskMurphy\n",
        "    elif method=='Schroder':\n",
        "        getFireMask = getFireMaskSchroeder\n",
        "    elif method=='OldRandomForest':\n",
        "        getFireMask = getFireMaskOldRandomForest\n",
        "    elif method=='RFLandsat':\n",
        "        getFireMask = getFireMaskRFLandsat\n",
        "    elif method=='RFNativeProjections':\n",
        "        getFireMask = getFireMaskRFNativeProjections\n",
        "    elif method=='RFReprojected':\n",
        "        getFireMask = getFireMaskRFReprojected\n",
        "\n",
        "    landsatImageId = landsatImagePrefix+date_object.strftime(\"%Y%m%d\")\n",
        "    try:\n",
        "        ee.data.getAsset(landsatImageId)\n",
        "    except ee.EEException:\n",
        "        print(landsatImageId, 'does not exist.')\n",
        "        return None\n",
        "    image = ee.Image(landsatImageId).clip(aoi_geo)\n",
        "    fire_mask = getFireMask(image)#.updateMask(forest_mask)\n",
        "    fire = fire_mask.updateMask(fire_mask)\n",
        "    fire_pixels = fire.reduceRegion(reducer = ee.Reducer.sum(), scale = 30, maxPixels = 1e8)\n",
        "    num_fires = ee.Number(fire_pixels.get('F')).getInfo()\n",
        "    # fire_vectors = fire.addBands(fire).reduceToVectors(\n",
        "    #     geometry = aoi_buffered,\n",
        "    #     scale = 30,\n",
        "    #     reducer = ee.Reducer.mean(),\n",
        "    #     maxPixels = 1e10\n",
        "    # )\n",
        "    # num_fires = fire_vectors.size().getInfo()\n",
        "    dict_row['Num_fires'] = num_fires\n",
        "\n",
        "    def get_climatic_data(ind):\n",
        "        start_date = (date_object+timedelta(days=ind)).strftime(\"%Y-%m-%d\")\n",
        "        end_date = (date_object+timedelta(days=ind+1)).strftime(\"%Y-%m-%d\")\n",
        "        ic = ee.ImageCollection(\"NASA/GLDAS/V021/NOAH/G025/T3H\")\\\n",
        "        .filterBounds(aoi_geo)\\\n",
        "        .filterDate(start_date, end_date)\n",
        "\n",
        "        image1 = ic.select(bands_avg).mean().clip(aoi_geo)\n",
        "        mean_values = image1.reduceRegion(reducer=ee.Reducer.mean(), geometry=aoi_geo)\n",
        "        values = mean_values.getInfo()\n",
        "        for key in values:\n",
        "            dict_row[key+str(ind)] = values[key]\n",
        "\n",
        "        image2 = ic.select(bands_add).sum().clip(aoi_geo)\n",
        "        mean_values = image2.reduceRegion(reducer=ee.Reducer.mean(), geometry=aoi_geo)\n",
        "        values = mean_values.getInfo()\n",
        "        for key in values:\n",
        "            dict_row[key+str(ind)] = values[key]*86400\n",
        "\n",
        "    for ind in range(3):\n",
        "        get_climatic_data(ind)\n",
        "\n",
        "    return dict_row"
      ],
      "metadata": {
        "colab": {
          "base_uri": "https://localhost:8080/",
          "height": 17
        },
        "id": "-Bhc2WolH95t",
        "outputId": "a413ba89-1b84-4070-ae8f-43847079756c"
      },
      "execution_count": null,
      "outputs": [
        {
          "output_type": "display_data",
          "data": {
            "text/plain": [
              "<IPython.core.display.HTML object>"
            ],
            "text/html": [
              "\n",
              "  <style>\n",
              "    pre {\n",
              "        white-space: pre-wrap;\n",
              "    }\n",
              "  </style>\n",
              "  "
            ]
          },
          "metadata": {}
        },
        {
          "output_type": "display_data",
          "data": {
            "text/plain": [
              "<IPython.core.display.HTML object>"
            ],
            "text/html": [
              "\n",
              "            <style>\n",
              "                .geemap-dark {\n",
              "                    --jp-widgets-color: white;\n",
              "                    --jp-widgets-label-color: white;\n",
              "                    --jp-ui-font-color1: white;\n",
              "                    --jp-layout-color2: #454545;\n",
              "                    background-color: #383838;\n",
              "                }\n",
              "\n",
              "                .geemap-dark .jupyter-button {\n",
              "                    --jp-layout-color3: #383838;\n",
              "                }\n",
              "\n",
              "                .geemap-colab {\n",
              "                    background-color: var(--colab-primary-surface-color, white);\n",
              "                }\n",
              "\n",
              "                .geemap-colab .jupyter-button {\n",
              "                    --jp-layout-color3: var(--colab-primary-surface-color, white);\n",
              "                }\n",
              "            </style>\n",
              "            "
            ]
          },
          "metadata": {}
        }
      ]
    },
    {
      "cell_type": "code",
      "source": [
        "def get_data_matrix(aoi, start_date, end_date, method):\n",
        "    dict_rows = []\n",
        "    aoi_geo = aoi.geometry()\n",
        "\n",
        "    landsatImageCollection = ee.ImageCollection(\"LANDSAT/LC08/C02/T1_TOA\")\\\n",
        "        .filterBounds(aoi_geo)\\\n",
        "        .filterDate(start_date, (datetime.strptime(start_date, \"%Y-%m-%d\")+timedelta(days=16)).strftime(\"%Y-%m-%d\"))\n",
        "    while(landsatImageCollection.size().getInfo() == 0):\n",
        "        start_date = (datetime.strptime(start_date, \"%Y-%m-%d\")+timedelta(days=16)).strftime(\"%Y-%m-%d\")\n",
        "        landsatImageCollection = ee.ImageCollection(\"LANDSAT/LC08/C02/T1_TOA\")\\\n",
        "        .filterBounds(aoi_geo)\\\n",
        "        .filterDate(start_date, (datetime.strptime(start_date, \"%Y-%m-%d\")+timedelta(days=16)).strftime(\"%Y-%m-%d\"))\n",
        "\n",
        "    n = landsatImageCollection.size().getInfo()\n",
        "    landsatImageList = ee.List(landsatImageCollection.toList(n))\n",
        "    max_intersection_area = 0\n",
        "    landsatImageId = None\n",
        "    for i in range(n):\n",
        "        landsatImage = ee.Image(landsatImageList.get(i))\n",
        "        intersection_area = landsatImage.geometry().intersection(aoi_geo).area().getInfo()\n",
        "        if intersection_area > max_intersection_area:\n",
        "            max_intersection_area = intersection_area\n",
        "            landsatImageId = landsatImage.id().getInfo()\n",
        "    date_string = landsatImageId[-8:]\n",
        "    date_object = datetime.strptime(date_string, \"%Y%m%d\")\n",
        "    end_date = datetime.strptime(end_date, \"%Y-%m-%d\")\n",
        "    landsatImagePrefix = 'LANDSAT/LC08/C02/T1_TOA/'+landsatImageId[:11]+'_'\n",
        "\n",
        "    adi = aoi.get('ADI 2019').getInfo()\n",
        "    while date_object < end_date:\n",
        "        dict_row = get_data_row(aoi_geo, landsatImagePrefix, date_object, method)\n",
        "        if dict_row != None:\n",
        "            dict_row['ADI'] = adi\n",
        "            dict_rows.append(dict_row)\n",
        "        date_object = date_object+timedelta(days=16)\n",
        "\n",
        "    return pd.DataFrame(dict_rows)"
      ],
      "metadata": {
        "colab": {
          "base_uri": "https://localhost:8080/",
          "height": 17
        },
        "id": "DqMuRAm05ULV",
        "outputId": "1a21881c-e5aa-4235-cc00-fa19b4b30a63"
      },
      "execution_count": null,
      "outputs": [
        {
          "output_type": "display_data",
          "data": {
            "text/plain": [
              "<IPython.core.display.HTML object>"
            ],
            "text/html": [
              "\n",
              "  <style>\n",
              "    pre {\n",
              "        white-space: pre-wrap;\n",
              "    }\n",
              "  </style>\n",
              "  "
            ]
          },
          "metadata": {}
        },
        {
          "output_type": "display_data",
          "data": {
            "text/plain": [
              "<IPython.core.display.HTML object>"
            ],
            "text/html": [
              "\n",
              "            <style>\n",
              "                .geemap-dark {\n",
              "                    --jp-widgets-color: white;\n",
              "                    --jp-widgets-label-color: white;\n",
              "                    --jp-ui-font-color1: white;\n",
              "                    --jp-layout-color2: #454545;\n",
              "                    background-color: #383838;\n",
              "                }\n",
              "\n",
              "                .geemap-dark .jupyter-button {\n",
              "                    --jp-layout-color3: #383838;\n",
              "                }\n",
              "\n",
              "                .geemap-colab {\n",
              "                    background-color: var(--colab-primary-surface-color, white);\n",
              "                }\n",
              "\n",
              "                .geemap-colab .jupyter-button {\n",
              "                    --jp-layout-color3: var(--colab-primary-surface-color, white);\n",
              "                }\n",
              "            </style>\n",
              "            "
            ]
          },
          "metadata": {}
        }
      ]
    },
    {
      "cell_type": "markdown",
      "source": [
        "## Testing"
      ],
      "metadata": {
        "id": "SAq3NL73UWU0"
      }
    },
    {
      "cell_type": "code",
      "source": [
        "import numpy as np\n",
        "import pandas as pd\n",
        "from sklearn.model_selection import train_test_split\n",
        "from sklearn.linear_model import LinearRegression\n",
        "from sklearn.metrics import mean_squared_error, r2_score\n",
        "import xgboost as xgb\n",
        "import lightgbm as lgb\n",
        "import statsmodels.api as sm\n",
        "from scipy.stats import zscore"
      ],
      "metadata": {
        "colab": {
          "base_uri": "https://localhost:8080/",
          "height": 17
        },
        "id": "EUEL7n3Ce0Ha",
        "outputId": "88e47e8a-6f7b-4e93-fa17-3f4647826a90"
      },
      "execution_count": null,
      "outputs": [
        {
          "output_type": "display_data",
          "data": {
            "text/plain": [
              "<IPython.core.display.HTML object>"
            ],
            "text/html": [
              "\n",
              "  <style>\n",
              "    pre {\n",
              "        white-space: pre-wrap;\n",
              "    }\n",
              "  </style>\n",
              "  "
            ]
          },
          "metadata": {}
        },
        {
          "output_type": "display_data",
          "data": {
            "text/plain": [
              "<IPython.core.display.HTML object>"
            ],
            "text/html": [
              "\n",
              "            <style>\n",
              "                .geemap-dark {\n",
              "                    --jp-widgets-color: white;\n",
              "                    --jp-widgets-label-color: white;\n",
              "                    --jp-ui-font-color1: white;\n",
              "                    --jp-layout-color2: #454545;\n",
              "                    background-color: #383838;\n",
              "                }\n",
              "\n",
              "                .geemap-dark .jupyter-button {\n",
              "                    --jp-layout-color3: #383838;\n",
              "                }\n",
              "\n",
              "                .geemap-colab {\n",
              "                    background-color: var(--colab-primary-surface-color, white);\n",
              "                }\n",
              "\n",
              "                .geemap-colab .jupyter-button {\n",
              "                    --jp-layout-color3: var(--colab-primary-surface-color, white);\n",
              "                }\n",
              "            </style>\n",
              "            "
            ]
          },
          "metadata": {}
        }
      ]
    },
    {
      "cell_type": "code",
      "source": [
        "blocks = block_boundaries.filter(ee.Filter.eq('aez_id', 12))\n",
        "\n",
        "sampled_blocks = blocks.randomColumn()\n",
        "sampled_blocks = sampled_blocks.filter('random < 0.03')\n",
        "display(sampled_blocks)"
      ],
      "metadata": {
        "id": "Jye9jIBMeoTf"
      },
      "execution_count": null,
      "outputs": []
    },
    {
      "cell_type": "code",
      "source": [
        "start_date = '2019-07-01'\n",
        "end_date = '2022-07-01'\n",
        "Map = geemap.Map()\n",
        "Map.addLayerControl()\n",
        "Map"
      ],
      "metadata": {
        "id": "EANzQ83Mh9xr"
      },
      "execution_count": null,
      "outputs": []
    },
    {
      "cell_type": "code",
      "source": [
        "data = pd.DataFrame()\n",
        "\n",
        "b = sampled_blocks.size().getInfo()\n",
        "print(b)\n",
        "blocks_list = sampled_blocks.toList(b)\n",
        "for i in range(b):\n",
        "    block = ee.Feature(blocks_list.get(i))\n",
        "    print(block.get('Subdistric').getInfo())\n",
        "    Map.addLayer(block, {}, 'block'+str(i))\n",
        "    print('Generating data for block ....')\n",
        "    block_data = get_data_matrix(block, '2019-07-01', '2022-07-01', 'OldRandomForest')\n",
        "    print('done')\n",
        "    data = pd.concat([data, block_data], ignore_index=True)"
      ],
      "metadata": {
        "id": "PlN5cW32iCH5"
      },
      "execution_count": null,
      "outputs": []
    },
    {
      "cell_type": "code",
      "source": [
        "positive_data = data[data['Num_fires'] > 0]\n",
        "zero_data = data[data['Num_fires'] == 0]\n",
        "zero_data = zero_data.sample(n = len(positive_data)).reset_index(drop=True)\n",
        "balanced_data = pd.concat([positive_data, zero_data], ignore_index=True, sort=False)\n",
        "balanced_data_z = balanced_data.apply(zscore)"
      ],
      "metadata": {
        "colab": {
          "base_uri": "https://localhost:8080/",
          "height": 17
        },
        "id": "pZ9ESa-SjkFD",
        "outputId": "5386a6e4-8d2b-42d7-f14f-00758d1bad48"
      },
      "execution_count": null,
      "outputs": [
        {
          "output_type": "display_data",
          "data": {
            "text/plain": [
              "<IPython.core.display.HTML object>"
            ],
            "text/html": [
              "\n",
              "  <style>\n",
              "    pre {\n",
              "        white-space: pre-wrap;\n",
              "    }\n",
              "  </style>\n",
              "  "
            ]
          },
          "metadata": {}
        },
        {
          "output_type": "display_data",
          "data": {
            "text/plain": [
              "<IPython.core.display.HTML object>"
            ],
            "text/html": [
              "\n",
              "            <style>\n",
              "                .geemap-dark {\n",
              "                    --jp-widgets-color: white;\n",
              "                    --jp-widgets-label-color: white;\n",
              "                    --jp-ui-font-color1: white;\n",
              "                    --jp-layout-color2: #454545;\n",
              "                    background-color: #383838;\n",
              "                }\n",
              "\n",
              "                .geemap-dark .jupyter-button {\n",
              "                    --jp-layout-color3: #383838;\n",
              "                }\n",
              "\n",
              "                .geemap-colab {\n",
              "                    background-color: var(--colab-primary-surface-color, white);\n",
              "                }\n",
              "\n",
              "                .geemap-colab .jupyter-button {\n",
              "                    --jp-layout-color3: var(--colab-primary-surface-color, white);\n",
              "                }\n",
              "            </style>\n",
              "            "
            ]
          },
          "metadata": {}
        }
      ]
    }
  ],
  "metadata": {
    "colab": {
      "toc_visible": true,
      "provenance": [],
      "include_colab_link": true
    },
    "kernelspec": {
      "display_name": "Python 3",
      "name": "python3"
    },
    "language_info": {
      "name": "python"
    },
    "widgets": {
      "application/vnd.jupyter.widget-state+json": {
        "9665123d514047b99425219b4f0e894b": {
          "model_module": "jupyter-leaflet",
          "model_name": "LeafletMapModel",
          "model_module_version": "^0.18",
          "state": {
            "_dom_classes": [],
            "_model_module": "jupyter-leaflet",
            "_model_module_version": "^0.18",
            "_model_name": "LeafletMapModel",
            "_view_count": null,
            "_view_module": "jupyter-leaflet",
            "_view_module_version": "^0.18",
            "_view_name": "LeafletMapView",
            "bottom": 212,
            "bounce_at_zoom_limits": true,
            "box_zoom": true,
            "center": [
              29.30149547914789,
              79.39989042300634
            ],
            "close_popup_on_click": true,
            "controls": [
              "IPY_MODEL_958182063e0a4b95be680c9ebfa15025",
              "IPY_MODEL_ed0c8d99cde1493782074daaed5e8603",
              "IPY_MODEL_d3d7bdc962fe47d094130697f7810ada",
              "IPY_MODEL_92d5a4de882d4d32acd748d14e9bc942",
              "IPY_MODEL_ba0fad496bc746a49af35b8d4193e49d",
              "IPY_MODEL_457ab6e9b4874c03b09619d3b2274597",
              "IPY_MODEL_2a76bf960e8f424cad3d8135f008254a",
              "IPY_MODEL_78f4fa7c14794045b1a4950f74f2eab1",
              "IPY_MODEL_bcfe63372ae142629726cc526c9300b4"
            ],
            "crs": {
              "name": "EPSG3857",
              "custom": false
            },
            "default_style": "IPY_MODEL_4cce954b2dd0483595fe58ee0a0b0bd7",
            "double_click_zoom": true,
            "dragging": true,
            "dragging_style": "IPY_MODEL_7789ae1e3023489f866c63289bd9738f",
            "east": 79.45312500000001,
            "fullscreen": false,
            "inertia": true,
            "inertia_deceleration": 3000,
            "inertia_max_speed": 1500,
            "interpolation": "bilinear",
            "keyboard": true,
            "keyboard_pan_offset": 80,
            "keyboard_zoom_offset": 1,
            "layers": [
              "IPY_MODEL_5b9366a8535947d9aea5b18109a624e0",
              "IPY_MODEL_883591da27e648e3a4457c850e7aa44a",
              "IPY_MODEL_70135d3236fb4565be6389f9407c35f5",
              "IPY_MODEL_d6654f619cfa415ab866ff38ee76be5a",
              "IPY_MODEL_8e448d3e5a394258b5623319ba8657d3"
            ],
            "layout": "IPY_MODEL_2b24bba63966438aa389d4b6aef31921",
            "left": 369,
            "max_zoom": 24,
            "min_zoom": null,
            "modisdate": "2024-04-08",
            "north": 29.53522956294847,
            "options": [
              "bounce_at_zoom_limits",
              "box_zoom",
              "center",
              "close_popup_on_click",
              "double_click_zoom",
              "dragging",
              "fullscreen",
              "inertia",
              "inertia_deceleration",
              "inertia_max_speed",
              "interpolation",
              "keyboard",
              "keyboard_pan_offset",
              "keyboard_zoom_offset",
              "max_zoom",
              "min_zoom",
              "prefer_canvas",
              "scroll_wheel_zoom",
              "tap",
              "tap_tolerance",
              "touch_zoom",
              "world_copy_jump",
              "zoom",
              "zoom_animation_threshold",
              "zoom_delta",
              "zoom_snap"
            ],
            "panes": {},
            "prefer_canvas": false,
            "right": 369,
            "scroll_wheel_zoom": true,
            "south": 29.53522956294847,
            "style": "IPY_MODEL_7789ae1e3023489f866c63289bd9738f",
            "tap": true,
            "tap_tolerance": 15,
            "top": 212,
            "touch_zoom": true,
            "west": 79.45312500000001,
            "window_url": "https://vpnde7lxqf-496ff2e9c6d22116-0-colab.googleusercontent.com/outputframe.html?vrz=colab_20240405-060114_RC00_622131336",
            "world_copy_jump": false,
            "zoom": 1,
            "zoom_animation_threshold": 4,
            "zoom_delta": 1,
            "zoom_snap": 1
          }
        },
        "958182063e0a4b95be680c9ebfa15025": {
          "model_module": "jupyter-leaflet",
          "model_name": "LeafletWidgetControlModel",
          "model_module_version": "^0.18",
          "state": {
            "_model_module": "jupyter-leaflet",
            "_model_module_version": "^0.18",
            "_model_name": "LeafletWidgetControlModel",
            "_view_count": null,
            "_view_module": "jupyter-leaflet",
            "_view_module_version": "^0.18",
            "_view_name": "LeafletWidgetControlView",
            "max_height": null,
            "max_width": null,
            "min_height": null,
            "min_width": null,
            "options": [
              "position",
              "transparent_bg"
            ],
            "position": "topleft",
            "transparent_bg": false,
            "widget": "IPY_MODEL_b47bfe107d1b485eb52a51699f0d864a"
          }
        },
        "ed0c8d99cde1493782074daaed5e8603": {
          "model_module": "jupyter-leaflet",
          "model_name": "LeafletZoomControlModel",
          "model_module_version": "^0.18",
          "state": {
            "_model_module": "jupyter-leaflet",
            "_model_module_version": "^0.18",
            "_model_name": "LeafletZoomControlModel",
            "_view_count": null,
            "_view_module": "jupyter-leaflet",
            "_view_module_version": "^0.18",
            "_view_name": "LeafletZoomControlView",
            "options": [
              "position",
              "zoom_in_text",
              "zoom_in_title",
              "zoom_out_text",
              "zoom_out_title"
            ],
            "position": "topleft",
            "zoom_in_text": "+",
            "zoom_in_title": "Zoom in",
            "zoom_out_text": "-",
            "zoom_out_title": "Zoom out"
          }
        },
        "d3d7bdc962fe47d094130697f7810ada": {
          "model_module": "jupyter-leaflet",
          "model_name": "LeafletFullScreenControlModel",
          "model_module_version": "^0.18",
          "state": {
            "_model_module": "jupyter-leaflet",
            "_model_module_version": "^0.18",
            "_model_name": "LeafletFullScreenControlModel",
            "_view_count": null,
            "_view_module": "jupyter-leaflet",
            "_view_module_version": "^0.18",
            "_view_name": "LeafletFullScreenControlView",
            "options": [
              "position"
            ],
            "position": "topleft"
          }
        },
        "92d5a4de882d4d32acd748d14e9bc942": {
          "model_module": "jupyter-leaflet",
          "model_name": "LeafletDrawControlModel",
          "model_module_version": "^0.18",
          "state": {
            "_model_module": "jupyter-leaflet",
            "_model_module_version": "^0.18",
            "_model_name": "LeafletDrawControlModel",
            "_view_count": null,
            "_view_module": "jupyter-leaflet",
            "_view_module_version": "^0.18",
            "_view_name": "LeafletDrawControlView",
            "circle": {},
            "circlemarker": {},
            "data": [],
            "edit": true,
            "marker": {
              "shapeOptions": {
                "color": "#3388ff"
              }
            },
            "options": [
              "position"
            ],
            "polygon": {
              "shapeOptions": {}
            },
            "polyline": {
              "shapeOptions": {}
            },
            "position": "topleft",
            "rectangle": {
              "shapeOptions": {
                "color": "#3388ff"
              }
            },
            "remove": true
          }
        },
        "ba0fad496bc746a49af35b8d4193e49d": {
          "model_module": "jupyter-leaflet",
          "model_name": "LeafletScaleControlModel",
          "model_module_version": "^0.18",
          "state": {
            "_model_module": "jupyter-leaflet",
            "_model_module_version": "^0.18",
            "_model_name": "LeafletScaleControlModel",
            "_view_count": null,
            "_view_module": "jupyter-leaflet",
            "_view_module_version": "^0.18",
            "_view_name": "LeafletScaleControlView",
            "imperial": true,
            "max_width": 100,
            "metric": true,
            "options": [
              "imperial",
              "max_width",
              "metric",
              "position",
              "update_when_idle"
            ],
            "position": "bottomleft",
            "update_when_idle": false
          }
        },
        "457ab6e9b4874c03b09619d3b2274597": {
          "model_module": "jupyter-leaflet",
          "model_name": "LeafletMeasureControlModel",
          "model_module_version": "^0.18",
          "state": {
            "_custom_units": {},
            "_model_module": "jupyter-leaflet",
            "_model_module_version": "^0.18",
            "_model_name": "LeafletMeasureControlModel",
            "_view_count": null,
            "_view_module": "jupyter-leaflet",
            "_view_module_version": "^0.18",
            "_view_name": "LeafletMeasureControlView",
            "active_color": "orange",
            "capture_z_index": 10000,
            "completed_color": "#C8F2BE",
            "options": [
              "active_color",
              "capture_z_index",
              "completed_color",
              "popup_options",
              "position",
              "primary_area_unit",
              "primary_length_unit",
              "secondary_area_unit",
              "secondary_length_unit"
            ],
            "popup_options": {
              "className": "leaflet-measure-resultpopup",
              "autoPanPadding": [
                10,
                10
              ]
            },
            "position": "bottomleft",
            "primary_area_unit": "acres",
            "primary_length_unit": "kilometers",
            "secondary_area_unit": null,
            "secondary_length_unit": null
          }
        },
        "2a76bf960e8f424cad3d8135f008254a": {
          "model_module": "jupyter-leaflet",
          "model_name": "LeafletWidgetControlModel",
          "model_module_version": "^0.18",
          "state": {
            "_model_module": "jupyter-leaflet",
            "_model_module_version": "^0.18",
            "_model_name": "LeafletWidgetControlModel",
            "_view_count": null,
            "_view_module": "jupyter-leaflet",
            "_view_module_version": "^0.18",
            "_view_name": "LeafletWidgetControlView",
            "max_height": null,
            "max_width": null,
            "min_height": null,
            "min_width": null,
            "options": [
              "position",
              "transparent_bg"
            ],
            "position": "topright",
            "transparent_bg": false,
            "widget": "IPY_MODEL_d88718387b7948159437d1adc2c0e3a4"
          }
        },
        "78f4fa7c14794045b1a4950f74f2eab1": {
          "model_module": "jupyter-leaflet",
          "model_name": "LeafletAttributionControlModel",
          "model_module_version": "^0.18",
          "state": {
            "_model_module": "jupyter-leaflet",
            "_model_module_version": "^0.18",
            "_model_name": "LeafletAttributionControlModel",
            "_view_count": null,
            "_view_module": "jupyter-leaflet",
            "_view_module_version": "^0.18",
            "_view_name": "LeafletAttributionControlView",
            "options": [
              "position",
              "prefix"
            ],
            "position": "bottomright",
            "prefix": "ipyleaflet"
          }
        },
        "bcfe63372ae142629726cc526c9300b4": {
          "model_module": "jupyter-leaflet",
          "model_name": "LeafletLayersControlModel",
          "model_module_version": "^0.18",
          "state": {
            "_model_module": "jupyter-leaflet",
            "_model_module_version": "^0.18",
            "_model_name": "LeafletLayersControlModel",
            "_view_count": null,
            "_view_module": "jupyter-leaflet",
            "_view_module_version": "^0.18",
            "_view_name": "LeafletLayersControlView",
            "collapsed": true,
            "options": [
              "collapsed",
              "position"
            ],
            "position": "topright"
          }
        },
        "4cce954b2dd0483595fe58ee0a0b0bd7": {
          "model_module": "jupyter-leaflet",
          "model_name": "LeafletMapStyleModel",
          "model_module_version": "^0.18",
          "state": {
            "_model_module": "jupyter-leaflet",
            "_model_module_version": "^0.18",
            "_model_name": "LeafletMapStyleModel",
            "_view_count": null,
            "_view_module": "@jupyter-widgets/base",
            "_view_module_version": "1.2.0",
            "_view_name": "StyleView",
            "cursor": "grab"
          }
        },
        "7789ae1e3023489f866c63289bd9738f": {
          "model_module": "jupyter-leaflet",
          "model_name": "LeafletMapStyleModel",
          "model_module_version": "^0.18",
          "state": {
            "_model_module": "jupyter-leaflet",
            "_model_module_version": "^0.18",
            "_model_name": "LeafletMapStyleModel",
            "_view_count": null,
            "_view_module": "@jupyter-widgets/base",
            "_view_module_version": "1.2.0",
            "_view_name": "StyleView",
            "cursor": "move"
          }
        },
        "5b9366a8535947d9aea5b18109a624e0": {
          "model_module": "jupyter-leaflet",
          "model_name": "LeafletTileLayerModel",
          "model_module_version": "^0.18",
          "state": {
            "_model_module": "jupyter-leaflet",
            "_model_module_version": "^0.18",
            "_model_name": "LeafletTileLayerModel",
            "_view_count": null,
            "_view_module": "jupyter-leaflet",
            "_view_module_version": "^0.18",
            "_view_name": "LeafletTileLayerView",
            "attribution": "&copy; <a href=\"https://www.openstreetmap.org/copyright\">OpenStreetMap</a> contributors",
            "base": true,
            "bottom": true,
            "bounds": null,
            "detect_retina": false,
            "loading": false,
            "max_native_zoom": null,
            "max_zoom": 19,
            "min_native_zoom": null,
            "min_zoom": 1,
            "name": "OpenStreetMap.Mapnik",
            "no_wrap": false,
            "opacity": 1,
            "options": [
              "attribution",
              "bounds",
              "detect_retina",
              "max_native_zoom",
              "max_zoom",
              "min_native_zoom",
              "min_zoom",
              "no_wrap",
              "tile_size",
              "tms",
              "zoom_offset"
            ],
            "pane": "",
            "popup": null,
            "popup_max_height": null,
            "popup_max_width": 300,
            "popup_min_width": 50,
            "show_loading": false,
            "subitems": [],
            "tile_size": 256,
            "tms": false,
            "url": "https://tile.openstreetmap.org/{z}/{x}/{y}.png",
            "visible": true,
            "zoom_offset": 0
          }
        },
        "883591da27e648e3a4457c850e7aa44a": {
          "model_module": "jupyter-leaflet",
          "model_name": "LeafletTileLayerModel",
          "model_module_version": "^0.18",
          "state": {
            "_model_module": "jupyter-leaflet",
            "_model_module_version": "^0.18",
            "_model_name": "LeafletTileLayerModel",
            "_view_count": null,
            "_view_module": "jupyter-leaflet",
            "_view_module_version": "^0.18",
            "_view_name": "LeafletTileLayerView",
            "attribution": "Google Earth Engine",
            "base": false,
            "bottom": true,
            "bounds": null,
            "detect_retina": false,
            "loading": false,
            "max_native_zoom": null,
            "max_zoom": 24,
            "min_native_zoom": null,
            "min_zoom": 0,
            "name": "district",
            "no_wrap": false,
            "opacity": 1,
            "options": [
              "attribution",
              "bounds",
              "detect_retina",
              "max_native_zoom",
              "max_zoom",
              "min_native_zoom",
              "min_zoom",
              "no_wrap",
              "tile_size",
              "tms",
              "zoom_offset"
            ],
            "pane": "",
            "popup": null,
            "popup_max_height": null,
            "popup_max_width": 300,
            "popup_min_width": 50,
            "show_loading": false,
            "subitems": [],
            "tile_size": 256,
            "tms": false,
            "url": "https://earthengine.googleapis.com/v1/projects/ee-anaad/maps/cbb64bc632bffe102e3549f72bd43429-f94770e2f0b871bbc53e1c559c561712/tiles/{z}/{x}/{y}",
            "visible": true,
            "zoom_offset": 0
          }
        },
        "70135d3236fb4565be6389f9407c35f5": {
          "model_module": "jupyter-leaflet",
          "model_name": "LeafletTileLayerModel",
          "model_module_version": "^0.18",
          "state": {
            "_model_module": "jupyter-leaflet",
            "_model_module_version": "^0.18",
            "_model_name": "LeafletTileLayerModel",
            "_view_count": null,
            "_view_module": "jupyter-leaflet",
            "_view_module_version": "^0.18",
            "_view_name": "LeafletTileLayerView",
            "attribution": "Google Earth Engine",
            "base": false,
            "bottom": true,
            "bounds": null,
            "detect_retina": false,
            "loading": false,
            "max_native_zoom": null,
            "max_zoom": 24,
            "min_native_zoom": null,
            "min_zoom": 0,
            "name": "fire_mask",
            "no_wrap": false,
            "opacity": 1,
            "options": [
              "attribution",
              "bounds",
              "detect_retina",
              "max_native_zoom",
              "max_zoom",
              "min_native_zoom",
              "min_zoom",
              "no_wrap",
              "tile_size",
              "tms",
              "zoom_offset"
            ],
            "pane": "",
            "popup": null,
            "popup_max_height": null,
            "popup_max_width": 300,
            "popup_min_width": 50,
            "show_loading": false,
            "subitems": [],
            "tile_size": 256,
            "tms": false,
            "url": "https://earthengine.googleapis.com/v1/projects/ee-anaad/maps/ba58ac9971818d590fc2f8c81e0b4cfc-9c7d32205356e80a33e8f5dcf87608ea/tiles/{z}/{x}/{y}",
            "visible": true,
            "zoom_offset": 0
          }
        },
        "d6654f619cfa415ab866ff38ee76be5a": {
          "model_module": "jupyter-leaflet",
          "model_name": "LeafletTileLayerModel",
          "model_module_version": "^0.18",
          "state": {
            "_model_module": "jupyter-leaflet",
            "_model_module_version": "^0.18",
            "_model_name": "LeafletTileLayerModel",
            "_view_count": null,
            "_view_module": "jupyter-leaflet",
            "_view_module_version": "^0.18",
            "_view_name": "LeafletTileLayerView",
            "attribution": "Google Earth Engine",
            "base": false,
            "bottom": true,
            "bounds": null,
            "detect_retina": false,
            "loading": false,
            "max_native_zoom": null,
            "max_zoom": 24,
            "min_native_zoom": null,
            "min_zoom": 0,
            "name": "fire",
            "no_wrap": false,
            "opacity": 1,
            "options": [
              "attribution",
              "bounds",
              "detect_retina",
              "max_native_zoom",
              "max_zoom",
              "min_native_zoom",
              "min_zoom",
              "no_wrap",
              "tile_size",
              "tms",
              "zoom_offset"
            ],
            "pane": "",
            "popup": null,
            "popup_max_height": null,
            "popup_max_width": 300,
            "popup_min_width": 50,
            "show_loading": false,
            "subitems": [],
            "tile_size": 256,
            "tms": false,
            "url": "https://earthengine.googleapis.com/v1/projects/ee-anaad/maps/f3852f43a99dcd12f02c740e4975399d-c0b66e70dfc2f0b38a36c8157b0548a4/tiles/{z}/{x}/{y}",
            "visible": true,
            "zoom_offset": 0
          }
        },
        "8e448d3e5a394258b5623319ba8657d3": {
          "model_module": "jupyter-leaflet",
          "model_name": "LeafletTileLayerModel",
          "model_module_version": "^0.18",
          "state": {
            "_model_module": "jupyter-leaflet",
            "_model_module_version": "^0.18",
            "_model_name": "LeafletTileLayerModel",
            "_view_count": null,
            "_view_module": "jupyter-leaflet",
            "_view_module_version": "^0.18",
            "_view_name": "LeafletTileLayerView",
            "attribution": "Google Earth Engine",
            "base": false,
            "bottom": true,
            "bounds": null,
            "detect_retina": false,
            "loading": false,
            "max_native_zoom": null,
            "max_zoom": 24,
            "min_native_zoom": null,
            "min_zoom": 0,
            "name": "fire_display",
            "no_wrap": false,
            "opacity": 1,
            "options": [
              "attribution",
              "bounds",
              "detect_retina",
              "max_native_zoom",
              "max_zoom",
              "min_native_zoom",
              "min_zoom",
              "no_wrap",
              "tile_size",
              "tms",
              "zoom_offset"
            ],
            "pane": "",
            "popup": null,
            "popup_max_height": null,
            "popup_max_width": 300,
            "popup_min_width": 50,
            "show_loading": false,
            "subitems": [],
            "tile_size": 256,
            "tms": false,
            "url": "https://earthengine.googleapis.com/v1/projects/ee-anaad/maps/5642a79aa3f7c38c1ce4980ef94f5d66-a88da0f3ca4d51291141ab9cae6f2b98/tiles/{z}/{x}/{y}",
            "visible": true,
            "zoom_offset": 0
          }
        },
        "2b24bba63966438aa389d4b6aef31921": {
          "model_module": "@jupyter-widgets/base",
          "model_name": "LayoutModel",
          "model_module_version": "1.2.0",
          "state": {
            "_model_module": "@jupyter-widgets/base",
            "_model_module_version": "1.2.0",
            "_model_name": "LayoutModel",
            "_view_count": null,
            "_view_module": "@jupyter-widgets/base",
            "_view_module_version": "1.2.0",
            "_view_name": "LayoutView",
            "align_content": null,
            "align_items": null,
            "align_self": null,
            "border": null,
            "bottom": null,
            "display": null,
            "flex": null,
            "flex_flow": null,
            "grid_area": null,
            "grid_auto_columns": null,
            "grid_auto_flow": null,
            "grid_auto_rows": null,
            "grid_column": null,
            "grid_gap": null,
            "grid_row": null,
            "grid_template_areas": null,
            "grid_template_columns": null,
            "grid_template_rows": null,
            "height": "600px",
            "justify_content": null,
            "justify_items": null,
            "left": null,
            "margin": null,
            "max_height": null,
            "max_width": null,
            "min_height": null,
            "min_width": null,
            "object_fit": null,
            "object_position": null,
            "order": null,
            "overflow": null,
            "overflow_x": null,
            "overflow_y": null,
            "padding": null,
            "right": null,
            "top": null,
            "visibility": null,
            "width": null
          }
        },
        "3e435da5d3794212a50d039a5e34044f": {
          "model_module": "jupyter-leaflet",
          "model_name": "LeafletMapStyleModel",
          "model_module_version": "^0.18",
          "state": {
            "_model_module": "jupyter-leaflet",
            "_model_module_version": "^0.18",
            "_model_name": "LeafletMapStyleModel",
            "_view_count": null,
            "_view_module": "@jupyter-widgets/base",
            "_view_module_version": "1.2.0",
            "_view_name": "StyleView",
            "cursor": "grab"
          }
        },
        "b47bfe107d1b485eb52a51699f0d864a": {
          "model_module": "@jupyter-widgets/controls",
          "model_name": "HBoxModel",
          "model_module_version": "1.5.0",
          "state": {
            "_dom_classes": [
              "geemap-colab"
            ],
            "_model_module": "@jupyter-widgets/controls",
            "_model_module_version": "1.5.0",
            "_model_name": "HBoxModel",
            "_view_count": null,
            "_view_module": "@jupyter-widgets/controls",
            "_view_module_version": "1.5.0",
            "_view_name": "HBoxView",
            "box_style": "",
            "children": [
              "IPY_MODEL_04114b04f22c485fa20de7b14b512e74"
            ],
            "layout": "IPY_MODEL_68ad13dd97f74a0a84085f92d326b939"
          }
        },
        "d88718387b7948159437d1adc2c0e3a4": {
          "model_module": "@jupyter-widgets/controls",
          "model_name": "VBoxModel",
          "model_module_version": "1.5.0",
          "state": {
            "_dom_classes": [
              "geemap-colab"
            ],
            "_model_module": "@jupyter-widgets/controls",
            "_model_module_version": "1.5.0",
            "_model_name": "VBoxModel",
            "_view_count": null,
            "_view_module": "@jupyter-widgets/controls",
            "_view_module_version": "1.5.0",
            "_view_name": "VBoxView",
            "box_style": "",
            "children": [
              "IPY_MODEL_338c58a34b214fe0a75116999615b22d"
            ],
            "layout": "IPY_MODEL_484d9e6ba5194ed587e6d42a3ebe173c"
          }
        },
        "04114b04f22c485fa20de7b14b512e74": {
          "model_module": "@jupyter-widgets/controls",
          "model_name": "ToggleButtonModel",
          "model_module_version": "1.5.0",
          "state": {
            "_dom_classes": [],
            "_model_module": "@jupyter-widgets/controls",
            "_model_module_version": "1.5.0",
            "_model_name": "ToggleButtonModel",
            "_view_count": null,
            "_view_module": "@jupyter-widgets/controls",
            "_view_module_version": "1.5.0",
            "_view_name": "ToggleButtonView",
            "button_style": "",
            "description": "",
            "description_tooltip": null,
            "disabled": false,
            "icon": "globe",
            "layout": "IPY_MODEL_a8afbaf62e0f405aa1180d70ce4c9d12",
            "style": "IPY_MODEL_b71995bd50e84f0c926924f64e625753",
            "tooltip": "Search location/data",
            "value": false
          }
        },
        "68ad13dd97f74a0a84085f92d326b939": {
          "model_module": "@jupyter-widgets/base",
          "model_name": "LayoutModel",
          "model_module_version": "1.2.0",
          "state": {
            "_model_module": "@jupyter-widgets/base",
            "_model_module_version": "1.2.0",
            "_model_name": "LayoutModel",
            "_view_count": null,
            "_view_module": "@jupyter-widgets/base",
            "_view_module_version": "1.2.0",
            "_view_name": "LayoutView",
            "align_content": null,
            "align_items": null,
            "align_self": null,
            "border": null,
            "bottom": null,
            "display": null,
            "flex": null,
            "flex_flow": null,
            "grid_area": null,
            "grid_auto_columns": null,
            "grid_auto_flow": null,
            "grid_auto_rows": null,
            "grid_column": null,
            "grid_gap": null,
            "grid_row": null,
            "grid_template_areas": null,
            "grid_template_columns": null,
            "grid_template_rows": null,
            "height": null,
            "justify_content": null,
            "justify_items": null,
            "left": null,
            "margin": null,
            "max_height": null,
            "max_width": null,
            "min_height": null,
            "min_width": null,
            "object_fit": null,
            "object_position": null,
            "order": null,
            "overflow": null,
            "overflow_x": null,
            "overflow_y": null,
            "padding": null,
            "right": null,
            "top": null,
            "visibility": null,
            "width": null
          }
        },
        "338c58a34b214fe0a75116999615b22d": {
          "model_module": "@jupyter-widgets/controls",
          "model_name": "ToggleButtonModel",
          "model_module_version": "1.5.0",
          "state": {
            "_dom_classes": [],
            "_model_module": "@jupyter-widgets/controls",
            "_model_module_version": "1.5.0",
            "_model_name": "ToggleButtonModel",
            "_view_count": null,
            "_view_module": "@jupyter-widgets/controls",
            "_view_module_version": "1.5.0",
            "_view_name": "ToggleButtonView",
            "button_style": "",
            "description": "",
            "description_tooltip": null,
            "disabled": false,
            "icon": "wrench",
            "layout": "IPY_MODEL_2cef92ee739b4ad6b2c9e11af61dc29c",
            "style": "IPY_MODEL_af00757247e546cb8b3a39762b23317b",
            "tooltip": "Toolbar",
            "value": false
          }
        },
        "484d9e6ba5194ed587e6d42a3ebe173c": {
          "model_module": "@jupyter-widgets/base",
          "model_name": "LayoutModel",
          "model_module_version": "1.2.0",
          "state": {
            "_model_module": "@jupyter-widgets/base",
            "_model_module_version": "1.2.0",
            "_model_name": "LayoutModel",
            "_view_count": null,
            "_view_module": "@jupyter-widgets/base",
            "_view_module_version": "1.2.0",
            "_view_name": "LayoutView",
            "align_content": null,
            "align_items": null,
            "align_self": null,
            "border": null,
            "bottom": null,
            "display": null,
            "flex": null,
            "flex_flow": null,
            "grid_area": null,
            "grid_auto_columns": null,
            "grid_auto_flow": null,
            "grid_auto_rows": null,
            "grid_column": null,
            "grid_gap": null,
            "grid_row": null,
            "grid_template_areas": null,
            "grid_template_columns": null,
            "grid_template_rows": null,
            "height": null,
            "justify_content": null,
            "justify_items": null,
            "left": null,
            "margin": null,
            "max_height": null,
            "max_width": null,
            "min_height": null,
            "min_width": null,
            "object_fit": null,
            "object_position": null,
            "order": null,
            "overflow": null,
            "overflow_x": null,
            "overflow_y": null,
            "padding": null,
            "right": null,
            "top": null,
            "visibility": null,
            "width": null
          }
        },
        "a8afbaf62e0f405aa1180d70ce4c9d12": {
          "model_module": "@jupyter-widgets/base",
          "model_name": "LayoutModel",
          "model_module_version": "1.2.0",
          "state": {
            "_model_module": "@jupyter-widgets/base",
            "_model_module_version": "1.2.0",
            "_model_name": "LayoutModel",
            "_view_count": null,
            "_view_module": "@jupyter-widgets/base",
            "_view_module_version": "1.2.0",
            "_view_name": "LayoutView",
            "align_content": null,
            "align_items": null,
            "align_self": null,
            "border": null,
            "bottom": null,
            "display": null,
            "flex": null,
            "flex_flow": null,
            "grid_area": null,
            "grid_auto_columns": null,
            "grid_auto_flow": null,
            "grid_auto_rows": null,
            "grid_column": null,
            "grid_gap": null,
            "grid_row": null,
            "grid_template_areas": null,
            "grid_template_columns": null,
            "grid_template_rows": null,
            "height": "28px",
            "justify_content": null,
            "justify_items": null,
            "left": null,
            "margin": null,
            "max_height": null,
            "max_width": null,
            "min_height": null,
            "min_width": null,
            "object_fit": null,
            "object_position": null,
            "order": null,
            "overflow": null,
            "overflow_x": null,
            "overflow_y": null,
            "padding": "0px 0px 0px 4px",
            "right": null,
            "top": null,
            "visibility": null,
            "width": "28px"
          }
        },
        "b71995bd50e84f0c926924f64e625753": {
          "model_module": "@jupyter-widgets/controls",
          "model_name": "DescriptionStyleModel",
          "model_module_version": "1.5.0",
          "state": {
            "_model_module": "@jupyter-widgets/controls",
            "_model_module_version": "1.5.0",
            "_model_name": "DescriptionStyleModel",
            "_view_count": null,
            "_view_module": "@jupyter-widgets/base",
            "_view_module_version": "1.2.0",
            "_view_name": "StyleView",
            "description_width": ""
          }
        },
        "2cef92ee739b4ad6b2c9e11af61dc29c": {
          "model_module": "@jupyter-widgets/base",
          "model_name": "LayoutModel",
          "model_module_version": "1.2.0",
          "state": {
            "_model_module": "@jupyter-widgets/base",
            "_model_module_version": "1.2.0",
            "_model_name": "LayoutModel",
            "_view_count": null,
            "_view_module": "@jupyter-widgets/base",
            "_view_module_version": "1.2.0",
            "_view_name": "LayoutView",
            "align_content": null,
            "align_items": null,
            "align_self": null,
            "border": null,
            "bottom": null,
            "display": null,
            "flex": null,
            "flex_flow": null,
            "grid_area": null,
            "grid_auto_columns": null,
            "grid_auto_flow": null,
            "grid_auto_rows": null,
            "grid_column": null,
            "grid_gap": null,
            "grid_row": null,
            "grid_template_areas": null,
            "grid_template_columns": null,
            "grid_template_rows": null,
            "height": "28px",
            "justify_content": null,
            "justify_items": null,
            "left": null,
            "margin": null,
            "max_height": null,
            "max_width": null,
            "min_height": null,
            "min_width": null,
            "object_fit": null,
            "object_position": null,
            "order": null,
            "overflow": null,
            "overflow_x": null,
            "overflow_y": null,
            "padding": "0px 0px 0px 4px",
            "right": null,
            "top": null,
            "visibility": null,
            "width": "28px"
          }
        },
        "af00757247e546cb8b3a39762b23317b": {
          "model_module": "@jupyter-widgets/controls",
          "model_name": "DescriptionStyleModel",
          "model_module_version": "1.5.0",
          "state": {
            "_model_module": "@jupyter-widgets/controls",
            "_model_module_version": "1.5.0",
            "_model_name": "DescriptionStyleModel",
            "_view_count": null,
            "_view_module": "@jupyter-widgets/base",
            "_view_module_version": "1.2.0",
            "_view_name": "StyleView",
            "description_width": ""
          }
        }
      }
    }
  },
  "nbformat": 4,
  "nbformat_minor": 0
}