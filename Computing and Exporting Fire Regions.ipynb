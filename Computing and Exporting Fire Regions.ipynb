{
  "nbformat": 4,
  "nbformat_minor": 0,
  "metadata": {
    "colab": {
      "provenance": [],
      "toc_visible": true,
      "authorship_tag": "ABX9TyO2IFVi0uNhOUjb0pQaO95H",
      "include_colab_link": true
    },
    "kernelspec": {
      "name": "python3",
      "display_name": "Python 3"
    },
    "language_info": {
      "name": "python"
    }
  },
  "cells": [
    {
      "cell_type": "markdown",
      "metadata": {
        "id": "view-in-github",
        "colab_type": "text"
      },
      "source": [
        "<a href=\"https://colab.research.google.com/github/AnaadKaur/Forest-Fire-Detection/blob/main/Computing%20and%20Exporting%20Fire%20Regions.ipynb\" target=\"_parent\"><img src=\"https://colab.research.google.com/assets/colab-badge.svg\" alt=\"Open In Colab\"/></a>"
      ]
    },
    {
      "cell_type": "markdown",
      "metadata": {
        "id": "snJSe0lwmGrE"
      },
      "source": [
        "# Environment setup"
      ]
    },
    {
      "cell_type": "markdown",
      "metadata": {
        "id": "NccqfRtpZuwR"
      },
      "source": [
        "## Run the two cells below for output wrap-around"
      ]
    },
    {
      "cell_type": "code",
      "execution_count": 1,
      "metadata": {
        "id": "hjp4eP4gTD3Q"
      },
      "outputs": [],
      "source": [
        "from IPython.display import HTML, display\n",
        "\n",
        "def set_css():\n",
        "  display(HTML('''\n",
        "  <style>\n",
        "    pre {\n",
        "        white-space: pre-wrap;\n",
        "    }\n",
        "  </style>\n",
        "  '''))\n",
        "get_ipython().events.register('pre_run_cell', set_css)"
      ]
    },
    {
      "cell_type": "code",
      "execution_count": null,
      "metadata": {
        "id": "rA6a0kJ_vVlx"
      },
      "outputs": [],
      "source": [
        "from notebook.services.config import ConfigManager\n",
        "c = ConfigManager()\n",
        "c.update('notebook', {\"CodeCell\": {\"cm_config\": {\"lineWrapping\": True}}})"
      ]
    },
    {
      "cell_type": "markdown",
      "metadata": {
        "id": "Y-irbNKunEq_"
      },
      "source": [
        "## Importing libraries"
      ]
    },
    {
      "cell_type": "code",
      "execution_count": 3,
      "metadata": {
        "id": "_4-yDqgnzPJv",
        "colab": {
          "base_uri": "https://localhost:8080/",
          "height": 17
        },
        "outputId": "f30f1fa9-dec1-4616-f947-b981e2df388d"
      },
      "outputs": [
        {
          "output_type": "display_data",
          "data": {
            "text/plain": [
              "<IPython.core.display.HTML object>"
            ],
            "text/html": [
              "\n",
              "  <style>\n",
              "    pre {\n",
              "        white-space: pre-wrap;\n",
              "    }\n",
              "  </style>\n",
              "  "
            ]
          },
          "metadata": {}
        }
      ],
      "source": [
        "import math\n",
        "import altair as alt\n",
        "from datetime import datetime, timedelta\n",
        "from dateutil.relativedelta import relativedelta\n",
        "from pprint import pprint\n",
        "import geemap\n",
        "import matplotlib.pyplot as plt"
      ]
    },
    {
      "cell_type": "markdown",
      "metadata": {
        "id": "8x1LzkIKnBiV"
      },
      "source": [
        "## Authentication and Initialization"
      ]
    },
    {
      "cell_type": "code",
      "execution_count": 4,
      "metadata": {
        "colab": {
          "base_uri": "https://localhost:8080/",
          "height": 17
        },
        "id": "QeNqqWarwa19",
        "outputId": "e744f4b4-9924-4234-fca0-330b2a27d0d3"
      },
      "outputs": [
        {
          "output_type": "display_data",
          "data": {
            "text/plain": [
              "<IPython.core.display.HTML object>"
            ],
            "text/html": [
              "\n",
              "  <style>\n",
              "    pre {\n",
              "        white-space: pre-wrap;\n",
              "    }\n",
              "  </style>\n",
              "  "
            ]
          },
          "metadata": {}
        },
        {
          "output_type": "display_data",
          "data": {
            "text/plain": [
              "<IPython.core.display.HTML object>"
            ],
            "text/html": [
              "\n",
              "            <style>\n",
              "                .geemap-dark {\n",
              "                    --jp-widgets-color: white;\n",
              "                    --jp-widgets-label-color: white;\n",
              "                    --jp-ui-font-color1: white;\n",
              "                    --jp-layout-color2: #454545;\n",
              "                    background-color: #383838;\n",
              "                }\n",
              "\n",
              "                .geemap-dark .jupyter-button {\n",
              "                    --jp-layout-color3: #383838;\n",
              "                }\n",
              "\n",
              "                .geemap-colab {\n",
              "                    background-color: var(--colab-primary-surface-color, white);\n",
              "                }\n",
              "\n",
              "                .geemap-colab .jupyter-button {\n",
              "                    --jp-layout-color3: var(--colab-primary-surface-color, white);\n",
              "                }\n",
              "            </style>\n",
              "            "
            ]
          },
          "metadata": {}
        }
      ],
      "source": [
        "import ee\n",
        "ee.Authenticate()"
      ]
    },
    {
      "cell_type": "code",
      "execution_count": 5,
      "metadata": {
        "id": "aPPwMuxiJbvy",
        "colab": {
          "base_uri": "https://localhost:8080/",
          "height": 17
        },
        "outputId": "85bb79d2-b08e-4b70-fe74-c85ab4be1ff9"
      },
      "outputs": [
        {
          "output_type": "display_data",
          "data": {
            "text/plain": [
              "<IPython.core.display.HTML object>"
            ],
            "text/html": [
              "\n",
              "  <style>\n",
              "    pre {\n",
              "        white-space: pre-wrap;\n",
              "    }\n",
              "  </style>\n",
              "  "
            ]
          },
          "metadata": {}
        },
        {
          "output_type": "display_data",
          "data": {
            "text/plain": [
              "<IPython.core.display.HTML object>"
            ],
            "text/html": [
              "\n",
              "            <style>\n",
              "                .geemap-dark {\n",
              "                    --jp-widgets-color: white;\n",
              "                    --jp-widgets-label-color: white;\n",
              "                    --jp-ui-font-color1: white;\n",
              "                    --jp-layout-color2: #454545;\n",
              "                    background-color: #383838;\n",
              "                }\n",
              "\n",
              "                .geemap-dark .jupyter-button {\n",
              "                    --jp-layout-color3: #383838;\n",
              "                }\n",
              "\n",
              "                .geemap-colab {\n",
              "                    background-color: var(--colab-primary-surface-color, white);\n",
              "                }\n",
              "\n",
              "                .geemap-colab .jupyter-button {\n",
              "                    --jp-layout-color3: var(--colab-primary-surface-color, white);\n",
              "                }\n",
              "            </style>\n",
              "            "
            ]
          },
          "metadata": {}
        }
      ],
      "source": [
        "ee.Initialize(project='ee-anaad')"
      ]
    },
    {
      "cell_type": "markdown",
      "metadata": {
        "id": "GfD59O66nmod"
      },
      "source": [
        "## Asset handling"
      ]
    },
    {
      "cell_type": "code",
      "execution_count": 6,
      "metadata": {
        "id": "IhTbAMmEn67a",
        "colab": {
          "base_uri": "https://localhost:8080/",
          "height": 17
        },
        "outputId": "8b244560-4ee1-4de4-babb-09f0efe51576"
      },
      "outputs": [
        {
          "output_type": "display_data",
          "data": {
            "text/plain": [
              "<IPython.core.display.HTML object>"
            ],
            "text/html": [
              "\n",
              "  <style>\n",
              "    pre {\n",
              "        white-space: pre-wrap;\n",
              "    }\n",
              "  </style>\n",
              "  "
            ]
          },
          "metadata": {}
        },
        {
          "output_type": "display_data",
          "data": {
            "text/plain": [
              "<IPython.core.display.HTML object>"
            ],
            "text/html": [
              "\n",
              "            <style>\n",
              "                .geemap-dark {\n",
              "                    --jp-widgets-color: white;\n",
              "                    --jp-widgets-label-color: white;\n",
              "                    --jp-ui-font-color1: white;\n",
              "                    --jp-layout-color2: #454545;\n",
              "                    background-color: #383838;\n",
              "                }\n",
              "\n",
              "                .geemap-dark .jupyter-button {\n",
              "                    --jp-layout-color3: #383838;\n",
              "                }\n",
              "\n",
              "                .geemap-colab {\n",
              "                    background-color: var(--colab-primary-surface-color, white);\n",
              "                }\n",
              "\n",
              "                .geemap-colab .jupyter-button {\n",
              "                    --jp-layout-color3: var(--colab-primary-surface-color, white);\n",
              "                }\n",
              "            </style>\n",
              "            "
            ]
          },
          "metadata": {}
        }
      ],
      "source": [
        "#===============================================================================\n",
        "# Move all assets from src_folder to dest_folder\n",
        "#===============================================================================\n",
        "\n",
        "def move_assets(src_folder, dest_folder):\n",
        "    assets = ee.data.listAssets({'parent': src_folder})\n",
        "    for asset in assets['assets']:\n",
        "        reg = asset['id'].split('/')[-1]\n",
        "        new_asset = dest_folder + '/' + asset['id'].split('/')[-1]\n",
        "        ee.data.copyAsset(asset['id'], new_asset, True)\n",
        "    # uncomment if you want to delete source asset\n",
        "        # ee.data.deleteAsset(asset['id'])\n",
        "\n",
        "\n",
        "#===============================================================================\n",
        "# Delete all assets from src_folder\n",
        "#===============================================================================\n",
        "\n",
        "def delete_assets(src_folder):\n",
        "    assets = ee.data.listAssets({'parent': src_folder})\n",
        "    for asset in assets['assets']:\n",
        "        ee.data.deleteAsset(asset['id'])"
      ]
    },
    {
      "cell_type": "code",
      "execution_count": 7,
      "metadata": {
        "id": "RzaWDB6VBaLY",
        "colab": {
          "base_uri": "https://localhost:8080/",
          "height": 17
        },
        "outputId": "a2bfc16d-784c-4cac-c494-d9a3f8862e8b"
      },
      "outputs": [
        {
          "output_type": "display_data",
          "data": {
            "text/plain": [
              "<IPython.core.display.HTML object>"
            ],
            "text/html": [
              "\n",
              "  <style>\n",
              "    pre {\n",
              "        white-space: pre-wrap;\n",
              "    }\n",
              "  </style>\n",
              "  "
            ]
          },
          "metadata": {}
        },
        {
          "output_type": "display_data",
          "data": {
            "text/plain": [
              "<IPython.core.display.HTML object>"
            ],
            "text/html": [
              "\n",
              "            <style>\n",
              "                .geemap-dark {\n",
              "                    --jp-widgets-color: white;\n",
              "                    --jp-widgets-label-color: white;\n",
              "                    --jp-ui-font-color1: white;\n",
              "                    --jp-layout-color2: #454545;\n",
              "                    background-color: #383838;\n",
              "                }\n",
              "\n",
              "                .geemap-dark .jupyter-button {\n",
              "                    --jp-layout-color3: #383838;\n",
              "                }\n",
              "\n",
              "                .geemap-colab {\n",
              "                    background-color: var(--colab-primary-surface-color, white);\n",
              "                }\n",
              "\n",
              "                .geemap-colab .jupyter-button {\n",
              "                    --jp-layout-color3: var(--colab-primary-surface-color, white);\n",
              "                }\n",
              "            </style>\n",
              "            "
            ]
          },
          "metadata": {}
        }
      ],
      "source": [
        "#===============================================================================\n",
        "# Export a collection to drive or as asset\n",
        "#===============================================================================\n",
        "\n",
        "def export_to_drive(collection, output_filename):\n",
        "    task = ee.batch.Export.table.toDrive(\n",
        "      collection = collection,\n",
        "      description = output_filename,\n",
        "      fileFormat = 'csv',\n",
        "    #   selectors = ['ID', 'date', 'area', 'geometry'],\n",
        "      folder='anaad',\n",
        "    )\n",
        "    task.start()\n",
        "\n",
        "def export_to_asset(collection, output_assetid, output_filename):\n",
        "    export_task = ee.batch.Export.table.toAsset(\n",
        "        collection = collection,\n",
        "        description = output_filename,\n",
        "        assetId = output_assetid,\n",
        "    )\n",
        "    export_task.start()"
      ]
    },
    {
      "cell_type": "markdown",
      "metadata": {
        "id": "LX5CyleF98ss"
      },
      "source": [
        "# Load district, block and microwatershed boundaries"
      ]
    },
    {
      "cell_type": "code",
      "source": [
        "district_boundaries = ee.FeatureCollection('projects/ee-anaad/assets/India_district_boundaries')\n",
        "aez_boundaries = ee.FeatureCollection('projects/ee-anaad/assets/India_AEZ_boundaries')\n",
        "block_boundaries = ee.FeatureCollection('projects/ee-anaad/assets/AEZ_mapped_block_boundaries')"
      ],
      "metadata": {
        "colab": {
          "base_uri": "https://localhost:8080/",
          "height": 17
        },
        "id": "uCrHNuDL95V0",
        "outputId": "83557e9a-5341-44e0-92cb-ad8928f127fb"
      },
      "execution_count": 8,
      "outputs": [
        {
          "output_type": "display_data",
          "data": {
            "text/plain": [
              "<IPython.core.display.HTML object>"
            ],
            "text/html": [
              "\n",
              "  <style>\n",
              "    pre {\n",
              "        white-space: pre-wrap;\n",
              "    }\n",
              "  </style>\n",
              "  "
            ]
          },
          "metadata": {}
        },
        {
          "output_type": "display_data",
          "data": {
            "text/plain": [
              "<IPython.core.display.HTML object>"
            ],
            "text/html": [
              "\n",
              "            <style>\n",
              "                .geemap-dark {\n",
              "                    --jp-widgets-color: white;\n",
              "                    --jp-widgets-label-color: white;\n",
              "                    --jp-ui-font-color1: white;\n",
              "                    --jp-layout-color2: #454545;\n",
              "                    background-color: #383838;\n",
              "                }\n",
              "\n",
              "                .geemap-dark .jupyter-button {\n",
              "                    --jp-layout-color3: #383838;\n",
              "                }\n",
              "\n",
              "                .geemap-colab {\n",
              "                    background-color: var(--colab-primary-surface-color, white);\n",
              "                }\n",
              "\n",
              "                .geemap-colab .jupyter-button {\n",
              "                    --jp-layout-color3: var(--colab-primary-surface-color, white);\n",
              "                }\n",
              "            </style>\n",
              "            "
            ]
          },
          "metadata": {}
        }
      ]
    },
    {
      "cell_type": "code",
      "execution_count": 9,
      "metadata": {
        "id": "kPklmN9F7RD9",
        "colab": {
          "base_uri": "https://localhost:8080/",
          "height": 17
        },
        "outputId": "d17038a9-76a3-4db0-8f31-57cf7d02798a"
      },
      "outputs": [
        {
          "output_type": "display_data",
          "data": {
            "text/plain": [
              "<IPython.core.display.HTML object>"
            ],
            "text/html": [
              "\n",
              "  <style>\n",
              "    pre {\n",
              "        white-space: pre-wrap;\n",
              "    }\n",
              "  </style>\n",
              "  "
            ]
          },
          "metadata": {}
        },
        {
          "output_type": "display_data",
          "data": {
            "text/plain": [
              "<IPython.core.display.HTML object>"
            ],
            "text/html": [
              "\n",
              "            <style>\n",
              "                .geemap-dark {\n",
              "                    --jp-widgets-color: white;\n",
              "                    --jp-widgets-label-color: white;\n",
              "                    --jp-ui-font-color1: white;\n",
              "                    --jp-layout-color2: #454545;\n",
              "                    background-color: #383838;\n",
              "                }\n",
              "\n",
              "                .geemap-dark .jupyter-button {\n",
              "                    --jp-layout-color3: #383838;\n",
              "                }\n",
              "\n",
              "                .geemap-colab {\n",
              "                    background-color: var(--colab-primary-surface-color, white);\n",
              "                }\n",
              "\n",
              "                .geemap-colab .jupyter-button {\n",
              "                    --jp-layout-color3: var(--colab-primary-surface-color, white);\n",
              "                }\n",
              "            </style>\n",
              "            "
            ]
          },
          "metadata": {}
        }
      ],
      "source": [
        "blocks_odisha = ee.FeatureCollection('projects/ee-anaad/assets/District_blocks/Odisha')\n",
        "blocks_jharkhand = ee.FeatureCollection('projects/ee-anaad/assets/District_blocks/Jharkhand')\n",
        "blocks_rajasthan = ee.FeatureCollection('projects/ee-anaad/assets/District_blocks/Rajasthan')\n",
        "blocks_bihar = ee.FeatureCollection('projects/ee-anaad/assets/District_blocks/Bihar')"
      ]
    },
    {
      "cell_type": "code",
      "execution_count": 10,
      "metadata": {
        "id": "QqDqNy0n-7Y6",
        "colab": {
          "base_uri": "https://localhost:8080/",
          "height": 17
        },
        "outputId": "ae4b39ca-db3d-4880-a878-7725a3e99d29"
      },
      "outputs": [
        {
          "output_type": "display_data",
          "data": {
            "text/plain": [
              "<IPython.core.display.HTML object>"
            ],
            "text/html": [
              "\n",
              "  <style>\n",
              "    pre {\n",
              "        white-space: pre-wrap;\n",
              "    }\n",
              "  </style>\n",
              "  "
            ]
          },
          "metadata": {}
        },
        {
          "output_type": "display_data",
          "data": {
            "text/plain": [
              "<IPython.core.display.HTML object>"
            ],
            "text/html": [
              "\n",
              "            <style>\n",
              "                .geemap-dark {\n",
              "                    --jp-widgets-color: white;\n",
              "                    --jp-widgets-label-color: white;\n",
              "                    --jp-ui-font-color1: white;\n",
              "                    --jp-layout-color2: #454545;\n",
              "                    background-color: #383838;\n",
              "                }\n",
              "\n",
              "                .geemap-dark .jupyter-button {\n",
              "                    --jp-layout-color3: #383838;\n",
              "                }\n",
              "\n",
              "                .geemap-colab {\n",
              "                    background-color: var(--colab-primary-surface-color, white);\n",
              "                }\n",
              "\n",
              "                .geemap-colab .jupyter-button {\n",
              "                    --jp-layout-color3: var(--colab-primary-surface-color, white);\n",
              "                }\n",
              "            </style>\n",
              "            "
            ]
          },
          "metadata": {}
        }
      ],
      "source": [
        "mws_angul = ee.FeatureCollection('projects/ee-anaad/assets/Microwatershed_boundaries/angul')\n",
        "mws_masalia = ee.FeatureCollection('projects/ee-anaad/assets/Microwatershed_boundaries/masalia')\n",
        "mws_pindwara = ee.FeatureCollection('projects/ee-anaad/assets/Microwatershed_boundaries/pindwara')\n",
        "mws_mandalgarh = ee.FeatureCollection('projects/ee-anaad/assets/Microwatershed_boundaries/mandalgarh')\n",
        "mws_mohanpur = ee.FeatureCollection('projects/ee-anaad/assets/Microwatershed_boundaries/mohanpur')"
      ]
    },
    {
      "cell_type": "code",
      "execution_count": 11,
      "metadata": {
        "id": "cIuadI0Av4BX",
        "colab": {
          "base_uri": "https://localhost:8080/",
          "height": 17
        },
        "outputId": "3c1c547b-6e66-442a-8037-f9d9d20d74e6"
      },
      "outputs": [
        {
          "output_type": "display_data",
          "data": {
            "text/plain": [
              "<IPython.core.display.HTML object>"
            ],
            "text/html": [
              "\n",
              "  <style>\n",
              "    pre {\n",
              "        white-space: pre-wrap;\n",
              "    }\n",
              "  </style>\n",
              "  "
            ]
          },
          "metadata": {}
        },
        {
          "output_type": "display_data",
          "data": {
            "text/plain": [
              "<IPython.core.display.HTML object>"
            ],
            "text/html": [
              "\n",
              "            <style>\n",
              "                .geemap-dark {\n",
              "                    --jp-widgets-color: white;\n",
              "                    --jp-widgets-label-color: white;\n",
              "                    --jp-ui-font-color1: white;\n",
              "                    --jp-layout-color2: #454545;\n",
              "                    background-color: #383838;\n",
              "                }\n",
              "\n",
              "                .geemap-dark .jupyter-button {\n",
              "                    --jp-layout-color3: #383838;\n",
              "                }\n",
              "\n",
              "                .geemap-colab {\n",
              "                    background-color: var(--colab-primary-surface-color, white);\n",
              "                }\n",
              "\n",
              "                .geemap-colab .jupyter-button {\n",
              "                    --jp-layout-color3: var(--colab-primary-surface-color, white);\n",
              "                }\n",
              "            </style>\n",
              "            "
            ]
          },
          "metadata": {}
        }
      ],
      "source": [
        "aoi_angul = ee.FeatureCollection('projects/ee-anaad/assets/Block_boundaries/angul')\n",
        "aoi_masalia = ee.FeatureCollection('projects/ee-anaad/assets/Block_boundaries/masalia')\n",
        "aoi_pindwara = ee.FeatureCollection('projects/ee-anaad/assets/Block_boundaries/pindwara')\n",
        "aoi_mandalgarh = ee.FeatureCollection('projects/ee-anaad/assets/Block_boundaries/mandalgarh')\n",
        "aoi_mohanpur = ee.FeatureCollection('projects/ee-anaad/assets/Block_boundaries/mohanpur')"
      ]
    },
    {
      "cell_type": "code",
      "execution_count": 12,
      "metadata": {
        "id": "zm0j0qg6vyhi",
        "colab": {
          "base_uri": "https://localhost:8080/",
          "height": 17
        },
        "outputId": "b5908b6b-c6e7-46b4-eb77-320a0c5a5d31"
      },
      "outputs": [
        {
          "output_type": "display_data",
          "data": {
            "text/plain": [
              "<IPython.core.display.HTML object>"
            ],
            "text/html": [
              "\n",
              "  <style>\n",
              "    pre {\n",
              "        white-space: pre-wrap;\n",
              "    }\n",
              "  </style>\n",
              "  "
            ]
          },
          "metadata": {}
        },
        {
          "output_type": "display_data",
          "data": {
            "text/plain": [
              "<IPython.core.display.HTML object>"
            ],
            "text/html": [
              "\n",
              "            <style>\n",
              "                .geemap-dark {\n",
              "                    --jp-widgets-color: white;\n",
              "                    --jp-widgets-label-color: white;\n",
              "                    --jp-ui-font-color1: white;\n",
              "                    --jp-layout-color2: #454545;\n",
              "                    background-color: #383838;\n",
              "                }\n",
              "\n",
              "                .geemap-dark .jupyter-button {\n",
              "                    --jp-layout-color3: #383838;\n",
              "                }\n",
              "\n",
              "                .geemap-colab {\n",
              "                    background-color: var(--colab-primary-surface-color, white);\n",
              "                }\n",
              "\n",
              "                .geemap-colab .jupyter-button {\n",
              "                    --jp-layout-color3: var(--colab-primary-surface-color, white);\n",
              "                }\n",
              "            </style>\n",
              "            "
            ]
          },
          "metadata": {}
        }
      ],
      "source": [
        "roi_angul = None\n",
        "roi_dumka = district_boundaries.filter(ee.Filter.eq('Name', 'Dumka'))\n",
        "roi_sirohi = district_boundaries.filter(ee.Filter.eq('Name', 'Sirohi'))\n",
        "roi_bhilwara = district_boundaries.filter(ee.Filter.eq('Name', 'Bhilwara'))\n",
        "roi_gaya = district_boundaries.filter(ee.Filter.eq('Name', 'Gaya'))"
      ]
    },
    {
      "cell_type": "code",
      "execution_count": 13,
      "metadata": {
        "id": "nQnjjnhvZ2Kz",
        "colab": {
          "base_uri": "https://localhost:8080/",
          "height": 17
        },
        "outputId": "1bbe1396-b9ab-45b5-f82a-efb1d9ddba8f"
      },
      "outputs": [
        {
          "output_type": "display_data",
          "data": {
            "text/plain": [
              "<IPython.core.display.HTML object>"
            ],
            "text/html": [
              "\n",
              "  <style>\n",
              "    pre {\n",
              "        white-space: pre-wrap;\n",
              "    }\n",
              "  </style>\n",
              "  "
            ]
          },
          "metadata": {}
        },
        {
          "output_type": "display_data",
          "data": {
            "text/plain": [
              "<IPython.core.display.HTML object>"
            ],
            "text/html": [
              "\n",
              "            <style>\n",
              "                .geemap-dark {\n",
              "                    --jp-widgets-color: white;\n",
              "                    --jp-widgets-label-color: white;\n",
              "                    --jp-ui-font-color1: white;\n",
              "                    --jp-layout-color2: #454545;\n",
              "                    background-color: #383838;\n",
              "                }\n",
              "\n",
              "                .geemap-dark .jupyter-button {\n",
              "                    --jp-layout-color3: #383838;\n",
              "                }\n",
              "\n",
              "                .geemap-colab {\n",
              "                    background-color: var(--colab-primary-surface-color, white);\n",
              "                }\n",
              "\n",
              "                .geemap-colab .jupyter-button {\n",
              "                    --jp-layout-color3: var(--colab-primary-surface-color, white);\n",
              "                }\n",
              "            </style>\n",
              "            "
            ]
          },
          "metadata": {}
        }
      ],
      "source": [
        "block_names = {\n",
        "     \"angul\",\n",
        "    \"masalia\",\n",
        "    \"pindwara\",\n",
        "    \"mandalgarh\",\n",
        "    \"mohanpur\"\n",
        "}\n",
        "district_from_block = {\n",
        "    \"angul\": \"angul\",\n",
        "    \"masalia\": \"dumka\",\n",
        "    \"pindwara\": \"sirohi\",\n",
        "    \"mandalgarh\": \"bhilwara\",\n",
        "    \"mohanpur\": \"gaya\"\n",
        "}"
      ]
    },
    {
      "cell_type": "code",
      "execution_count": 14,
      "metadata": {
        "id": "qj38GEsgC-R9",
        "colab": {
          "base_uri": "https://localhost:8080/",
          "height": 17
        },
        "outputId": "0815817e-b27c-4b04-ef7e-80f009d5825f"
      },
      "outputs": [
        {
          "output_type": "display_data",
          "data": {
            "text/plain": [
              "<IPython.core.display.HTML object>"
            ],
            "text/html": [
              "\n",
              "  <style>\n",
              "    pre {\n",
              "        white-space: pre-wrap;\n",
              "    }\n",
              "  </style>\n",
              "  "
            ]
          },
          "metadata": {}
        },
        {
          "output_type": "display_data",
          "data": {
            "text/plain": [
              "<IPython.core.display.HTML object>"
            ],
            "text/html": [
              "\n",
              "            <style>\n",
              "                .geemap-dark {\n",
              "                    --jp-widgets-color: white;\n",
              "                    --jp-widgets-label-color: white;\n",
              "                    --jp-ui-font-color1: white;\n",
              "                    --jp-layout-color2: #454545;\n",
              "                    background-color: #383838;\n",
              "                }\n",
              "\n",
              "                .geemap-dark .jupyter-button {\n",
              "                    --jp-layout-color3: #383838;\n",
              "                }\n",
              "\n",
              "                .geemap-colab {\n",
              "                    background-color: var(--colab-primary-surface-color, white);\n",
              "                }\n",
              "\n",
              "                .geemap-colab .jupyter-button {\n",
              "                    --jp-layout-color3: var(--colab-primary-surface-color, white);\n",
              "                }\n",
              "            </style>\n",
              "            "
            ]
          },
          "metadata": {}
        }
      ],
      "source": [
        "#===============================================================================\n",
        "# Set *aoi*, *roi*, and *mws* from *block_name*\n",
        "#===============================================================================\n",
        "\n",
        "def set_block(block_name):\n",
        "    if block_name=='angul':\n",
        "        aoi = aoi_angul\n",
        "        roi = roi_angul\n",
        "        mws = mws_angul\n",
        "\n",
        "    if block_name=='masalia':\n",
        "        aoi = aoi_masalia\n",
        "        roi = roi_dumka\n",
        "        mws = mws_masalia\n",
        "\n",
        "    if block_name=='pindwara':\n",
        "        aoi = aoi_pindwara\n",
        "        roi = roi_sirohi\n",
        "        mws = mws_pindwara\n",
        "\n",
        "    if block_name=='mandalgarh':\n",
        "        aoi = aoi_mandalgarh\n",
        "        roi = roi_bhilwara\n",
        "        mws = mws_mandalgarh\n",
        "\n",
        "    if block_name=='mohanpur':\n",
        "        aoi = aoi_mohanpur\n",
        "        roi = roi_gaya\n",
        "        mws = mws_mohanpur\n",
        "\n",
        "    return aoi, roi, mws"
      ]
    },
    {
      "cell_type": "markdown",
      "metadata": {
        "id": "XraKLxssx8eQ"
      },
      "source": [
        "# Helper functions"
      ]
    },
    {
      "cell_type": "code",
      "execution_count": 15,
      "metadata": {
        "id": "DxRBK6be-GAo",
        "colab": {
          "base_uri": "https://localhost:8080/",
          "height": 17
        },
        "outputId": "3585888f-cfaf-41bb-cc74-68590cf4eb87"
      },
      "outputs": [
        {
          "output_type": "display_data",
          "data": {
            "text/plain": [
              "<IPython.core.display.HTML object>"
            ],
            "text/html": [
              "\n",
              "  <style>\n",
              "    pre {\n",
              "        white-space: pre-wrap;\n",
              "    }\n",
              "  </style>\n",
              "  "
            ]
          },
          "metadata": {}
        },
        {
          "output_type": "display_data",
          "data": {
            "text/plain": [
              "<IPython.core.display.HTML object>"
            ],
            "text/html": [
              "\n",
              "            <style>\n",
              "                .geemap-dark {\n",
              "                    --jp-widgets-color: white;\n",
              "                    --jp-widgets-label-color: white;\n",
              "                    --jp-ui-font-color1: white;\n",
              "                    --jp-layout-color2: #454545;\n",
              "                    background-color: #383838;\n",
              "                }\n",
              "\n",
              "                .geemap-dark .jupyter-button {\n",
              "                    --jp-layout-color3: #383838;\n",
              "                }\n",
              "\n",
              "                .geemap-colab {\n",
              "                    background-color: var(--colab-primary-surface-color, white);\n",
              "                }\n",
              "\n",
              "                .geemap-colab .jupyter-button {\n",
              "                    --jp-layout-color3: var(--colab-primary-surface-color, white);\n",
              "                }\n",
              "            </style>\n",
              "            "
            ]
          },
          "metadata": {}
        }
      ],
      "source": [
        "#===============================================================================\n",
        "# Set ID of fire_regions using uids of intersecting microwatersheds\n",
        "#===============================================================================\n",
        "\n",
        "def set_properties(fire_regions, mws):\n",
        "    idList = ee.List.sequence(0,fire_regions.size().subtract(1))\n",
        "    fire_regions_list = fire_regions.toList(fire_regions.size())\n",
        "\n",
        "    def set_prop_helper(newSysIndex):\n",
        "        feature = ee.Feature(fire_regions_list.get(newSysIndex))\n",
        "        intersecting_mws = mws.filterBounds(feature.geometry())\n",
        "        uidList = intersecting_mws.aggregate_array('uid').add(ee.Number(newSysIndex).toInt())\n",
        "        uid = uidList.join('_')\n",
        "        return feature.set('system:index', uid, 'ID', uid)#, 'geometry', feature.geometry())\n",
        "\n",
        "    return ee.FeatureCollection(idList.map(set_prop_helper))\n",
        "\n",
        "#===============================================================================\n",
        "# Function to compute statistics for fire_regions\n",
        "#===============================================================================\n",
        "\n",
        "def compute_stats(fire_regions):\n",
        "    num_fires = fire_regions.size().getInfo()\n",
        "    min_area = fire_regions.aggregate_min('area').getInfo()\n",
        "    max_area = fire_regions.aggregate_max('area').getInfo()\n",
        "    mean_area = fire_regions.aggregate_mean('area').getInfo()\n",
        "    total_area = fire_regions.aggregate_sum('area').getInfo()\n",
        "    return num_fires, min_area, max_area, mean_area, total_area"
      ]
    },
    {
      "cell_type": "code",
      "source": [
        "#===============================================================================\n",
        "# Function to get composite image with MODIS and VIIRS bands from landsat-8 image\n",
        "#===============================================================================\n",
        "\n",
        "def getNativeImage(image_lsat):\n",
        "    path = image_lsat.get('system:index').getInfo()\n",
        "    # projection = image_lsat.select('B7').projection().getInfo()\n",
        "\n",
        "    image_mod09ga_id = \"MODIS/061/MOD09GA/\"+path[-8:-4]+'_'+path[-4:-2]+'_'+path[-2:]\n",
        "    try:\n",
        "        ee.data.getAsset(image_mod09ga_id)\n",
        "    except ee.EEException:\n",
        "        print(\"MODIS/061/MOD09GA/\"+path[-8:-4]+'_'+path[-4:-2]+'_'+path[-2:], 'does not exist.')\n",
        "        return None\n",
        "\n",
        "    image_vnp09ga_id = \"NOAA/VIIRS/001/VNP09GA/\"+path[-8:-4]+'_'+path[-4:-2]+'_'+path[-2:]\n",
        "    try:\n",
        "        ee.data.getAsset(image_vnp09ga_id)\n",
        "    except ee.EEException:\n",
        "        print(\"NOAA/VIIRS/001/VNP09GA/\"+path[-8:-4]+'_'+path[-4:-2]+'_'+path[-2:], 'does not exist.')\n",
        "        return None\n",
        "\n",
        "    image_mod09ga = ee.Image(image_mod09ga_id).select(['sur_refl_b01','sur_refl_b02','sur_refl_b03','sur_refl_b04','sur_refl_b05','sur_refl_b06','sur_refl_b07'])#.reproject(crs = projection['crs'], crsTransform = projection['transform'])\n",
        "    image_mod09ga = image_mod09ga.clip(image_lsat.select('B7').geometry())#.updateMask(image_lsat.select('B7').mask())\n",
        "    image_vnp09ga = ee.Image(image_vnp09ga_id).select(['I1','I2','I3','M1','M2','M3','M4','M5','M7','M8','M10','M11'])#.reproject(crs = projection['crs'], crsTransform = projection['transform'])\n",
        "    image_vnp09ga = image_vnp09ga.clip(image_lsat.select('B7').geometry())#.updateMask(image_lsat.select('B7').mask())\n",
        "    # image_mod11a1 = ee.Image(\"MODIS/061/MOD11A1/\"+path[-8:-4]+'_'+path[-4:-2]+'_'+path[-2:])\n",
        "    # image_mod11a1 = image_mod11a1.select(['LST_Day_1km', 'LST_Night_1km', 'Emis_31', 'Emis_32']).reproject(crs = projection['crs'], crsTransform = projection['transform'])\n",
        "    # image_mod11a1 = image_mod11a1.updateMask(manual_annotation_patch.mask()).clip(manual_annotation_patch.geometry())\n",
        "\n",
        "    image = image_lsat.addBands(image_mod09ga).addBands(image_vnp09ga)\n",
        "    return image\n",
        "\n",
        "\n",
        "def getReprojectedImage(image_lsat):\n",
        "    path = image_lsat.get('system:index').getInfo()\n",
        "    projection = image_lsat.select('B7').projection().getInfo()\n",
        "\n",
        "    image_mod09ga_id = \"MODIS/061/MOD09GA/\"+path[-8:-4]+'_'+path[-4:-2]+'_'+path[-2:]\n",
        "    try:\n",
        "        ee.data.getAsset(image_mod09ga_id)\n",
        "    except ee.EEException:\n",
        "        print(\"MODIS/061/MOD09GA/\"+path[-8:-4]+'_'+path[-4:-2]+'_'+path[-2:], 'does not exist.')\n",
        "        return None\n",
        "\n",
        "    image_vnp09ga_id = \"NOAA/VIIRS/001/VNP09GA/\"+path[-8:-4]+'_'+path[-4:-2]+'_'+path[-2:]\n",
        "    try:\n",
        "        ee.data.getAsset(image_vnp09ga_id)\n",
        "    except ee.EEException:\n",
        "        print(\"NOAA/VIIRS/001/VNP09GA/\"+path[-8:-4]+'_'+path[-4:-2]+'_'+path[-2:], 'does not exist.')\n",
        "        return None\n",
        "\n",
        "    image_mod09ga = ee.Image(image_mod09ga_id).select(['sur_refl_b01','sur_refl_b02','sur_refl_b03','sur_refl_b04','sur_refl_b05','sur_refl_b06','sur_refl_b07']).reproject(crs = projection['crs'], crsTransform = projection['transform'])\n",
        "    image_mod09ga = image_mod09ga.clip(image_lsat.select('B7').geometry())#.updateMask(image_lsat.select('B7').mask())\n",
        "    image_vnp09ga = ee.Image(image_vnp09ga_id).select(['I1','I2','I3','M1','M2','M3','M4','M5','M7','M8','M10','M11']).reproject(crs = projection['crs'], crsTransform = projection['transform'])\n",
        "    image_vnp09ga = image_vnp09ga.clip(image_lsat.select('B7').geometry())#.updateMask(image_lsat.select('B7').mask())\n",
        "    # image_mod11a1 = ee.Image(\"MODIS/061/MOD11A1/\"+path[-8:-4]+'_'+path[-4:-2]+'_'+path[-2:])\n",
        "    # image_mod11a1 = image_mod11a1.select(['LST_Day_1km', 'LST_Night_1km', 'Emis_31', 'Emis_32']).reproject(crs = projection['crs'], crsTransform = projection['transform'])\n",
        "    # image_mod11a1 = image_mod11a1.updateMask(manual_annotation_patch.mask()).clip(manual_annotation_patch.geometry())\n",
        "\n",
        "    image = image_lsat.addBands(image_mod09ga).addBands(image_vnp09ga)\n",
        "    return image"
      ],
      "metadata": {
        "colab": {
          "base_uri": "https://localhost:8080/",
          "height": 17
        },
        "id": "Nm_nncaoIj-1",
        "outputId": "13423c3a-f632-419f-eb65-68937ce42495"
      },
      "execution_count": 26,
      "outputs": [
        {
          "output_type": "display_data",
          "data": {
            "text/plain": [
              "<IPython.core.display.HTML object>"
            ],
            "text/html": [
              "\n",
              "  <style>\n",
              "    pre {\n",
              "        white-space: pre-wrap;\n",
              "    }\n",
              "  </style>\n",
              "  "
            ]
          },
          "metadata": {}
        },
        {
          "output_type": "display_data",
          "data": {
            "text/plain": [
              "<IPython.core.display.HTML object>"
            ],
            "text/html": [
              "\n",
              "            <style>\n",
              "                .geemap-dark {\n",
              "                    --jp-widgets-color: white;\n",
              "                    --jp-widgets-label-color: white;\n",
              "                    --jp-ui-font-color1: white;\n",
              "                    --jp-layout-color2: #454545;\n",
              "                    background-color: #383838;\n",
              "                }\n",
              "\n",
              "                .geemap-dark .jupyter-button {\n",
              "                    --jp-layout-color3: #383838;\n",
              "                }\n",
              "\n",
              "                .geemap-colab {\n",
              "                    background-color: var(--colab-primary-surface-color, white);\n",
              "                }\n",
              "\n",
              "                .geemap-colab .jupyter-button {\n",
              "                    --jp-layout-color3: var(--colab-primary-surface-color, white);\n",
              "                }\n",
              "            </style>\n",
              "            "
            ]
          },
          "metadata": {}
        }
      ]
    },
    {
      "cell_type": "markdown",
      "metadata": {
        "id": "bQDO4PEGoDM6"
      },
      "source": [
        "# Sets of conditions to classify pixels as fire or non-fire"
      ]
    },
    {
      "cell_type": "markdown",
      "metadata": {
        "id": "CWu1PwAAEpa-"
      },
      "source": [
        "### [Schroeder](https://www.sciencedirect.com/science/article/pii/S0034425715301206)"
      ]
    },
    {
      "cell_type": "code",
      "execution_count": 16,
      "metadata": {
        "colab": {
          "base_uri": "https://localhost:8080/",
          "height": 17
        },
        "id": "mQuXhWPNzMK2",
        "outputId": "70903d33-3ec1-4475-fc40-8be270c94543"
      },
      "outputs": [
        {
          "output_type": "display_data",
          "data": {
            "text/plain": [
              "<IPython.core.display.HTML object>"
            ],
            "text/html": [
              "\n",
              "  <style>\n",
              "    pre {\n",
              "        white-space: pre-wrap;\n",
              "    }\n",
              "  </style>\n",
              "  "
            ]
          },
          "metadata": {}
        },
        {
          "output_type": "display_data",
          "data": {
            "text/plain": [
              "<IPython.core.display.HTML object>"
            ],
            "text/html": [
              "\n",
              "            <style>\n",
              "                .geemap-dark {\n",
              "                    --jp-widgets-color: white;\n",
              "                    --jp-widgets-label-color: white;\n",
              "                    --jp-ui-font-color1: white;\n",
              "                    --jp-layout-color2: #454545;\n",
              "                    background-color: #383838;\n",
              "                }\n",
              "\n",
              "                .geemap-dark .jupyter-button {\n",
              "                    --jp-layout-color3: #383838;\n",
              "                }\n",
              "\n",
              "                .geemap-colab {\n",
              "                    background-color: var(--colab-primary-surface-color, white);\n",
              "                }\n",
              "\n",
              "                .geemap-colab .jupyter-button {\n",
              "                    --jp-layout-color3: var(--colab-primary-surface-color, white);\n",
              "                }\n",
              "            </style>\n",
              "            "
            ]
          },
          "metadata": {}
        }
      ],
      "source": [
        "#===============================================================================\n",
        "# EQUATIONS (Schroeder)\n",
        "#===============================================================================\n",
        "# The following functions implement the equations in the paper:https://www.sciencedirect.com/science/article/pii/S0034425715301206.\n",
        "\n",
        "def Seq1(image, r75, diff75):\n",
        "    '''identifies potentially unambiguous active fire pixels\n",
        "    builds on the ETM + active fire algorithm while accommodating small differences in OLI spectral channels'''\n",
        "    return r75.gt(2.5).And(diff75.gt(0.3)).And(image.select('B7').gt(0.5))\n",
        "\n",
        "#-------------------------------------------------------------------------------\n",
        "\n",
        "def Seq2(image):\n",
        "    '''highly energetic and extensive fires can lead to folding of the DN on channel 7\n",
        "    thereby characterizing another condition of potentially unambiguous active fire pixels'''\n",
        "    return image.select('B6').gt(0.8).And(image.select('B1').lt(0.2)).And(image.select('B5').gt(0.4).Or(image.select('B7').lt(0.1)))\n",
        "\n",
        "#-------------------------------------------------------------------------------\n",
        "\n",
        "def Seq3(r75, diff75):\n",
        "    '''complementing the identification of unambiguous fire pixels, the thresholds in test (1) are relaxed\n",
        "    and other candidate fire pixels are selected for further analyses'''\n",
        "    return r75.gt(1.8).And(diff75.gt(0.17))\n",
        "\n",
        "#-------------------------------------------------------------------------------\n",
        "\n",
        "def Seq4and5(b7, r75, unamb_fires, water):\n",
        "    '''all pixels satisfying test (3) must then meet the following set of fixed threshold and contextual tests\n",
        "    in order to be classified as potential fire-affected pixels'''\n",
        "\n",
        "    # means and standard deviations are computed ignoring pixels showing channel 7 reflectance <= zero, unambiguous fires, as well as water pixels.\n",
        "    ignored_pixels = b7.lte(0).Or(unamb_fires.Or(water))\n",
        "    kept_pixels = ignored_pixels.Not()\n",
        "    r75 = r75.updateMask(kept_pixels)\n",
        "    b7 = b7.updateMask(kept_pixels)\n",
        "\n",
        "    reducers = ee.Reducer.mean().unweighted().combine(reducer2=ee.Reducer.stdDev().unweighted(),sharedInputs=True)\n",
        "    stats_r75 = r75.reduceNeighborhood(reducers, ee.Kernel.square(30, 'pixels', False))\n",
        "    stats_b7 = b7.reduceNeighborhood(reducers, ee.Kernel.square(30, 'pixels', False))\n",
        "\n",
        "    potential_r75 = r75.gt(stats_r75.select('R75_mean').add(stats_r75.expression(\"(3*b('R75_stdDev') > 0.8) ? 3*b('R75_stdDev') : 0.8\")))\n",
        "    potential_b7 = b7.gt(stats_b7.select('B7_mean').add(stats_b7.expression(\"(3*b('B7_stdDev') > 0.08) ? 3*b('B7_stdDev') : 0.08\")))\n",
        "    return (potential_r75.And(potential_b7)).unmask(unamb_fires)\n",
        "\n",
        "#-------------------------------------------------------------------------------\n",
        "\n",
        "def Seq6(image):\n",
        "    '''additional test for potential fires'''\n",
        "    return (image.select('B7').divide(image.select('B6'))).gt(1.6)\n",
        "\n",
        "#-------------------------------------------------------------------------------\n",
        "\n",
        "def Seq7to9(image):\n",
        "    '''water pixels are classified based on spectral profiling using reflectance data from all seven input channels\n",
        "    two distinct tests are applied in order to map oceans and inland water bodies'''\n",
        "    return image.select('B4').gt(image.select('B5'))\\\n",
        "    .And(image.select('B5').gt(image.select('B6')))\\\n",
        "    .And(image.select('B6').gt(image.select('B7')))\\\n",
        "    .And((image.select('B1').subtract(image.select('B7'))).lt(0.2))\\\n",
        "    .And(image.select('B3').gt(image.select('B2'))\n",
        "        .Or(image.select('B1').gt(image.select('B2'))\n",
        "            .And(image.select('B2').gt(image.select('B3')))\n",
        "            .And(image.select('B3').gt(image.select('B4')))\n",
        "        )\n",
        "    )\n",
        "\n",
        "#-------------------------------------------------------------------------------\n",
        "\n",
        "def getFireMaskSchroeder(image):\n",
        "\n",
        "    r75 = image.select('B7').divide(image.select('B5')) # Compute only once (used by multiple equations).\n",
        "    r75 = r75.select(['B7'], ['R75'])\n",
        "    diff75 = image.select('B7').subtract(image.select('B5')) # Compute only once (used by multiple equations).\n",
        "    diff75 = diff75.rename(['D75'])\n",
        "\n",
        "    # Unambiguous fires (satisfy eq 1 or 2).\n",
        "    unamb_fires = Seq1(image, r75, diff75).Or(Seq2(image))\n",
        "\n",
        "    # Potential fires (satisfy eq 3).\n",
        "    potential_fires = Seq3(r75, diff75)\n",
        "\n",
        "    # Test eq 6 before eq 4 and 5 in an attempt to avoid the time-consuming contextual test when possible.\n",
        "    potential_fires = potential_fires.And(Seq6(image))\n",
        "\n",
        "    # Water pixels (used by the contextual test and excluded from the result.\n",
        "    water = Seq7to9(image)\n",
        "\n",
        "    # Contextual test for potential fires (eq 4 and 5).\n",
        "    potential_fires = potential_fires.And(Seq4and5(image.select('B7'), r75, unamb_fires, water))\n",
        "\n",
        "    return (water.Not().And(unamb_fires.Or(potential_fires))).rename(['F'])"
      ]
    },
    {
      "cell_type": "markdown",
      "metadata": {
        "id": "Hqs3w7ptUG0I"
      },
      "source": [
        "## [Murphy](https://www.sciencedirect.com/science/article/abs/pii/S0034425716300554)"
      ]
    },
    {
      "cell_type": "code",
      "execution_count": 17,
      "metadata": {
        "colab": {
          "base_uri": "https://localhost:8080/",
          "height": 17
        },
        "id": "MrNcVqFFRBNI",
        "outputId": "90baae9c-f0c9-4390-84d3-5a926b8fac5e"
      },
      "outputs": [
        {
          "output_type": "display_data",
          "data": {
            "text/plain": [
              "<IPython.core.display.HTML object>"
            ],
            "text/html": [
              "\n",
              "  <style>\n",
              "    pre {\n",
              "        white-space: pre-wrap;\n",
              "    }\n",
              "  </style>\n",
              "  "
            ]
          },
          "metadata": {}
        },
        {
          "output_type": "display_data",
          "data": {
            "text/plain": [
              "<IPython.core.display.HTML object>"
            ],
            "text/html": [
              "\n",
              "            <style>\n",
              "                .geemap-dark {\n",
              "                    --jp-widgets-color: white;\n",
              "                    --jp-widgets-label-color: white;\n",
              "                    --jp-ui-font-color1: white;\n",
              "                    --jp-layout-color2: #454545;\n",
              "                    background-color: #383838;\n",
              "                }\n",
              "\n",
              "                .geemap-dark .jupyter-button {\n",
              "                    --jp-layout-color3: #383838;\n",
              "                }\n",
              "\n",
              "                .geemap-colab {\n",
              "                    background-color: var(--colab-primary-surface-color, white);\n",
              "                }\n",
              "\n",
              "                .geemap-colab .jupyter-button {\n",
              "                    --jp-layout-color3: var(--colab-primary-surface-color, white);\n",
              "                }\n",
              "            </style>\n",
              "            "
            ]
          },
          "metadata": {}
        }
      ],
      "source": [
        "#===============================================================================\n",
        "# EQUATIONS (MURPHY)\n",
        "#===============================================================================\n",
        "# The following functions implement the equations in the paper:https://www.sciencedirect.com/science/article/abs/pii/S0034425716300554.\n",
        "\n",
        "def Meq2(image):\n",
        "    '''a pixel has an α of one if reflectance in band 7 is at least 40% greater than reflectance in both bands 5 and 6\n",
        "    (i.e. because the 2.2 μm waveband is expected to be relatively sensitive to hot targets),\n",
        "    and if reflectance in band 7 is not too low\n",
        "    (this condition is imposed to avoid creating false alarms over low reflectivity surfaces such as water bodies).'''\n",
        "    # Eq 2 (unambiguous fires)\n",
        "    return (image.select('B7').divide(image.select('B6'))).gte(1.4)\\\n",
        "        .And((image.select('B7').divide(image.select('B5'))).gte(1.4))\\\n",
        "        .And(image.select('B7').gte(0.15))\n",
        "#-------------------------------------------------------------------------------\n",
        "\n",
        "def Meq3(image, unamb_fires, QA):\n",
        "    '''a pixel will have a β of one if reflectance in band 6 is at least twice as high as in band 5,\n",
        "    and if reflectance in band 6 is at least 0.5.\n",
        "    the latter fixed threshold is to ensure that the pixel is sufficiently radiant;\n",
        "    algorithm performance is not sensitive to this threshold.\n",
        "    alternatively, a pixel could also be assigned a β of one if either bands 6 or 7 are saturated.'''\n",
        "\n",
        "    # saturation\n",
        "    def get_sat(fromBand, toBand):\n",
        "        bitmask = ee.Number(1).leftShift(toBand-fromBand+1).subtract(1)\n",
        "        return QA.rightShift(fromBand-1).bitwiseAnd(bitmask)\n",
        "\n",
        "    # vals = [2724,2756,2804,2980,3012,3748,3780,6820,6852,6900,7076,7108,7844,7876,\n",
        "    #         2728,2760,2808,2984,3016,3752,3784,6824,6856,6904,7080,7112,7848,7880,\n",
        "    #         2732,2764,2812,2988,3020,3756,3788,6828,6860,6908,7084,7116,7852,7884]\n",
        "\n",
        "    # sat = ee.Image(0).setDefaultProjection(image.select('B7').projection())\n",
        "    # for val in vals:\n",
        "    #     sat = sat.Or(QA.eq(val))\n",
        "\n",
        "    # Eq 3 (potential fires)\n",
        "    neighborhood = unamb_fires.reduceNeighborhood(ee.Reducer.sum(), ee.Kernel.square(1, 'pixels', False))\n",
        "    return neighborhood.gt(0)\\\n",
        "        .And(\n",
        "            ((image.select('B6').divide(image.select('B5'))).gte(2.0)\n",
        "            .And(image.select('B6').gte(0.5)))\n",
        "            .Or(get_sat(6,7))\n",
        "            # .Or(sat)\n",
        "        )\n",
        "\n",
        "#-------------------------------------------------------------------------------\n",
        "\n",
        "def getFireMaskMurphy(image):\n",
        "    '''This is the central function. Receives the (corrected) reflectance bands\n",
        "and a binary mask indicating saturated pixels, and returns a binary fire mask.'''\n",
        "    QA = image.select('QA_RADSAT')\n",
        "    image = image.select(['B5', 'B6', 'B7'])#.divide(math.sin(math.radians(image.get('SUN_ELEVATION').getInfo())))\n",
        "    unamb_fires = Meq2(image)\n",
        "    potential_fires = Meq3(image, unamb_fires, QA)\n",
        "    return (unamb_fires.Or(potential_fires)).rename(['F'])"
      ]
    },
    {
      "cell_type": "markdown",
      "metadata": {
        "id": "eL6b89SEkntq"
      },
      "source": [
        "## Random Forests"
      ]
    },
    {
      "cell_type": "code",
      "execution_count": 18,
      "metadata": {
        "id": "C0_BTgOukwVY",
        "colab": {
          "base_uri": "https://localhost:8080/",
          "height": 17
        },
        "outputId": "ee123a9c-afe4-43cd-c3ac-f1b5dd39ef82"
      },
      "outputs": [
        {
          "output_type": "display_data",
          "data": {
            "text/plain": [
              "<IPython.core.display.HTML object>"
            ],
            "text/html": [
              "\n",
              "  <style>\n",
              "    pre {\n",
              "        white-space: pre-wrap;\n",
              "    }\n",
              "  </style>\n",
              "  "
            ]
          },
          "metadata": {}
        },
        {
          "output_type": "display_data",
          "data": {
            "text/plain": [
              "<IPython.core.display.HTML object>"
            ],
            "text/html": [
              "\n",
              "            <style>\n",
              "                .geemap-dark {\n",
              "                    --jp-widgets-color: white;\n",
              "                    --jp-widgets-label-color: white;\n",
              "                    --jp-ui-font-color1: white;\n",
              "                    --jp-layout-color2: #454545;\n",
              "                    background-color: #383838;\n",
              "                }\n",
              "\n",
              "                .geemap-dark .jupyter-button {\n",
              "                    --jp-layout-color3: #383838;\n",
              "                }\n",
              "\n",
              "                .geemap-colab {\n",
              "                    background-color: var(--colab-primary-surface-color, white);\n",
              "                }\n",
              "\n",
              "                .geemap-colab .jupyter-button {\n",
              "                    --jp-layout-color3: var(--colab-primary-surface-color, white);\n",
              "                }\n",
              "            </style>\n",
              "            "
            ]
          },
          "metadata": {}
        }
      ],
      "source": [
        "def getFireMaskOldRandomForest(image):\n",
        "    asset_id = 'projects/ee-anaad/assets/Classifiers/random_forest_classifier' # 75-25\n",
        "    random_forest_classifier = ee.Classifier.load(asset_id)\n",
        "    return image.classify(random_forest_classifier).rename(['F'])"
      ]
    },
    {
      "cell_type": "code",
      "execution_count": 19,
      "metadata": {
        "id": "UIjyv23U7eVw",
        "colab": {
          "base_uri": "https://localhost:8080/",
          "height": 17
        },
        "outputId": "715facf8-7333-4b00-84c2-899d04602c9e"
      },
      "outputs": [
        {
          "output_type": "display_data",
          "data": {
            "text/plain": [
              "<IPython.core.display.HTML object>"
            ],
            "text/html": [
              "\n",
              "  <style>\n",
              "    pre {\n",
              "        white-space: pre-wrap;\n",
              "    }\n",
              "  </style>\n",
              "  "
            ]
          },
          "metadata": {}
        },
        {
          "output_type": "display_data",
          "data": {
            "text/plain": [
              "<IPython.core.display.HTML object>"
            ],
            "text/html": [
              "\n",
              "            <style>\n",
              "                .geemap-dark {\n",
              "                    --jp-widgets-color: white;\n",
              "                    --jp-widgets-label-color: white;\n",
              "                    --jp-ui-font-color1: white;\n",
              "                    --jp-layout-color2: #454545;\n",
              "                    background-color: #383838;\n",
              "                }\n",
              "\n",
              "                .geemap-dark .jupyter-button {\n",
              "                    --jp-layout-color3: #383838;\n",
              "                }\n",
              "\n",
              "                .geemap-colab {\n",
              "                    background-color: var(--colab-primary-surface-color, white);\n",
              "                }\n",
              "\n",
              "                .geemap-colab .jupyter-button {\n",
              "                    --jp-layout-color3: var(--colab-primary-surface-color, white);\n",
              "                }\n",
              "            </style>\n",
              "            "
            ]
          },
          "metadata": {}
        }
      ],
      "source": [
        "def getFireMaskRFLandsat(image):\n",
        "    asset_id = 'projects/ee-anaad/assets/Classifiers/RF_Landsat-8' # 100-0\n",
        "    random_forest_classifier = ee.Classifier.load(asset_id)\n",
        "    return image.classify(random_forest_classifier).rename(['F'])"
      ]
    },
    {
      "cell_type": "code",
      "execution_count": 20,
      "metadata": {
        "id": "6vd4eSoAtZug",
        "colab": {
          "base_uri": "https://localhost:8080/",
          "height": 17
        },
        "outputId": "fc812407-0c09-4dbc-a8d7-16cf5e4fe077"
      },
      "outputs": [
        {
          "output_type": "display_data",
          "data": {
            "text/plain": [
              "<IPython.core.display.HTML object>"
            ],
            "text/html": [
              "\n",
              "  <style>\n",
              "    pre {\n",
              "        white-space: pre-wrap;\n",
              "    }\n",
              "  </style>\n",
              "  "
            ]
          },
          "metadata": {}
        },
        {
          "output_type": "display_data",
          "data": {
            "text/plain": [
              "<IPython.core.display.HTML object>"
            ],
            "text/html": [
              "\n",
              "            <style>\n",
              "                .geemap-dark {\n",
              "                    --jp-widgets-color: white;\n",
              "                    --jp-widgets-label-color: white;\n",
              "                    --jp-ui-font-color1: white;\n",
              "                    --jp-layout-color2: #454545;\n",
              "                    background-color: #383838;\n",
              "                }\n",
              "\n",
              "                .geemap-dark .jupyter-button {\n",
              "                    --jp-layout-color3: #383838;\n",
              "                }\n",
              "\n",
              "                .geemap-colab {\n",
              "                    background-color: var(--colab-primary-surface-color, white);\n",
              "                }\n",
              "\n",
              "                .geemap-colab .jupyter-button {\n",
              "                    --jp-layout-color3: var(--colab-primary-surface-color, white);\n",
              "                }\n",
              "            </style>\n",
              "            "
            ]
          },
          "metadata": {}
        }
      ],
      "source": [
        "def getFireMaskRFNativeProjections(image_lsat):\n",
        "    asset_id = 'projects/ee-anaad/assets/Classifiers/RF_Landsat-8_MODIS_VIIRS_native_projections'\n",
        "    random_forest_classifier = ee.Classifier.load(asset_id)\n",
        "\n",
        "    image = getNativeImage(image_lsat)\n",
        "    if image:\n",
        "        return image.classify(random_forest_classifier).rename(['F'])\n",
        "    else:\n",
        "        return ee.Image(0).setDefaultProjection(image_lsat.select('B7').projection())"
      ]
    },
    {
      "cell_type": "code",
      "execution_count": 21,
      "metadata": {
        "id": "hEbYq5iHkc3Q",
        "colab": {
          "base_uri": "https://localhost:8080/",
          "height": 17
        },
        "outputId": "8059347b-9eb9-4859-bb43-7cf06177a28d"
      },
      "outputs": [
        {
          "output_type": "display_data",
          "data": {
            "text/plain": [
              "<IPython.core.display.HTML object>"
            ],
            "text/html": [
              "\n",
              "  <style>\n",
              "    pre {\n",
              "        white-space: pre-wrap;\n",
              "    }\n",
              "  </style>\n",
              "  "
            ]
          },
          "metadata": {}
        },
        {
          "output_type": "display_data",
          "data": {
            "text/plain": [
              "<IPython.core.display.HTML object>"
            ],
            "text/html": [
              "\n",
              "            <style>\n",
              "                .geemap-dark {\n",
              "                    --jp-widgets-color: white;\n",
              "                    --jp-widgets-label-color: white;\n",
              "                    --jp-ui-font-color1: white;\n",
              "                    --jp-layout-color2: #454545;\n",
              "                    background-color: #383838;\n",
              "                }\n",
              "\n",
              "                .geemap-dark .jupyter-button {\n",
              "                    --jp-layout-color3: #383838;\n",
              "                }\n",
              "\n",
              "                .geemap-colab {\n",
              "                    background-color: var(--colab-primary-surface-color, white);\n",
              "                }\n",
              "\n",
              "                .geemap-colab .jupyter-button {\n",
              "                    --jp-layout-color3: var(--colab-primary-surface-color, white);\n",
              "                }\n",
              "            </style>\n",
              "            "
            ]
          },
          "metadata": {}
        }
      ],
      "source": [
        "def getFireMaskRFReprojected(image_lsat):\n",
        "    asset_id = 'projects/ee-anaad/assets/Classifiers/RF_Landsat-8_MODIS_VIIRS_reprojected_to_30m'\n",
        "    random_forest_classifier = ee.Classifier.load(asset_id)\n",
        "\n",
        "    image = getReprojectedImage(image_lsat)\n",
        "    if image:\n",
        "        return image.classify(random_forest_classifier).rename(['F'])\n",
        "    else:\n",
        "        return ee.Image(0).setDefaultProjection(image_lsat.select('B7').projection())"
      ]
    },
    {
      "cell_type": "markdown",
      "metadata": {
        "id": "oMa4WNMXIbw0"
      },
      "source": [
        "# Compute fire regions, get/plot statistics, and export as asset"
      ]
    },
    {
      "cell_type": "code",
      "execution_count": 22,
      "metadata": {
        "colab": {
          "base_uri": "https://localhost:8080/",
          "height": 17
        },
        "id": "GAM8x31gIbxD",
        "outputId": "b7071a1d-b1d0-4755-a1ab-a9dd3abb3dd1"
      },
      "outputs": [
        {
          "output_type": "display_data",
          "data": {
            "text/plain": [
              "<IPython.core.display.HTML object>"
            ],
            "text/html": [
              "\n",
              "  <style>\n",
              "    pre {\n",
              "        white-space: pre-wrap;\n",
              "    }\n",
              "  </style>\n",
              "  "
            ]
          },
          "metadata": {}
        },
        {
          "output_type": "display_data",
          "data": {
            "text/plain": [
              "<IPython.core.display.HTML object>"
            ],
            "text/html": [
              "\n",
              "            <style>\n",
              "                .geemap-dark {\n",
              "                    --jp-widgets-color: white;\n",
              "                    --jp-widgets-label-color: white;\n",
              "                    --jp-ui-font-color1: white;\n",
              "                    --jp-layout-color2: #454545;\n",
              "                    background-color: #383838;\n",
              "                }\n",
              "\n",
              "                .geemap-dark .jupyter-button {\n",
              "                    --jp-layout-color3: #383838;\n",
              "                }\n",
              "\n",
              "                .geemap-colab {\n",
              "                    background-color: var(--colab-primary-surface-color, white);\n",
              "                }\n",
              "\n",
              "                .geemap-colab .jupyter-button {\n",
              "                    --jp-layout-color3: var(--colab-primary-surface-color, white);\n",
              "                }\n",
              "            </style>\n",
              "            "
            ]
          },
          "metadata": {}
        }
      ],
      "source": [
        "#===============================================================================\n",
        "# Helper Functions\n",
        "#===============================================================================\n",
        "\n",
        "# Function to compute fire regions for aoi from start_date to end_date using forest_mask\n",
        "def compute_fire_regions(aoi, start_date, end_date, forest_mask, getFireMask):\n",
        "    aoi_buffered = aoi.geometry().buffer(1000)\n",
        "    imageCollection = ee.ImageCollection('LANDSAT/LC08/C02/T1_TOA')\\\n",
        "        .filterDate(start_date, end_date)\\\n",
        "        .filterBounds(aoi_buffered)\n",
        "    n = imageCollection.size().getInfo()\n",
        "    imageList = imageCollection.toList(n)\n",
        "\n",
        "    fire_regions = ee.FeatureCollection([])\n",
        "    for i in range(n):\n",
        "        image = (ee.Image(imageList.get(i))).clip(aoi_buffered)\n",
        "        fire_mask = getFireMask(image)#.updateMask(forest_mask)\n",
        "        fire = fire_mask.updateMask(fire_mask)\n",
        "        fire_vectors = fire.addBands(fire).reduceToVectors(\n",
        "            geometry = aoi_buffered,\n",
        "            scale = 30,\n",
        "            reducer = ee.Reducer.mean(),\n",
        "            maxPixels = 1e10\n",
        "        )\n",
        "        fire_vectors = fire_vectors.select([]).map(lambda feature: feature.set({'date': image.date().format('YYYY-MM-dd'),'area': feature.area(maxError=1)}))\n",
        "        fire_regions = fire_regions.merge(fire_vectors)\n",
        "        fire_regions = fire_regions.distinct(['date', 'area', '.geo'])\n",
        "\n",
        "    return fire_regions"
      ]
    },
    {
      "cell_type": "code",
      "execution_count": 24,
      "metadata": {
        "colab": {
          "base_uri": "https://localhost:8080/",
          "height": 17
        },
        "id": "dDGesJvhIbxD",
        "outputId": "aaa45c7c-3dcf-413e-8bc4-b9cbf58d145e"
      },
      "outputs": [
        {
          "output_type": "display_data",
          "data": {
            "text/plain": [
              "<IPython.core.display.HTML object>"
            ],
            "text/html": [
              "\n",
              "  <style>\n",
              "    pre {\n",
              "        white-space: pre-wrap;\n",
              "    }\n",
              "  </style>\n",
              "  "
            ]
          },
          "metadata": {}
        },
        {
          "output_type": "display_data",
          "data": {
            "text/plain": [
              "<IPython.core.display.HTML object>"
            ],
            "text/html": [
              "\n",
              "            <style>\n",
              "                .geemap-dark {\n",
              "                    --jp-widgets-color: white;\n",
              "                    --jp-widgets-label-color: white;\n",
              "                    --jp-ui-font-color1: white;\n",
              "                    --jp-layout-color2: #454545;\n",
              "                    background-color: #383838;\n",
              "                }\n",
              "\n",
              "                .geemap-dark .jupyter-button {\n",
              "                    --jp-layout-color3: #383838;\n",
              "                }\n",
              "\n",
              "                .geemap-colab {\n",
              "                    background-color: var(--colab-primary-surface-color, white);\n",
              "                }\n",
              "\n",
              "                .geemap-colab .jupyter-button {\n",
              "                    --jp-layout-color3: var(--colab-primary-surface-color, white);\n",
              "                }\n",
              "            </style>\n",
              "            "
            ]
          },
          "metadata": {}
        }
      ],
      "source": [
        "# Input block_name, start_date and end_date\n",
        "block_name = 'masalia'\n",
        "start_date = '2019-07-01'\n",
        "end_date = '2020-07-01'\n",
        "\n",
        "# Input method to generate fire regions\n",
        "method = 'OldRandomForest'"
      ]
    },
    {
      "cell_type": "code",
      "execution_count": null,
      "metadata": {
        "id": "I5ydfUGCIbxD"
      },
      "outputs": [],
      "source": [
        "#===============================================================================\n",
        "# Compute fire_regions and export as asset\n",
        "#===============================================================================\n",
        "\n",
        "\n",
        "if method == 'Murphy':\n",
        "    getFireMask = getFireMaskMurphy\n",
        "elif method=='Schroder':\n",
        "    getFireMask = getFireMaskSchroeder\n",
        "\n",
        "elif method=='OldRandomForest':\n",
        "    getFireMask = getFireMaskOldRandomForest\n",
        "elif method=='RFLandsat':\n",
        "    getFireMask = getFireMaskRFLandsat\n",
        "elif method=='RFNativeProjections':\n",
        "    getFireMask = getFireMaskRFNativeProjections\n",
        "elif method=='RFReprojected':\n",
        "    getFireMask = getFireMaskRFReprojected\n",
        "\n",
        "\n",
        "aoi, roi, mws = set_block(block_name)\n",
        "\n",
        "print(\"\\n\\nComputing fire regions for\", block_name, \"using\", method)\n",
        "\n",
        "loopStart = datetime.strptime(start_date,\"%Y-%m-%d\")\n",
        "loopEnd = datetime.strptime(end_date,\"%Y-%m-%d\")\n",
        "while loopStart < loopEnd:\n",
        "    curr_start_date = loopStart.strftime(\"%Y-%m-%d\")\n",
        "    curr_end_date = (loopStart+relativedelta(years=1)-timedelta(days=1)).strftime(\"%Y-%m-%d\")\n",
        "\n",
        "    lulc = ee.Image('projects/ee-anaad/assets/LULC_outputs/'+block_name+'_'+curr_start_date+'_'+curr_end_date+'_LULCmap_30m')\n",
        "    forest_mask = lulc.eq(6)\n",
        "# uncomment the line below to add forest masks to the Map initialized above\n",
        "    # Map.addLayer(forest_mask, {'min':0, 'max':1, 'palette': ['black', 'white']}, 'forest_mask'+'_'+curr_start_date+'_'+curr_end_date)\n",
        "\n",
        "    print(\"\\nComputing fire regions from\", curr_start_date, \"to\", curr_end_date,\"\\n\")\n",
        "\n",
        "    loopStart = loopStart+relativedelta(years=1)\n",
        "    fire_regions = compute_fire_regions(aoi, curr_start_date, loopStart.strftime(\"%Y-%m-%d\"), forest_mask, getFireMask)\n",
        "    fire_regions = set_properties(fire_regions, mws)\n",
        "\n",
        "    output_filename = block_name + '_' + curr_start_date + '_' + curr_end_date\n",
        "    output_assetid = 'projects/ee-anaad/assets/'+method+'_fire_regions/'+output_filename+'test'\n",
        "    export_to_asset(fire_regions, output_assetid, output_filename)"
      ]
    }
  ]
}