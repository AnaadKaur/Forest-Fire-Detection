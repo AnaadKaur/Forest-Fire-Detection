{
  "nbformat": 4,
  "nbformat_minor": 0,
  "metadata": {
    "colab": {
      "provenance": [],
      "collapsed_sections": [
        "NccqfRtpZuwR",
        "Y-irbNKunEq_",
        "8x1LzkIKnBiV"
      ],
      "toc_visible": true,
      "authorship_tag": "ABX9TyNbPTnmXz2PHodHSp5Ni53L",
      "include_colab_link": true
    },
    "kernelspec": {
      "name": "python3",
      "display_name": "Python 3"
    },
    "language_info": {
      "name": "python"
    }
  },
  "cells": [
    {
      "cell_type": "markdown",
      "metadata": {
        "id": "view-in-github",
        "colab_type": "text"
      },
      "source": [
        "<a href=\"https://colab.research.google.com/github/AnaadKaur/Forest-Fire-Detection/blob/main/Forecasting%20Forest%20Fires.ipynb\" target=\"_parent\"><img src=\"https://colab.research.google.com/assets/colab-badge.svg\" alt=\"Open In Colab\"/></a>"
      ]
    },
    {
      "cell_type": "markdown",
      "metadata": {
        "id": "snJSe0lwmGrE"
      },
      "source": [
        "# Environment setup"
      ]
    },
    {
      "cell_type": "markdown",
      "metadata": {
        "id": "NccqfRtpZuwR"
      },
      "source": [
        "## Run the two cells below for output wrap-around"
      ]
    },
    {
      "cell_type": "code",
      "execution_count": 2,
      "metadata": {
        "id": "hjp4eP4gTD3Q",
        "colab": {
          "base_uri": "https://localhost:8080/",
          "height": 0
        },
        "outputId": "a0d0c6e1-d9d1-4dfd-ac1c-1407f9531537"
      },
      "outputs": [
        {
          "output_type": "display_data",
          "data": {
            "text/plain": [
              "<IPython.core.display.HTML object>"
            ],
            "text/html": [
              "\n",
              "            <style>\n",
              "                .geemap-dark {\n",
              "                    --jp-widgets-color: white;\n",
              "                    --jp-widgets-label-color: white;\n",
              "                    --jp-ui-font-color1: white;\n",
              "                    --jp-layout-color2: #454545;\n",
              "                    background-color: #383838;\n",
              "                }\n",
              "\n",
              "                .geemap-dark .jupyter-button {\n",
              "                    --jp-layout-color3: #383838;\n",
              "                }\n",
              "\n",
              "                .geemap-colab {\n",
              "                    background-color: var(--colab-primary-surface-color, white);\n",
              "                }\n",
              "\n",
              "                .geemap-colab .jupyter-button {\n",
              "                    --jp-layout-color3: var(--colab-primary-surface-color, white);\n",
              "                }\n",
              "            </style>\n",
              "            "
            ]
          },
          "metadata": {}
        }
      ],
      "source": [
        "from IPython.display import HTML, display\n",
        "\n",
        "def set_css():\n",
        "  display(HTML('''\n",
        "  <style>\n",
        "    pre {\n",
        "        white-space: pre-wrap;\n",
        "    }\n",
        "  </style>\n",
        "  '''))\n",
        "get_ipython().events.register('pre_run_cell', set_css)"
      ]
    },
    {
      "cell_type": "code",
      "execution_count": 3,
      "metadata": {
        "colab": {
          "base_uri": "https://localhost:8080/",
          "height": 0
        },
        "id": "rA6a0kJ_vVlx",
        "outputId": "64fb3417-3211-4b73-dd0c-14b9efc67a33"
      },
      "outputs": [
        {
          "output_type": "display_data",
          "data": {
            "text/plain": [
              "<IPython.core.display.HTML object>"
            ],
            "text/html": [
              "\n",
              "            <style>\n",
              "                .geemap-dark {\n",
              "                    --jp-widgets-color: white;\n",
              "                    --jp-widgets-label-color: white;\n",
              "                    --jp-ui-font-color1: white;\n",
              "                    --jp-layout-color2: #454545;\n",
              "                    background-color: #383838;\n",
              "                }\n",
              "\n",
              "                .geemap-dark .jupyter-button {\n",
              "                    --jp-layout-color3: #383838;\n",
              "                }\n",
              "\n",
              "                .geemap-colab {\n",
              "                    background-color: var(--colab-primary-surface-color, white);\n",
              "                }\n",
              "\n",
              "                .geemap-colab .jupyter-button {\n",
              "                    --jp-layout-color3: var(--colab-primary-surface-color, white);\n",
              "                }\n",
              "            </style>\n",
              "            "
            ]
          },
          "metadata": {}
        },
        {
          "output_type": "display_data",
          "data": {
            "text/plain": [
              "<IPython.core.display.HTML object>"
            ],
            "text/html": [
              "\n",
              "  <style>\n",
              "    pre {\n",
              "        white-space: pre-wrap;\n",
              "    }\n",
              "  </style>\n",
              "  "
            ]
          },
          "metadata": {}
        },
        {
          "output_type": "execute_result",
          "data": {
            "text/plain": [
              "{'CodeCell': {'cm_config': {'lineWrapping': True}}}"
            ]
          },
          "metadata": {},
          "execution_count": 3
        }
      ],
      "source": [
        "from notebook.services.config import ConfigManager\n",
        "c = ConfigManager()\n",
        "c.update('notebook', {\"CodeCell\": {\"cm_config\": {\"lineWrapping\": True}}})"
      ]
    },
    {
      "cell_type": "markdown",
      "metadata": {
        "id": "Y-irbNKunEq_"
      },
      "source": [
        "## Importing libraries"
      ]
    },
    {
      "cell_type": "code",
      "execution_count": 4,
      "metadata": {
        "id": "_4-yDqgnzPJv",
        "colab": {
          "base_uri": "https://localhost:8080/",
          "height": 17
        },
        "outputId": "ed260a41-4440-406f-870f-419f34dbf477"
      },
      "outputs": [
        {
          "output_type": "display_data",
          "data": {
            "text/plain": [
              "<IPython.core.display.HTML object>"
            ],
            "text/html": [
              "\n",
              "            <style>\n",
              "                .geemap-dark {\n",
              "                    --jp-widgets-color: white;\n",
              "                    --jp-widgets-label-color: white;\n",
              "                    --jp-ui-font-color1: white;\n",
              "                    --jp-layout-color2: #454545;\n",
              "                    background-color: #383838;\n",
              "                }\n",
              "\n",
              "                .geemap-dark .jupyter-button {\n",
              "                    --jp-layout-color3: #383838;\n",
              "                }\n",
              "\n",
              "                .geemap-colab {\n",
              "                    background-color: var(--colab-primary-surface-color, white);\n",
              "                }\n",
              "\n",
              "                .geemap-colab .jupyter-button {\n",
              "                    --jp-layout-color3: var(--colab-primary-surface-color, white);\n",
              "                }\n",
              "            </style>\n",
              "            "
            ]
          },
          "metadata": {}
        },
        {
          "output_type": "display_data",
          "data": {
            "text/plain": [
              "<IPython.core.display.HTML object>"
            ],
            "text/html": [
              "\n",
              "  <style>\n",
              "    pre {\n",
              "        white-space: pre-wrap;\n",
              "    }\n",
              "  </style>\n",
              "  "
            ]
          },
          "metadata": {}
        }
      ],
      "source": [
        "import math\n",
        "import altair as alt\n",
        "from datetime import datetime, timedelta\n",
        "from dateutil.relativedelta import relativedelta\n",
        "from pprint import pprint\n",
        "import geemap\n",
        "import matplotlib.pyplot as plt\n",
        "\n",
        "import numpy as np\n",
        "import pandas as pd\n",
        "from sklearn.model_selection import train_test_split\n",
        "from sklearn.linear_model import LinearRegression\n",
        "from sklearn.metrics import mean_squared_error, r2_score\n",
        "import xgboost as xgb\n",
        "import lightgbm as lgb\n",
        "import statsmodels.api as sm\n",
        "from scipy.stats import zscore"
      ]
    },
    {
      "cell_type": "markdown",
      "metadata": {
        "id": "8x1LzkIKnBiV"
      },
      "source": [
        "## Authentication and Initialization"
      ]
    },
    {
      "cell_type": "code",
      "execution_count": 5,
      "metadata": {
        "colab": {
          "base_uri": "https://localhost:8080/",
          "height": 0
        },
        "id": "QeNqqWarwa19",
        "outputId": "753eaef6-cffb-4873-cc78-20bec970d382"
      },
      "outputs": [
        {
          "output_type": "display_data",
          "data": {
            "text/plain": [
              "<IPython.core.display.HTML object>"
            ],
            "text/html": [
              "\n",
              "            <style>\n",
              "                .geemap-dark {\n",
              "                    --jp-widgets-color: white;\n",
              "                    --jp-widgets-label-color: white;\n",
              "                    --jp-ui-font-color1: white;\n",
              "                    --jp-layout-color2: #454545;\n",
              "                    background-color: #383838;\n",
              "                }\n",
              "\n",
              "                .geemap-dark .jupyter-button {\n",
              "                    --jp-layout-color3: #383838;\n",
              "                }\n",
              "\n",
              "                .geemap-colab {\n",
              "                    background-color: var(--colab-primary-surface-color, white);\n",
              "                }\n",
              "\n",
              "                .geemap-colab .jupyter-button {\n",
              "                    --jp-layout-color3: var(--colab-primary-surface-color, white);\n",
              "                }\n",
              "            </style>\n",
              "            "
            ]
          },
          "metadata": {}
        },
        {
          "output_type": "display_data",
          "data": {
            "text/plain": [
              "<IPython.core.display.HTML object>"
            ],
            "text/html": [
              "\n",
              "  <style>\n",
              "    pre {\n",
              "        white-space: pre-wrap;\n",
              "    }\n",
              "  </style>\n",
              "  "
            ]
          },
          "metadata": {}
        }
      ],
      "source": [
        "import ee\n",
        "ee.Authenticate()"
      ]
    },
    {
      "cell_type": "code",
      "execution_count": 6,
      "metadata": {
        "id": "aPPwMuxiJbvy",
        "colab": {
          "base_uri": "https://localhost:8080/",
          "height": 0
        },
        "outputId": "9a8e99ff-1c5f-480b-f2b9-9ad09668fb71"
      },
      "outputs": [
        {
          "output_type": "display_data",
          "data": {
            "text/plain": [
              "<IPython.core.display.HTML object>"
            ],
            "text/html": [
              "\n",
              "            <style>\n",
              "                .geemap-dark {\n",
              "                    --jp-widgets-color: white;\n",
              "                    --jp-widgets-label-color: white;\n",
              "                    --jp-ui-font-color1: white;\n",
              "                    --jp-layout-color2: #454545;\n",
              "                    background-color: #383838;\n",
              "                }\n",
              "\n",
              "                .geemap-dark .jupyter-button {\n",
              "                    --jp-layout-color3: #383838;\n",
              "                }\n",
              "\n",
              "                .geemap-colab {\n",
              "                    background-color: var(--colab-primary-surface-color, white);\n",
              "                }\n",
              "\n",
              "                .geemap-colab .jupyter-button {\n",
              "                    --jp-layout-color3: var(--colab-primary-surface-color, white);\n",
              "                }\n",
              "            </style>\n",
              "            "
            ]
          },
          "metadata": {}
        },
        {
          "output_type": "display_data",
          "data": {
            "text/plain": [
              "<IPython.core.display.HTML object>"
            ],
            "text/html": [
              "\n",
              "  <style>\n",
              "    pre {\n",
              "        white-space: pre-wrap;\n",
              "    }\n",
              "  </style>\n",
              "  "
            ]
          },
          "metadata": {}
        }
      ],
      "source": [
        "ee.Initialize(project='ee-anaad')"
      ]
    },
    {
      "cell_type": "markdown",
      "source": [
        "## Loading Random Forest (Landsat-8)"
      ],
      "metadata": {
        "id": "qkmerhlfD8H3"
      }
    },
    {
      "cell_type": "code",
      "source": [
        "def getFireMaskOldRandomForest(image):\n",
        "    asset_id = 'projects/ee-anaad/assets/Classifiers/random_forest_classifier' # 75-25\n",
        "    random_forest_classifier = ee.Classifier.load(asset_id)\n",
        "    return image.classify(random_forest_classifier).rename(['F'])"
      ],
      "metadata": {
        "colab": {
          "base_uri": "https://localhost:8080/",
          "height": 17
        },
        "id": "gjdyx9VgD5fr",
        "outputId": "1ee2e3a8-fd69-4cc0-c406-fd490a1c0534"
      },
      "execution_count": 7,
      "outputs": [
        {
          "output_type": "display_data",
          "data": {
            "text/plain": [
              "<IPython.core.display.HTML object>"
            ],
            "text/html": [
              "\n",
              "            <style>\n",
              "                .geemap-dark {\n",
              "                    --jp-widgets-color: white;\n",
              "                    --jp-widgets-label-color: white;\n",
              "                    --jp-ui-font-color1: white;\n",
              "                    --jp-layout-color2: #454545;\n",
              "                    background-color: #383838;\n",
              "                }\n",
              "\n",
              "                .geemap-dark .jupyter-button {\n",
              "                    --jp-layout-color3: #383838;\n",
              "                }\n",
              "\n",
              "                .geemap-colab {\n",
              "                    background-color: var(--colab-primary-surface-color, white);\n",
              "                }\n",
              "\n",
              "                .geemap-colab .jupyter-button {\n",
              "                    --jp-layout-color3: var(--colab-primary-surface-color, white);\n",
              "                }\n",
              "            </style>\n",
              "            "
            ]
          },
          "metadata": {}
        },
        {
          "output_type": "display_data",
          "data": {
            "text/plain": [
              "<IPython.core.display.HTML object>"
            ],
            "text/html": [
              "\n",
              "  <style>\n",
              "    pre {\n",
              "        white-space: pre-wrap;\n",
              "    }\n",
              "  </style>\n",
              "  "
            ]
          },
          "metadata": {}
        }
      ]
    },
    {
      "cell_type": "markdown",
      "source": [
        "# Time Series Analysis"
      ],
      "metadata": {
        "id": "TFN6tYBeGHIK"
      }
    },
    {
      "cell_type": "code",
      "source": [
        "district_boundaries = ee.FeatureCollection('projects/ee-anaad/assets/India_district_boundaries')\n",
        "aez_boundaries = ee.FeatureCollection('projects/ee-anaad/assets/India_AEZ_boundaries')\n",
        "block_boundaries = ee.FeatureCollection('projects/ee-anaad/assets/AEZ_mapped_block_boundaries')"
      ],
      "metadata": {
        "colab": {
          "base_uri": "https://localhost:8080/",
          "height": 17
        },
        "id": "WxN2gw7MEqMv",
        "outputId": "980141bb-4336-4583-ad0c-8e317c729938"
      },
      "execution_count": 8,
      "outputs": [
        {
          "output_type": "display_data",
          "data": {
            "text/plain": [
              "<IPython.core.display.HTML object>"
            ],
            "text/html": [
              "\n",
              "            <style>\n",
              "                .geemap-dark {\n",
              "                    --jp-widgets-color: white;\n",
              "                    --jp-widgets-label-color: white;\n",
              "                    --jp-ui-font-color1: white;\n",
              "                    --jp-layout-color2: #454545;\n",
              "                    background-color: #383838;\n",
              "                }\n",
              "\n",
              "                .geemap-dark .jupyter-button {\n",
              "                    --jp-layout-color3: #383838;\n",
              "                }\n",
              "\n",
              "                .geemap-colab {\n",
              "                    background-color: var(--colab-primary-surface-color, white);\n",
              "                }\n",
              "\n",
              "                .geemap-colab .jupyter-button {\n",
              "                    --jp-layout-color3: var(--colab-primary-surface-color, white);\n",
              "                }\n",
              "            </style>\n",
              "            "
            ]
          },
          "metadata": {}
        },
        {
          "output_type": "display_data",
          "data": {
            "text/plain": [
              "<IPython.core.display.HTML object>"
            ],
            "text/html": [
              "\n",
              "  <style>\n",
              "    pre {\n",
              "        white-space: pre-wrap;\n",
              "    }\n",
              "  </style>\n",
              "  "
            ]
          },
          "metadata": {}
        }
      ]
    },
    {
      "cell_type": "code",
      "source": [
        "# Run the code below to visualize AEZ boundaries\n",
        "Map = geemap.Map()\n",
        "Map.addLayerControl()\n",
        "\n",
        "Map.addLayer(aez_boundaries, {}, 'AEZs')\n",
        "Map.addLayer(block_boundaries, {}, 'Blocks')\n",
        "\n",
        "n = aez_boundaries.size().getInfo()\n",
        "aez_list = aez_boundaries.toList(n)\n",
        "for i in range(n):\n",
        "    aez = ee.Feature(aez_list.get(i))\n",
        "    Map.addLayer(aez, {}, 'aez'+str(aez.get('ae_regcode').getInfo()))\n",
        "\n",
        "Map"
      ],
      "metadata": {
        "colab": {
          "base_uri": "https://localhost:8080/",
          "height": 17
        },
        "id": "g2y5WWWpx7iS",
        "outputId": "574bccd7-7a57-4220-fefb-60cd9e15a4cc"
      },
      "execution_count": null,
      "outputs": [
        {
          "output_type": "display_data",
          "data": {
            "text/plain": [
              "<IPython.core.display.HTML object>"
            ],
            "text/html": [
              "\n",
              "  <style>\n",
              "    pre {\n",
              "        white-space: pre-wrap;\n",
              "    }\n",
              "  </style>\n",
              "  "
            ]
          },
          "metadata": {}
        },
        {
          "output_type": "display_data",
          "data": {
            "text/plain": [
              "<IPython.core.display.HTML object>"
            ],
            "text/html": [
              "\n",
              "            <style>\n",
              "                .geemap-dark {\n",
              "                    --jp-widgets-color: white;\n",
              "                    --jp-widgets-label-color: white;\n",
              "                    --jp-ui-font-color1: white;\n",
              "                    --jp-layout-color2: #454545;\n",
              "                    background-color: #383838;\n",
              "                }\n",
              "\n",
              "                .geemap-dark .jupyter-button {\n",
              "                    --jp-layout-color3: #383838;\n",
              "                }\n",
              "\n",
              "                .geemap-colab {\n",
              "                    background-color: var(--colab-primary-surface-color, white);\n",
              "                }\n",
              "\n",
              "                .geemap-colab .jupyter-button {\n",
              "                    --jp-layout-color3: var(--colab-primary-surface-color, white);\n",
              "                }\n",
              "            </style>\n",
              "            "
            ]
          },
          "metadata": {}
        }
      ]
    },
    {
      "cell_type": "markdown",
      "source": [
        "## Helper Functions"
      ],
      "metadata": {
        "id": "KusdGERVURdw"
      }
    },
    {
      "cell_type": "code",
      "source": [
        "bands_to_select = ['Tair_f_inst', 'Evap_tavg', 'Qair_f_inst', 'Rainf_f_tavg', 'SoilTMP0_10cm_inst', 'Wind_f_inst']\n",
        "bands_add = ['Evap_tavg', 'Rainf_f_tavg']\n",
        "bands_avg = ['Tair_f_inst', 'Qair_f_inst', 'SoilTMP0_10cm_inst', 'Wind_f_inst']\n",
        "\n",
        "def get_data_row(aoi_geo, landsatImagePrefix, date_object, method):\n",
        "    dict_row = {}\n",
        "\n",
        "    getFireMask = getFireMaskOldRandomForest\n",
        "\n",
        "    landsatImageId = landsatImagePrefix+date_object.strftime(\"%Y%m%d\")\n",
        "    try:\n",
        "        ee.data.getAsset(landsatImageId)\n",
        "    except ee.EEException:\n",
        "        print(landsatImageId, 'does not exist.')\n",
        "        return None\n",
        "    image = ee.Image(landsatImageId).clip(aoi_geo)\n",
        "    fire_mask = getFireMask(image)#.updateMask(forest_mask)\n",
        "    fire = fire_mask.updateMask(fire_mask)\n",
        "    fire_pixels = fire.reduceRegion(reducer = ee.Reducer.sum(), scale = 30, maxPixels = 1e8)\n",
        "    num_fires = ee.Number(fire_pixels.get('F')).getInfo()\n",
        "    # fire_vectors = fire.addBands(fire).reduceToVectors(\n",
        "    #     geometry = aoi_buffered,\n",
        "    #     scale = 30,\n",
        "    #     reducer = ee.Reducer.mean(),\n",
        "    #     maxPixels = 1e10\n",
        "    # )\n",
        "    # num_fires = fire_vectors.size().getInfo()\n",
        "    dict_row['Num_fires'] = num_fires\n",
        "\n",
        "    def get_climatic_data(ind):\n",
        "        start_date = (date_object+timedelta(days=ind)).strftime(\"%Y-%m-%d\")\n",
        "        end_date = (date_object+timedelta(days=ind+1)).strftime(\"%Y-%m-%d\")\n",
        "        ic = ee.ImageCollection(\"NASA/GLDAS/V021/NOAH/G025/T3H\")\\\n",
        "        .filterBounds(aoi_geo)\\\n",
        "        .filterDate(start_date, end_date)\n",
        "\n",
        "        image1 = ic.select(bands_avg).mean().clip(aoi_geo)\n",
        "        mean_values = image1.reduceRegion(reducer=ee.Reducer.mean(), geometry=aoi_geo)\n",
        "        values = mean_values.getInfo()\n",
        "        for key in values:\n",
        "            dict_row[key+str(ind)] = values[key]\n",
        "\n",
        "        image2 = ic.select(bands_add).sum().clip(aoi_geo)\n",
        "        mean_values = image2.reduceRegion(reducer=ee.Reducer.mean(), geometry=aoi_geo)\n",
        "        values = mean_values.getInfo()\n",
        "        for key in values:\n",
        "            dict_row[key+str(ind)] = values[key]*86400\n",
        "\n",
        "    for ind in range(3):\n",
        "        get_climatic_data(ind)\n",
        "\n",
        "    return dict_row\n",
        "\n",
        "\n",
        "def get_data_matrix(aoi, start_date, end_date, method):\n",
        "    dict_rows = []\n",
        "    aoi_geo = aoi.geometry()\n",
        "\n",
        "    landsatImageCollection = ee.ImageCollection(\"LANDSAT/LC08/C02/T1_TOA\")\\\n",
        "        .filterBounds(aoi_geo)\\\n",
        "        .filterDate(start_date, (datetime.strptime(start_date, \"%Y-%m-%d\")+timedelta(days=16)).strftime(\"%Y-%m-%d\"))\n",
        "    while(landsatImageCollection.size().getInfo() == 0):\n",
        "        start_date = (datetime.strptime(start_date, \"%Y-%m-%d\")+timedelta(days=16)).strftime(\"%Y-%m-%d\")\n",
        "        landsatImageCollection = ee.ImageCollection(\"LANDSAT/LC08/C02/T1_TOA\")\\\n",
        "        .filterBounds(aoi_geo)\\\n",
        "        .filterDate(start_date, (datetime.strptime(start_date, \"%Y-%m-%d\")+timedelta(days=16)).strftime(\"%Y-%m-%d\"))\n",
        "\n",
        "    n = landsatImageCollection.size().getInfo()\n",
        "    landsatImageList = ee.List(landsatImageCollection.toList(n))\n",
        "    max_intersection_area = 0\n",
        "    landsatImageId = None\n",
        "    for i in range(n):\n",
        "        landsatImage = ee.Image(landsatImageList.get(i))\n",
        "        intersection_area = landsatImage.geometry().intersection(aoi_geo).area().getInfo()\n",
        "        if intersection_area > max_intersection_area:\n",
        "            max_intersection_area = intersection_area\n",
        "            landsatImageId = landsatImage.id().getInfo()\n",
        "    date_string = landsatImageId[-8:]\n",
        "    date_object = datetime.strptime(date_string, \"%Y%m%d\")\n",
        "    end_date = datetime.strptime(end_date, \"%Y-%m-%d\")\n",
        "    landsatImagePrefix = 'LANDSAT/LC08/C02/T1_TOA/'+landsatImageId[:11]+'_'\n",
        "\n",
        "    adi = aoi.get('ADI 2019').getInfo()\n",
        "    while date_object < end_date:\n",
        "        dict_row = get_data_row(aoi_geo, landsatImagePrefix, date_object, method)\n",
        "        if dict_row != None:\n",
        "            dict_row['ADI'] = adi\n",
        "            dict_rows.append(dict_row)\n",
        "        date_object = date_object+timedelta(days=16)\n",
        "\n",
        "    return pd.DataFrame(dict_rows)\n",
        "\n",
        "# Use like this\n",
        "# block = block_boundaries.filter(ee.Filter.eq('Subdistric', 'Masalia')).first()\n",
        "# block_data = get_data_matrix(block, '2019-07-01', '2019-07-31', 'OldRandomForest')"
      ],
      "metadata": {
        "colab": {
          "base_uri": "https://localhost:8080/",
          "height": 17
        },
        "id": "-Bhc2WolH95t",
        "outputId": "43db3147-b7c8-428c-9b9a-6577e56fcd33"
      },
      "execution_count": 15,
      "outputs": [
        {
          "output_type": "display_data",
          "data": {
            "text/plain": [
              "<IPython.core.display.HTML object>"
            ],
            "text/html": [
              "\n",
              "            <style>\n",
              "                .geemap-dark {\n",
              "                    --jp-widgets-color: white;\n",
              "                    --jp-widgets-label-color: white;\n",
              "                    --jp-ui-font-color1: white;\n",
              "                    --jp-layout-color2: #454545;\n",
              "                    background-color: #383838;\n",
              "                }\n",
              "\n",
              "                .geemap-dark .jupyter-button {\n",
              "                    --jp-layout-color3: #383838;\n",
              "                }\n",
              "\n",
              "                .geemap-colab {\n",
              "                    background-color: var(--colab-primary-surface-color, white);\n",
              "                }\n",
              "\n",
              "                .geemap-colab .jupyter-button {\n",
              "                    --jp-layout-color3: var(--colab-primary-surface-color, white);\n",
              "                }\n",
              "            </style>\n",
              "            "
            ]
          },
          "metadata": {}
        },
        {
          "output_type": "display_data",
          "data": {
            "text/plain": [
              "<IPython.core.display.HTML object>"
            ],
            "text/html": [
              "\n",
              "  <style>\n",
              "    pre {\n",
              "        white-space: pre-wrap;\n",
              "    }\n",
              "  </style>\n",
              "  "
            ]
          },
          "metadata": {}
        }
      ]
    },
    {
      "cell_type": "markdown",
      "source": [
        "## Testing"
      ],
      "metadata": {
        "id": "SAq3NL73UWU0"
      }
    },
    {
      "cell_type": "code",
      "source": [
        "blocks = block_boundaries.filter(ee.Filter.eq('aez_id', 12))\n",
        "\n",
        "sampled_blocks = blocks.randomColumn()\n",
        "sampled_blocks = sampled_blocks.filter('random < 0.03')\n",
        "display(sampled_blocks)"
      ],
      "metadata": {
        "id": "Jye9jIBMeoTf"
      },
      "execution_count": null,
      "outputs": []
    },
    {
      "cell_type": "code",
      "source": [
        "start_date = '2019-07-01'\n",
        "end_date = '2022-07-01'\n",
        "Map = geemap.Map()\n",
        "Map.addLayerControl()\n",
        "Map"
      ],
      "metadata": {
        "id": "EANzQ83Mh9xr"
      },
      "execution_count": null,
      "outputs": []
    },
    {
      "cell_type": "code",
      "source": [
        "data = pd.DataFrame()\n",
        "\n",
        "b = sampled_blocks.size().getInfo()\n",
        "print(b)\n",
        "blocks_list = sampled_blocks.toList(b)\n",
        "for i in range(b):\n",
        "    block = ee.Feature(blocks_list.get(i))\n",
        "    print(block.get('Subdistric').getInfo())\n",
        "    Map.addLayer(block, {}, 'block'+str(i))\n",
        "    print('Generating data for block ....')\n",
        "    block_data = get_data_matrix(block, '2019-07-01', '2022-07-01', 'OldRandomForest')\n",
        "    print('done')\n",
        "    data = pd.concat([data, block_data], ignore_index=True)"
      ],
      "metadata": {
        "id": "PlN5cW32iCH5"
      },
      "execution_count": null,
      "outputs": []
    },
    {
      "cell_type": "code",
      "source": [
        "positive_data = data[data['Num_fires'] > 0]\n",
        "zero_data = data[data['Num_fires'] == 0]\n",
        "zero_data = zero_data.sample(n = len(positive_data)).reset_index(drop=True)\n",
        "balanced_data = pd.concat([positive_data, zero_data], ignore_index=True, sort=False)\n",
        "balanced_data_z = balanced_data.apply(zscore)"
      ],
      "metadata": {
        "colab": {
          "base_uri": "https://localhost:8080/",
          "height": 17
        },
        "id": "pZ9ESa-SjkFD",
        "outputId": "5386a6e4-8d2b-42d7-f14f-00758d1bad48"
      },
      "execution_count": null,
      "outputs": [
        {
          "output_type": "display_data",
          "data": {
            "text/plain": [
              "<IPython.core.display.HTML object>"
            ],
            "text/html": [
              "\n",
              "  <style>\n",
              "    pre {\n",
              "        white-space: pre-wrap;\n",
              "    }\n",
              "  </style>\n",
              "  "
            ]
          },
          "metadata": {}
        },
        {
          "output_type": "display_data",
          "data": {
            "text/plain": [
              "<IPython.core.display.HTML object>"
            ],
            "text/html": [
              "\n",
              "            <style>\n",
              "                .geemap-dark {\n",
              "                    --jp-widgets-color: white;\n",
              "                    --jp-widgets-label-color: white;\n",
              "                    --jp-ui-font-color1: white;\n",
              "                    --jp-layout-color2: #454545;\n",
              "                    background-color: #383838;\n",
              "                }\n",
              "\n",
              "                .geemap-dark .jupyter-button {\n",
              "                    --jp-layout-color3: #383838;\n",
              "                }\n",
              "\n",
              "                .geemap-colab {\n",
              "                    background-color: var(--colab-primary-surface-color, white);\n",
              "                }\n",
              "\n",
              "                .geemap-colab .jupyter-button {\n",
              "                    --jp-layout-color3: var(--colab-primary-surface-color, white);\n",
              "                }\n",
              "            </style>\n",
              "            "
            ]
          },
          "metadata": {}
        }
      ]
    }
  ]
}